{
 "metadata": {
  "language_info": {
   "codemirror_mode": {
    "name": "ipython",
    "version": 3
   },
   "file_extension": ".py",
   "mimetype": "text/x-python",
   "name": "python",
   "nbconvert_exporter": "python",
   "pygments_lexer": "ipython3",
   "version": "3.7.7-final"
  },
  "orig_nbformat": 2,
  "kernelspec": {
   "name": "python377jvsc74a57bd08cb48ee34b52abbc0c4c6c9a8d1e18bbd374f2d1391cafbd22bf8a5424951de7",
   "display_name": "Python 3.7.7 64-bit ('base': conda)"
  }
 },
 "nbformat": 4,
 "nbformat_minor": 2,
 "cells": [
  {
   "cell_type": "code",
   "execution_count": 1,
   "metadata": {},
   "outputs": [],
   "source": [
    "import numpy as np\n",
    "import pandas as pd\n",
    "import matplotlib.pyplot as plt\n",
    "import seaborn as sns\n",
    "\n",
    "import helperFunctions\n",
    "\n",
    "from collections import Counter"
   ]
  },
  {
   "cell_type": "code",
   "execution_count": 2,
   "metadata": {},
   "outputs": [],
   "source": [
    "# read the train and test csv files\n",
    "train_df = pd.read_csv('original_data/train.csv')\n",
    "test_df = pd.read_csv('original_data/test-3.csv', index_col='index') # no need to read the index column"
   ]
  },
  {
   "source": [
    "## Data Exploration, Data Cleaning"
   ],
   "cell_type": "markdown",
   "metadata": {}
  },
  {
   "source": [
    "Let us examine the dataframes and their columns"
   ],
   "cell_type": "markdown",
   "metadata": {}
  },
  {
   "cell_type": "code",
   "execution_count": 3,
   "metadata": {},
   "outputs": [
    {
     "output_type": "execute_result",
     "data": {
      "text/plain": [
       "         AC    AF   AR    AS  AST   AY       AwayTeam      Date FTR    HC  \\\n",
       "0       3.0  12.0  0.0  14.0  4.0  0.0      Stuttgart  07/08/09   H   6.0   \n",
       "1       1.0  10.0  0.0   7.0  0.0  1.0        FC Koln  08/08/09   H  16.0   \n",
       "2       3.0  20.0  0.0  15.0  3.0  2.0       Hannover  08/08/09   H   5.0   \n",
       "3      10.0  28.0  0.0   9.0  3.0  2.0  Bayern Munich  08/08/09   D   3.0   \n",
       "4       5.0  28.0  0.0  13.0  7.0  2.0     Leverkusen  08/08/09   D   3.0   \n",
       "...     ...   ...  ...   ...  ...  ...            ...       ...  ..   ...   \n",
       "12784   7.0   1.0  0.0  17.0  4.0  1.0        Udinese  28/05/17   H   6.0   \n",
       "12785   7.0  16.0  0.0  17.0  4.0  4.0         Empoli  28/05/17   H   0.0   \n",
       "12786   2.0  14.0  0.0  13.0  4.0  0.0          Genoa  28/05/17   H   6.0   \n",
       "12787  10.0   8.0  0.0  22.0  7.0  0.0         Napoli  28/05/17   A   5.0   \n",
       "12788  10.0   6.0  0.0  21.0  7.0  0.0       Sassuolo  28/05/17   H   6.0   \n",
       "\n",
       "         HF   HR    HS   HST  HTAG  HTHG   HY    HomeTeam      league  \n",
       "0      12.0  0.0  13.0   7.0   0.0   0.0  0.0   Wolfsburg  bundesliga  \n",
       "1       8.0  0.0  24.0  11.0   0.0   0.0  0.0    Dortmund  bundesliga  \n",
       "2      16.0  0.0  10.0   4.0   0.0   0.0  3.0      Hertha  bundesliga  \n",
       "3      10.0  0.0   9.0   1.0   1.0   1.0  0.0  Hoffenheim  bundesliga  \n",
       "4      22.0  0.0   8.0   4.0   2.0   1.0  1.0       Mainz  bundesliga  \n",
       "...     ...  ...   ...   ...   ...   ...  ...         ...         ...  \n",
       "12784  15.0  0.0  17.0   6.0   0.0   3.0  2.0       Inter     serie-a  \n",
       "12785  18.0  0.0  10.0   5.0   0.0   0.0  3.0     Palermo     serie-a  \n",
       "12786   8.0  0.0  24.0   7.0   1.0   1.0  2.0        Roma     serie-a  \n",
       "12787   9.0  0.0  12.0   2.0   2.0   0.0  1.0   Sampdoria     serie-a  \n",
       "12788  16.0  0.0  16.0   9.0   2.0   3.0  2.0      Torino     serie-a  \n",
       "\n",
       "[12789 rows x 19 columns]"
      ],
      "text/html": "<div>\n<style scoped>\n    .dataframe tbody tr th:only-of-type {\n        vertical-align: middle;\n    }\n\n    .dataframe tbody tr th {\n        vertical-align: top;\n    }\n\n    .dataframe thead th {\n        text-align: right;\n    }\n</style>\n<table border=\"1\" class=\"dataframe\">\n  <thead>\n    <tr style=\"text-align: right;\">\n      <th></th>\n      <th>AC</th>\n      <th>AF</th>\n      <th>AR</th>\n      <th>AS</th>\n      <th>AST</th>\n      <th>AY</th>\n      <th>AwayTeam</th>\n      <th>Date</th>\n      <th>FTR</th>\n      <th>HC</th>\n      <th>HF</th>\n      <th>HR</th>\n      <th>HS</th>\n      <th>HST</th>\n      <th>HTAG</th>\n      <th>HTHG</th>\n      <th>HY</th>\n      <th>HomeTeam</th>\n      <th>league</th>\n    </tr>\n  </thead>\n  <tbody>\n    <tr>\n      <th>0</th>\n      <td>3.0</td>\n      <td>12.0</td>\n      <td>0.0</td>\n      <td>14.0</td>\n      <td>4.0</td>\n      <td>0.0</td>\n      <td>Stuttgart</td>\n      <td>07/08/09</td>\n      <td>H</td>\n      <td>6.0</td>\n      <td>12.0</td>\n      <td>0.0</td>\n      <td>13.0</td>\n      <td>7.0</td>\n      <td>0.0</td>\n      <td>0.0</td>\n      <td>0.0</td>\n      <td>Wolfsburg</td>\n      <td>bundesliga</td>\n    </tr>\n    <tr>\n      <th>1</th>\n      <td>1.0</td>\n      <td>10.0</td>\n      <td>0.0</td>\n      <td>7.0</td>\n      <td>0.0</td>\n      <td>1.0</td>\n      <td>FC Koln</td>\n      <td>08/08/09</td>\n      <td>H</td>\n      <td>16.0</td>\n      <td>8.0</td>\n      <td>0.0</td>\n      <td>24.0</td>\n      <td>11.0</td>\n      <td>0.0</td>\n      <td>0.0</td>\n      <td>0.0</td>\n      <td>Dortmund</td>\n      <td>bundesliga</td>\n    </tr>\n    <tr>\n      <th>2</th>\n      <td>3.0</td>\n      <td>20.0</td>\n      <td>0.0</td>\n      <td>15.0</td>\n      <td>3.0</td>\n      <td>2.0</td>\n      <td>Hannover</td>\n      <td>08/08/09</td>\n      <td>H</td>\n      <td>5.0</td>\n      <td>16.0</td>\n      <td>0.0</td>\n      <td>10.0</td>\n      <td>4.0</td>\n      <td>0.0</td>\n      <td>0.0</td>\n      <td>3.0</td>\n      <td>Hertha</td>\n      <td>bundesliga</td>\n    </tr>\n    <tr>\n      <th>3</th>\n      <td>10.0</td>\n      <td>28.0</td>\n      <td>0.0</td>\n      <td>9.0</td>\n      <td>3.0</td>\n      <td>2.0</td>\n      <td>Bayern Munich</td>\n      <td>08/08/09</td>\n      <td>D</td>\n      <td>3.0</td>\n      <td>10.0</td>\n      <td>0.0</td>\n      <td>9.0</td>\n      <td>1.0</td>\n      <td>1.0</td>\n      <td>1.0</td>\n      <td>0.0</td>\n      <td>Hoffenheim</td>\n      <td>bundesliga</td>\n    </tr>\n    <tr>\n      <th>4</th>\n      <td>5.0</td>\n      <td>28.0</td>\n      <td>0.0</td>\n      <td>13.0</td>\n      <td>7.0</td>\n      <td>2.0</td>\n      <td>Leverkusen</td>\n      <td>08/08/09</td>\n      <td>D</td>\n      <td>3.0</td>\n      <td>22.0</td>\n      <td>0.0</td>\n      <td>8.0</td>\n      <td>4.0</td>\n      <td>2.0</td>\n      <td>1.0</td>\n      <td>1.0</td>\n      <td>Mainz</td>\n      <td>bundesliga</td>\n    </tr>\n    <tr>\n      <th>...</th>\n      <td>...</td>\n      <td>...</td>\n      <td>...</td>\n      <td>...</td>\n      <td>...</td>\n      <td>...</td>\n      <td>...</td>\n      <td>...</td>\n      <td>...</td>\n      <td>...</td>\n      <td>...</td>\n      <td>...</td>\n      <td>...</td>\n      <td>...</td>\n      <td>...</td>\n      <td>...</td>\n      <td>...</td>\n      <td>...</td>\n      <td>...</td>\n    </tr>\n    <tr>\n      <th>12784</th>\n      <td>7.0</td>\n      <td>1.0</td>\n      <td>0.0</td>\n      <td>17.0</td>\n      <td>4.0</td>\n      <td>1.0</td>\n      <td>Udinese</td>\n      <td>28/05/17</td>\n      <td>H</td>\n      <td>6.0</td>\n      <td>15.0</td>\n      <td>0.0</td>\n      <td>17.0</td>\n      <td>6.0</td>\n      <td>0.0</td>\n      <td>3.0</td>\n      <td>2.0</td>\n      <td>Inter</td>\n      <td>serie-a</td>\n    </tr>\n    <tr>\n      <th>12785</th>\n      <td>7.0</td>\n      <td>16.0</td>\n      <td>0.0</td>\n      <td>17.0</td>\n      <td>4.0</td>\n      <td>4.0</td>\n      <td>Empoli</td>\n      <td>28/05/17</td>\n      <td>H</td>\n      <td>0.0</td>\n      <td>18.0</td>\n      <td>0.0</td>\n      <td>10.0</td>\n      <td>5.0</td>\n      <td>0.0</td>\n      <td>0.0</td>\n      <td>3.0</td>\n      <td>Palermo</td>\n      <td>serie-a</td>\n    </tr>\n    <tr>\n      <th>12786</th>\n      <td>2.0</td>\n      <td>14.0</td>\n      <td>0.0</td>\n      <td>13.0</td>\n      <td>4.0</td>\n      <td>0.0</td>\n      <td>Genoa</td>\n      <td>28/05/17</td>\n      <td>H</td>\n      <td>6.0</td>\n      <td>8.0</td>\n      <td>0.0</td>\n      <td>24.0</td>\n      <td>7.0</td>\n      <td>1.0</td>\n      <td>1.0</td>\n      <td>2.0</td>\n      <td>Roma</td>\n      <td>serie-a</td>\n    </tr>\n    <tr>\n      <th>12787</th>\n      <td>10.0</td>\n      <td>8.0</td>\n      <td>0.0</td>\n      <td>22.0</td>\n      <td>7.0</td>\n      <td>0.0</td>\n      <td>Napoli</td>\n      <td>28/05/17</td>\n      <td>A</td>\n      <td>5.0</td>\n      <td>9.0</td>\n      <td>0.0</td>\n      <td>12.0</td>\n      <td>2.0</td>\n      <td>2.0</td>\n      <td>0.0</td>\n      <td>1.0</td>\n      <td>Sampdoria</td>\n      <td>serie-a</td>\n    </tr>\n    <tr>\n      <th>12788</th>\n      <td>10.0</td>\n      <td>6.0</td>\n      <td>0.0</td>\n      <td>21.0</td>\n      <td>7.0</td>\n      <td>0.0</td>\n      <td>Sassuolo</td>\n      <td>28/05/17</td>\n      <td>H</td>\n      <td>6.0</td>\n      <td>16.0</td>\n      <td>0.0</td>\n      <td>16.0</td>\n      <td>9.0</td>\n      <td>2.0</td>\n      <td>3.0</td>\n      <td>2.0</td>\n      <td>Torino</td>\n      <td>serie-a</td>\n    </tr>\n  </tbody>\n</table>\n<p>12789 rows × 19 columns</p>\n</div>"
     },
     "metadata": {},
     "execution_count": 3
    }
   ],
   "source": [
    "train_df"
   ]
  },
  {
   "cell_type": "code",
   "execution_count": 4,
   "metadata": {},
   "outputs": [
    {
     "output_type": "execute_result",
     "data": {
      "text/plain": [
       "       AC  AF  AR  AS  AST  AY       AwayTeam      Date  HC  HF  HR  HS  HST  \\\n",
       "index                                                                          \n",
       "0       5  17   0  19    4   2     Leverkusen  18/08/17   4  13   0  13    8   \n",
       "1       7  16   0  13    1   3       Augsburg  19/08/17   3  18   0  11    5   \n",
       "2       1  12   0   9    2   1      Stuttgart  19/08/17   5  18   0  10    3   \n",
       "3       4  15   0  11    2   3  Werder Bremen  19/08/17   6  17   0  14    3   \n",
       "4       1  14   0   6    2   5       Hannover  19/08/17  13  18   0  14    6   \n",
       "...    ..  ..  ..  ..  ...  ..            ...       ...  ..  ..  ..  ..  ...   \n",
       "375     1   5   1   9    3   1     Fiorentina  20/05/18   6  10   0  18   11   \n",
       "376     9   9   0   9    4   0        Crotone  20/05/18   6   3   0  19    9   \n",
       "377     9   8   0  15    6   1           Roma  20/05/18   5  14   0  16    3   \n",
       "378     3  11   0   9    3   4      Sampdoria  20/05/18   5  10   0  16    6   \n",
       "379     2  11   0   8    5   2        Bologna  20/05/18  10   9   0  20    5   \n",
       "\n",
       "       HTAG  HTHG  HY       HomeTeam Referee      league  \n",
       "index                                                     \n",
       "0         0     2   1  Bayern Munich     NaN  bundesliga  \n",
       "1         0     1   4        Hamburg     NaN  bundesliga  \n",
       "2         0     0   2         Hertha     NaN  bundesliga  \n",
       "3         0     0   1     Hoffenheim     NaN  bundesliga  \n",
       "4         0     0   3          Mainz     NaN  bundesliga  \n",
       "...     ...   ...  ..            ...     ...         ...  \n",
       "375       1     2   2          Milan     NaN     serie-a  \n",
       "376       0     2   0         Napoli     NaN     serie-a  \n",
       "377       1     0   1       Sassuolo     NaN     serie-a  \n",
       "378       0     1   1           Spal     NaN     serie-a  \n",
       "379       0     1   0        Udinese     NaN     serie-a  \n",
       "\n",
       "[1826 rows x 19 columns]"
      ],
      "text/html": "<div>\n<style scoped>\n    .dataframe tbody tr th:only-of-type {\n        vertical-align: middle;\n    }\n\n    .dataframe tbody tr th {\n        vertical-align: top;\n    }\n\n    .dataframe thead th {\n        text-align: right;\n    }\n</style>\n<table border=\"1\" class=\"dataframe\">\n  <thead>\n    <tr style=\"text-align: right;\">\n      <th></th>\n      <th>AC</th>\n      <th>AF</th>\n      <th>AR</th>\n      <th>AS</th>\n      <th>AST</th>\n      <th>AY</th>\n      <th>AwayTeam</th>\n      <th>Date</th>\n      <th>HC</th>\n      <th>HF</th>\n      <th>HR</th>\n      <th>HS</th>\n      <th>HST</th>\n      <th>HTAG</th>\n      <th>HTHG</th>\n      <th>HY</th>\n      <th>HomeTeam</th>\n      <th>Referee</th>\n      <th>league</th>\n    </tr>\n    <tr>\n      <th>index</th>\n      <th></th>\n      <th></th>\n      <th></th>\n      <th></th>\n      <th></th>\n      <th></th>\n      <th></th>\n      <th></th>\n      <th></th>\n      <th></th>\n      <th></th>\n      <th></th>\n      <th></th>\n      <th></th>\n      <th></th>\n      <th></th>\n      <th></th>\n      <th></th>\n      <th></th>\n    </tr>\n  </thead>\n  <tbody>\n    <tr>\n      <th>0</th>\n      <td>5</td>\n      <td>17</td>\n      <td>0</td>\n      <td>19</td>\n      <td>4</td>\n      <td>2</td>\n      <td>Leverkusen</td>\n      <td>18/08/17</td>\n      <td>4</td>\n      <td>13</td>\n      <td>0</td>\n      <td>13</td>\n      <td>8</td>\n      <td>0</td>\n      <td>2</td>\n      <td>1</td>\n      <td>Bayern Munich</td>\n      <td>NaN</td>\n      <td>bundesliga</td>\n    </tr>\n    <tr>\n      <th>1</th>\n      <td>7</td>\n      <td>16</td>\n      <td>0</td>\n      <td>13</td>\n      <td>1</td>\n      <td>3</td>\n      <td>Augsburg</td>\n      <td>19/08/17</td>\n      <td>3</td>\n      <td>18</td>\n      <td>0</td>\n      <td>11</td>\n      <td>5</td>\n      <td>0</td>\n      <td>1</td>\n      <td>4</td>\n      <td>Hamburg</td>\n      <td>NaN</td>\n      <td>bundesliga</td>\n    </tr>\n    <tr>\n      <th>2</th>\n      <td>1</td>\n      <td>12</td>\n      <td>0</td>\n      <td>9</td>\n      <td>2</td>\n      <td>1</td>\n      <td>Stuttgart</td>\n      <td>19/08/17</td>\n      <td>5</td>\n      <td>18</td>\n      <td>0</td>\n      <td>10</td>\n      <td>3</td>\n      <td>0</td>\n      <td>0</td>\n      <td>2</td>\n      <td>Hertha</td>\n      <td>NaN</td>\n      <td>bundesliga</td>\n    </tr>\n    <tr>\n      <th>3</th>\n      <td>4</td>\n      <td>15</td>\n      <td>0</td>\n      <td>11</td>\n      <td>2</td>\n      <td>3</td>\n      <td>Werder Bremen</td>\n      <td>19/08/17</td>\n      <td>6</td>\n      <td>17</td>\n      <td>0</td>\n      <td>14</td>\n      <td>3</td>\n      <td>0</td>\n      <td>0</td>\n      <td>1</td>\n      <td>Hoffenheim</td>\n      <td>NaN</td>\n      <td>bundesliga</td>\n    </tr>\n    <tr>\n      <th>4</th>\n      <td>1</td>\n      <td>14</td>\n      <td>0</td>\n      <td>6</td>\n      <td>2</td>\n      <td>5</td>\n      <td>Hannover</td>\n      <td>19/08/17</td>\n      <td>13</td>\n      <td>18</td>\n      <td>0</td>\n      <td>14</td>\n      <td>6</td>\n      <td>0</td>\n      <td>0</td>\n      <td>3</td>\n      <td>Mainz</td>\n      <td>NaN</td>\n      <td>bundesliga</td>\n    </tr>\n    <tr>\n      <th>...</th>\n      <td>...</td>\n      <td>...</td>\n      <td>...</td>\n      <td>...</td>\n      <td>...</td>\n      <td>...</td>\n      <td>...</td>\n      <td>...</td>\n      <td>...</td>\n      <td>...</td>\n      <td>...</td>\n      <td>...</td>\n      <td>...</td>\n      <td>...</td>\n      <td>...</td>\n      <td>...</td>\n      <td>...</td>\n      <td>...</td>\n      <td>...</td>\n    </tr>\n    <tr>\n      <th>375</th>\n      <td>1</td>\n      <td>5</td>\n      <td>1</td>\n      <td>9</td>\n      <td>3</td>\n      <td>1</td>\n      <td>Fiorentina</td>\n      <td>20/05/18</td>\n      <td>6</td>\n      <td>10</td>\n      <td>0</td>\n      <td>18</td>\n      <td>11</td>\n      <td>1</td>\n      <td>2</td>\n      <td>2</td>\n      <td>Milan</td>\n      <td>NaN</td>\n      <td>serie-a</td>\n    </tr>\n    <tr>\n      <th>376</th>\n      <td>9</td>\n      <td>9</td>\n      <td>0</td>\n      <td>9</td>\n      <td>4</td>\n      <td>0</td>\n      <td>Crotone</td>\n      <td>20/05/18</td>\n      <td>6</td>\n      <td>3</td>\n      <td>0</td>\n      <td>19</td>\n      <td>9</td>\n      <td>0</td>\n      <td>2</td>\n      <td>0</td>\n      <td>Napoli</td>\n      <td>NaN</td>\n      <td>serie-a</td>\n    </tr>\n    <tr>\n      <th>377</th>\n      <td>9</td>\n      <td>8</td>\n      <td>0</td>\n      <td>15</td>\n      <td>6</td>\n      <td>1</td>\n      <td>Roma</td>\n      <td>20/05/18</td>\n      <td>5</td>\n      <td>14</td>\n      <td>0</td>\n      <td>16</td>\n      <td>3</td>\n      <td>1</td>\n      <td>0</td>\n      <td>1</td>\n      <td>Sassuolo</td>\n      <td>NaN</td>\n      <td>serie-a</td>\n    </tr>\n    <tr>\n      <th>378</th>\n      <td>3</td>\n      <td>11</td>\n      <td>0</td>\n      <td>9</td>\n      <td>3</td>\n      <td>4</td>\n      <td>Sampdoria</td>\n      <td>20/05/18</td>\n      <td>5</td>\n      <td>10</td>\n      <td>0</td>\n      <td>16</td>\n      <td>6</td>\n      <td>0</td>\n      <td>1</td>\n      <td>1</td>\n      <td>Spal</td>\n      <td>NaN</td>\n      <td>serie-a</td>\n    </tr>\n    <tr>\n      <th>379</th>\n      <td>2</td>\n      <td>11</td>\n      <td>0</td>\n      <td>8</td>\n      <td>5</td>\n      <td>2</td>\n      <td>Bologna</td>\n      <td>20/05/18</td>\n      <td>10</td>\n      <td>9</td>\n      <td>0</td>\n      <td>20</td>\n      <td>5</td>\n      <td>0</td>\n      <td>1</td>\n      <td>0</td>\n      <td>Udinese</td>\n      <td>NaN</td>\n      <td>serie-a</td>\n    </tr>\n  </tbody>\n</table>\n<p>1826 rows × 19 columns</p>\n</div>"
     },
     "metadata": {},
     "execution_count": 4
    }
   ],
   "source": [
    "test_df"
   ]
  },
  {
   "cell_type": "code",
   "execution_count": 5,
   "metadata": {},
   "outputs": [
    {
     "output_type": "execute_result",
     "data": {
      "text/plain": [
       "Index(['AC', 'AF', 'AR', 'AS', 'AST', 'AY', 'AwayTeam', 'Date', 'FTR', 'HC',\n",
       "       'HF', 'HR', 'HS', 'HST', 'HTAG', 'HTHG', 'HY', 'HomeTeam', 'league'],\n",
       "      dtype='object')"
      ]
     },
     "metadata": {},
     "execution_count": 5
    }
   ],
   "source": [
    "train_df.columns"
   ]
  },
  {
   "cell_type": "code",
   "execution_count": 6,
   "metadata": {},
   "outputs": [
    {
     "output_type": "execute_result",
     "data": {
      "text/plain": [
       "Index(['AC', 'AF', 'AR', 'AS', 'AST', 'AY', 'AwayTeam', 'Date', 'HC', 'HF',\n",
       "       'HR', 'HS', 'HST', 'HTAG', 'HTHG', 'HY', 'HomeTeam', 'Referee',\n",
       "       'league'],\n",
       "      dtype='object')"
      ]
     },
     "metadata": {},
     "execution_count": 6
    }
   ],
   "source": [
    "test_df.columns"
   ]
  },
  {
   "cell_type": "code",
   "execution_count": 7,
   "metadata": {},
   "outputs": [
    {
     "output_type": "stream",
     "name": "stdout",
     "text": [
      "Number of columns in train_df = 19\nNumber of columns in test_df = 19\n"
     ]
    }
   ],
   "source": [
    "print(f\"Number of columns in train_df = {len(train_df.columns)}\")\n",
    "print(f\"Number of columns in test_df = {len(test_df.columns)}\")"
   ]
  },
  {
   "source": [
    "At first glance, there is a `Referee` column in the `test_df` i.e. the test dataset, which is not there in the `train_df` i.e. train dataset.\n",
    "In the `train_df`, the FTR (what we should predict) appears but not in the test df, as it should.  \n",
    "\n",
    "Let us find out if there are more such columns."
   ],
   "cell_type": "markdown",
   "metadata": {}
  },
  {
   "cell_type": "code",
   "execution_count": 8,
   "metadata": {},
   "outputs": [
    {
     "output_type": "stream",
     "name": "stdout",
     "text": [
      "['AC', 'AF', 'AR', 'AS', 'AST', 'AY', 'AwayTeam', 'Date', 'HC', 'HF', 'HR', 'HS', 'HST', 'HTAG', 'HTHG', 'HY', 'HomeTeam', 'league'] i.e. 18 columns are common between train_df and test_df\n"
     ]
    }
   ],
   "source": [
    "commonColumns = set(list(train_df.columns)).intersection(set(list(test_df.columns))) # between train and test dataframes\n",
    "print(sorted(commonColumns), f\"i.e. {len(commonColumns)} columns are common between train_df and test_df\")"
   ]
  },
  {
   "cell_type": "code",
   "execution_count": 9,
   "metadata": {},
   "outputs": [
    {
     "output_type": "execute_result",
     "data": {
      "text/plain": [
       "{'FTR'}"
      ]
     },
     "metadata": {},
     "execution_count": 9
    }
   ],
   "source": [
    "set(list(train_df.columns)) - commonColumns  # columns only in train_df"
   ]
  },
  {
   "cell_type": "code",
   "execution_count": 10,
   "metadata": {},
   "outputs": [
    {
     "output_type": "execute_result",
     "data": {
      "text/plain": [
       "{'Referee'}"
      ]
     },
     "metadata": {},
     "execution_count": 10
    }
   ],
   "source": [
    "set(list(test_df.columns)) - commonColumns  # columns only in test_df"
   ]
  },
  {
   "source": [
    "The referee should not influence the outcome of the game. So, we can safely drop that column in `test_df`.  \n",
    "\n",
    "As we train our model, `FTR` column should not be one of the predictors since that is what we are predicting. We shoulddrop this too for training. \n",
    "\n",
    "So, both the train and test dataframes will have the same columns once we drop these columns from the respective dataframes."
   ],
   "cell_type": "markdown",
   "metadata": {}
  },
  {
   "source": [
    "Let us check the datatypes and missing values in the two DFs."
   ],
   "cell_type": "markdown",
   "metadata": {}
  },
  {
   "cell_type": "code",
   "execution_count": 11,
   "metadata": {},
   "outputs": [
    {
     "output_type": "stream",
     "name": "stdout",
     "text": [
      "<class 'pandas.core.frame.DataFrame'>\nRangeIndex: 12789 entries, 0 to 12788\nData columns (total 19 columns):\n #   Column    Non-Null Count  Dtype  \n---  ------    --------------  -----  \n 0   AC        12780 non-null  float64\n 1   AF        12778 non-null  float64\n 2   AR        12780 non-null  float64\n 3   AS        12780 non-null  float64\n 4   AST       12780 non-null  float64\n 5   AY        12780 non-null  float64\n 6   AwayTeam  12782 non-null  object \n 7   Date      12782 non-null  object \n 8   FTR       12782 non-null  object \n 9   HC        12780 non-null  float64\n 10  HF        12778 non-null  float64\n 11  HR        12780 non-null  float64\n 12  HS        12780 non-null  float64\n 13  HST       12780 non-null  float64\n 14  HTAG      12779 non-null  float64\n 15  HTHG      12779 non-null  float64\n 16  HY        12779 non-null  float64\n 17  HomeTeam  12782 non-null  object \n 18  league    12789 non-null  object \ndtypes: float64(14), object(5)\nmemory usage: 1.9+ MB\n"
     ]
    }
   ],
   "source": [
    "train_df.info()"
   ]
  },
  {
   "source": [
    "Almost every column in `train_df` except the `league` has null values.  Even the FTR column i.e. the result column has 7 missing values. We will deal with these missing values later in this notebook."
   ],
   "cell_type": "markdown",
   "metadata": {}
  },
  {
   "cell_type": "code",
   "execution_count": 12,
   "metadata": {},
   "outputs": [
    {
     "output_type": "stream",
     "name": "stdout",
     "text": [
      "<class 'pandas.core.frame.DataFrame'>\nInt64Index: 1826 entries, 0 to 379\nData columns (total 19 columns):\n #   Column    Non-Null Count  Dtype \n---  ------    --------------  ----- \n 0   AC        1826 non-null   int64 \n 1   AF        1826 non-null   int64 \n 2   AR        1826 non-null   int64 \n 3   AS        1826 non-null   int64 \n 4   AST       1826 non-null   int64 \n 5   AY        1826 non-null   int64 \n 6   AwayTeam  1826 non-null   object\n 7   Date      1826 non-null   object\n 8   HC        1826 non-null   int64 \n 9   HF        1826 non-null   int64 \n 10  HR        1826 non-null   int64 \n 11  HS        1826 non-null   int64 \n 12  HST       1826 non-null   int64 \n 13  HTAG      1826 non-null   int64 \n 14  HTHG      1826 non-null   int64 \n 15  HY        1826 non-null   int64 \n 16  HomeTeam  1826 non-null   object\n 17  Referee   380 non-null    object\n 18  league    1826 non-null   object\ndtypes: int64(14), object(5)\nmemory usage: 285.3+ KB\n"
     ]
    }
   ],
   "source": [
    "test_df.info()"
   ]
  },
  {
   "source": [
    "Almost no column in `test_df` except `Referee` has null values. Since this column can be safely dropped, `test_df` will have no null values."
   ],
   "cell_type": "markdown",
   "metadata": {}
  },
  {
   "source": [
    "The date information could turn out to be useful in our analysis. So, let's change it to the appropriate datatype before moving forward.  \n",
    "First, we check the format of the date in the train and test CSV files. "
   ],
   "cell_type": "markdown",
   "metadata": {}
  },
  {
   "cell_type": "code",
   "execution_count": 13,
   "metadata": {},
   "outputs": [
    {
     "output_type": "execute_result",
     "data": {
      "text/plain": [
       "0        07/08/09\n",
       "1        08/08/09\n",
       "2        08/08/09\n",
       "3        08/08/09\n",
       "4        08/08/09\n",
       "           ...   \n",
       "12784    28/05/17\n",
       "12785    28/05/17\n",
       "12786    28/05/17\n",
       "12787    28/05/17\n",
       "12788    28/05/17\n",
       "Name: Date, Length: 12789, dtype: object"
      ]
     },
     "metadata": {},
     "execution_count": 13
    }
   ],
   "source": [
    "train_df[\"Date\"]"
   ]
  },
  {
   "cell_type": "code",
   "execution_count": 14,
   "metadata": {},
   "outputs": [
    {
     "output_type": "execute_result",
     "data": {
      "text/plain": [
       "index\n",
       "0      18/08/17\n",
       "1      19/08/17\n",
       "2      19/08/17\n",
       "3      19/08/17\n",
       "4      19/08/17\n",
       "         ...   \n",
       "375    20/05/18\n",
       "376    20/05/18\n",
       "377    20/05/18\n",
       "378    20/05/18\n",
       "379    20/05/18\n",
       "Name: Date, Length: 1826, dtype: object"
      ]
     },
     "metadata": {},
     "execution_count": 14
    }
   ],
   "source": [
    "test_df[\"Date\"]"
   ]
  },
  {
   "source": [
    "We see that in the last few rows in the above outputs, the format must be %d/%m/%y. We specify that in the `pd.to_datetime()`"
   ],
   "cell_type": "markdown",
   "metadata": {}
  },
  {
   "cell_type": "code",
   "execution_count": 15,
   "metadata": {},
   "outputs": [],
   "source": [
    "# change string column to datetime64 column\n",
    "\n",
    "train_df[\"Date\"] = pd.to_datetime(train_df[\"Date\"], format=\"%d/%m/%y\")\n",
    "test_df[\"Date\"] = pd.to_datetime(test_df[\"Date\"], format=\"%d/%m/%y\")"
   ]
  },
  {
   "cell_type": "code",
   "execution_count": 16,
   "metadata": {},
   "outputs": [
    {
     "output_type": "stream",
     "name": "stdout",
     "text": [
      "\nOldest date in train_df is 07 August 2009\nLatest date in train_df is 28 May 2017\n\nOldest date in test_df is 04 August 2017\nLatest date in test_df is 20 May 2018\n"
     ]
    }
   ],
   "source": [
    "print(f\"\\nOldest date in train_df is {min(train_df['Date']).strftime('%d %B %Y')}\")\n",
    "print(f\"Latest date in train_df is {max(train_df['Date']).strftime('%d %B %Y')}\")\n",
    "\n",
    "print(f\"\\nOldest date in test_df is {min(test_df['Date']).strftime('%d %B %Y')}\")\n",
    "print(f\"Latest date in test_df is {max(test_df['Date']).strftime('%d %B %Y')}\")"
   ]
  },
  {
   "source": [
    "The dates tell us that the matches starts from 2009-10 season in `train_df` and ends with the 2016-17 season.     \n",
    "Similarly, matches starts from the 2007-18 season."
   ],
   "cell_type": "markdown",
   "metadata": {}
  },
  {
   "source": [
    "# the following columns are always non-negative integers and can never be float values. The values are always less than the max value of Int8 since there can't something like 127 (max value of signed int) corners/shots in a match. Let us change them to integer values. Null values are handled automatically for us.\n",
    "\n",
    "columnNames = ['AC', 'AF', 'AR', 'AS', 'AST', 'AY', 'HC', 'HF', 'HR', 'HS', 'HST', 'HTAG', 'HTHG', 'HY']\n",
    "for columnName in columnNames:\n",
    "    if min(train_df[columnName]) < 0 or min(test_df[columnName]) < 0:\n",
    "        raise Exception(f\"Value under {columnName} in train_df or test_df is negative. This cannot happen. Some issue with the data!!\") # not handling this exception since I want the code to stop running on seeing this issue.\n",
    "    # if no issue found, change that column to integer type.\n",
    "    train_df[columnName] = train_df[columnName].astype('Int8')\n",
    "    test_df[columnName] = test_df[columnName].astype('Int8')"
   ],
   "cell_type": "code",
   "metadata": {},
   "execution_count": 17,
   "outputs": []
  },
  {
   "cell_type": "code",
   "execution_count": 18,
   "metadata": {},
   "outputs": [],
   "source": [
    "# the following columns are/should always be strings\n",
    "# skipped Referee since we will dropping it. FTR will be looked into.\n",
    "columnNames = ['AwayTeam', 'HomeTeam', 'league']\n",
    "for columnName in columnNames:\n",
    "    train_df[columnName] = train_df[columnName].astype('string')\n",
    "    test_df[columnName] = test_df[columnName].astype('string')"
   ]
  },
  {
   "cell_type": "code",
   "execution_count": 19,
   "metadata": {},
   "outputs": [
    {
     "output_type": "execute_result",
     "data": {
      "text/plain": [
       "Counter({'H': 5931, 'D': 3283, 'A': 3568, <NA>: 7})"
      ]
     },
     "metadata": {},
     "execution_count": 19
    }
   ],
   "source": [
    "# check for any unexpected values under the FTR column\n",
    "Counter(list(train_df[\"FTR\"].astype('string')))"
   ]
  },
  {
   "cell_type": "code",
   "execution_count": 20,
   "metadata": {},
   "outputs": [],
   "source": [
    "# change FTR column to string.\n",
    "train_df[\"FTR\"] = train_df[\"FTR\"].astype('string') # null values are taken care of automatically"
   ]
  },
  {
   "source": [
    "# check for duplicated rows and keep only one occurence of the row. We'll choose the first occurence of the row. \n",
    "print(f\"Number of rows in train_df = {len(train_df)}\")\n",
    "print(f\"Number of rows in test_df = {len(test_df)}\")\n",
    "\n",
    "# drop duplicates\n",
    "train_df = train_df.drop_duplicates(keep='first')\n",
    "test_df = test_df.drop_duplicates(keep='first')\n",
    "print(\"After dropping duplicates ...\")\n",
    "\n",
    "print(f\"Number of rows in train_df = {len(train_df)}\")\n",
    "print(f\"Number of rows in test_df = {len(test_df)}\")\n"
   ],
   "cell_type": "code",
   "metadata": {},
   "execution_count": 21,
   "outputs": [
    {
     "output_type": "stream",
     "name": "stdout",
     "text": [
      "Number of rows in train_df = 12789\n",
      "Number of rows in test_df = 1826\n",
      "After dropping duplicates ...\n",
      "Number of rows in train_df = 12785\n",
      "Number of rows in test_df = 1826\n"
     ]
    }
   ]
  },
  {
   "source": [
    "As we can see, four rows from `train_df` where there were duplicates have been dropped. None have been from `test_df`."
   ],
   "cell_type": "markdown",
   "metadata": {}
  },
  {
   "source": [
    "# let us drop the Referee column in the test_df since 1) we do not have it while training 2) referee should/does not influence the game.\n",
    "test_df = test_df.drop(['Referee'], axis=1)"
   ],
   "cell_type": "code",
   "metadata": {},
   "execution_count": 22,
   "outputs": []
  },
  {
   "source": [
    "Once again, let us list the datatypes and number of null values under each column for `train_df` and `test_df`."
   ],
   "cell_type": "markdown",
   "metadata": {}
  },
  {
   "cell_type": "code",
   "execution_count": 23,
   "metadata": {},
   "outputs": [
    {
     "output_type": "stream",
     "name": "stdout",
     "text": [
      "<class 'pandas.core.frame.DataFrame'>\nInt64Index: 12785 entries, 0 to 12788\nData columns (total 19 columns):\n #   Column    Non-Null Count  Dtype         \n---  ------    --------------  -----         \n 0   AC        12780 non-null  Int8          \n 1   AF        12778 non-null  Int8          \n 2   AR        12780 non-null  Int8          \n 3   AS        12780 non-null  Int8          \n 4   AST       12780 non-null  Int8          \n 5   AY        12780 non-null  Int8          \n 6   AwayTeam  12782 non-null  string        \n 7   Date      12782 non-null  datetime64[ns]\n 8   FTR       12782 non-null  string        \n 9   HC        12780 non-null  Int8          \n 10  HF        12778 non-null  Int8          \n 11  HR        12780 non-null  Int8          \n 12  HS        12780 non-null  Int8          \n 13  HST       12780 non-null  Int8          \n 14  HTAG      12779 non-null  Int8          \n 15  HTHG      12779 non-null  Int8          \n 16  HY        12779 non-null  Int8          \n 17  HomeTeam  12782 non-null  string        \n 18  league    12785 non-null  string        \ndtypes: Int8(14), datetime64[ns](1), string(4)\nmemory usage: 948.9 KB\n"
     ]
    }
   ],
   "source": [
    "train_df.info()"
   ]
  },
  {
   "cell_type": "code",
   "execution_count": 24,
   "metadata": {},
   "outputs": [
    {
     "output_type": "stream",
     "name": "stdout",
     "text": [
      "<class 'pandas.core.frame.DataFrame'>\nInt64Index: 1826 entries, 0 to 379\nData columns (total 18 columns):\n #   Column    Non-Null Count  Dtype         \n---  ------    --------------  -----         \n 0   AC        1826 non-null   Int8          \n 1   AF        1826 non-null   Int8          \n 2   AR        1826 non-null   Int8          \n 3   AS        1826 non-null   Int8          \n 4   AST       1826 non-null   Int8          \n 5   AY        1826 non-null   Int8          \n 6   AwayTeam  1826 non-null   string        \n 7   Date      1826 non-null   datetime64[ns]\n 8   HC        1826 non-null   Int8          \n 9   HF        1826 non-null   Int8          \n 10  HR        1826 non-null   Int8          \n 11  HS        1826 non-null   Int8          \n 12  HST       1826 non-null   Int8          \n 13  HTAG      1826 non-null   Int8          \n 14  HTHG      1826 non-null   Int8          \n 15  HY        1826 non-null   Int8          \n 16  HomeTeam  1826 non-null   string        \n 17  league    1826 non-null   string        \ndtypes: Int8(14), datetime64[ns](1), string(3)\nmemory usage: 121.3 KB\n"
     ]
    }
   ],
   "source": [
    "test_df.info()"
   ]
  },
  {
   "source": [
    "Get the count of null values in all columns in the two dataframes"
   ],
   "cell_type": "markdown",
   "metadata": {}
  },
  {
   "cell_type": "code",
   "execution_count": 25,
   "metadata": {},
   "outputs": [
    {
     "output_type": "execute_result",
     "data": {
      "text/plain": [
       "AC          5\n",
       "AF          7\n",
       "AR          5\n",
       "AS          5\n",
       "AST         5\n",
       "AY          5\n",
       "AwayTeam    3\n",
       "Date        3\n",
       "FTR         3\n",
       "HC          5\n",
       "HF          7\n",
       "HR          5\n",
       "HS          5\n",
       "HST         5\n",
       "HTAG        6\n",
       "HTHG        6\n",
       "HY          6\n",
       "HomeTeam    3\n",
       "league      0\n",
       "dtype: int64"
      ]
     },
     "metadata": {},
     "execution_count": 25
    }
   ],
   "source": [
    "train_df.isnull().sum() # number of null values by column in train_df"
   ]
  },
  {
   "cell_type": "code",
   "execution_count": 26,
   "metadata": {},
   "outputs": [
    {
     "output_type": "execute_result",
     "data": {
      "text/plain": [
       "AC          0\n",
       "AF          0\n",
       "AR          0\n",
       "AS          0\n",
       "AST         0\n",
       "AY          0\n",
       "AwayTeam    0\n",
       "Date        0\n",
       "HC          0\n",
       "HF          0\n",
       "HR          0\n",
       "HS          0\n",
       "HST         0\n",
       "HTAG        0\n",
       "HTHG        0\n",
       "HY          0\n",
       "HomeTeam    0\n",
       "league      0\n",
       "dtype: int64"
      ]
     },
     "metadata": {},
     "execution_count": 26
    }
   ],
   "source": [
    "test_df.isnull().sum() # number of null values by column in test_df"
   ]
  },
  {
   "source": [
    "Let us look at the rows with one or more values in the dataframes."
   ],
   "cell_type": "markdown",
   "metadata": {}
  },
  {
   "cell_type": "code",
   "execution_count": 27,
   "metadata": {},
   "outputs": [
    {
     "output_type": "execute_result",
     "data": {
      "text/plain": [
       "         AC    AF    AR    AS   AST    AY   AwayTeam       Date   FTR    HC  \\\n",
       "5620      5  <NA>     0     6     3     3  Marseille 2011-09-18     H     3   \n",
       "5733      1  <NA>     0     9     3     5      Nancy 2011-12-17     A     8   \n",
       "7082   <NA>  <NA>  <NA>  <NA>  <NA>  <NA>       <NA>        NaT  <NA>  <NA>   \n",
       "7408   <NA>  <NA>  <NA>  <NA>  <NA>  <NA>       Lyon 2017-04-16     A  <NA>   \n",
       "9363   <NA>  <NA>  <NA>  <NA>  <NA>  <NA>       <NA>        NaT  <NA>  <NA>   \n",
       "11298  <NA>  <NA>  <NA>  <NA>  <NA>  <NA>       Roma 2012-09-23     A  <NA>   \n",
       "11644  <NA>  <NA>  <NA>  <NA>  <NA>  <NA>       <NA>        NaT  <NA>  <NA>   \n",
       "11894     5    16     0    10     1     5   Juventus 2015-03-02     D     1   \n",
       "12426     7    21     0    15     5     2    Pescara 2016-08-28     A     2   \n",
       "\n",
       "         HF    HR    HS   HST  HTAG  HTHG    HY  HomeTeam          league  \n",
       "5620   <NA>     0    10     5     0     2     0      Lyon         ligue-1  \n",
       "5733   <NA>     0     9     1     1     0     2      Caen         ligue-1  \n",
       "7082   <NA>  <NA>  <NA>  <NA>  <NA>  <NA>  <NA>      <NA>         ligue-1  \n",
       "7408   <NA>  <NA>  <NA>  <NA>  <NA>  <NA>  <NA>    Bastia         ligue-1  \n",
       "9363   <NA>  <NA>  <NA>  <NA>  <NA>  <NA>  <NA>      <NA>  premier-league  \n",
       "11298  <NA>  <NA>  <NA>  <NA>  <NA>  <NA>  <NA>  Cagliari         serie-a  \n",
       "11644  <NA>  <NA>  <NA>  <NA>  <NA>  <NA>  <NA>      <NA>         serie-a  \n",
       "11894    11     1     8     3     0     0  <NA>      Roma         serie-a  \n",
       "12426    12     0    13     3  <NA>  <NA>     2  Sassuolo         serie-a  "
      ],
      "text/html": "<div>\n<style scoped>\n    .dataframe tbody tr th:only-of-type {\n        vertical-align: middle;\n    }\n\n    .dataframe tbody tr th {\n        vertical-align: top;\n    }\n\n    .dataframe thead th {\n        text-align: right;\n    }\n</style>\n<table border=\"1\" class=\"dataframe\">\n  <thead>\n    <tr style=\"text-align: right;\">\n      <th></th>\n      <th>AC</th>\n      <th>AF</th>\n      <th>AR</th>\n      <th>AS</th>\n      <th>AST</th>\n      <th>AY</th>\n      <th>AwayTeam</th>\n      <th>Date</th>\n      <th>FTR</th>\n      <th>HC</th>\n      <th>HF</th>\n      <th>HR</th>\n      <th>HS</th>\n      <th>HST</th>\n      <th>HTAG</th>\n      <th>HTHG</th>\n      <th>HY</th>\n      <th>HomeTeam</th>\n      <th>league</th>\n    </tr>\n  </thead>\n  <tbody>\n    <tr>\n      <th>5620</th>\n      <td>5</td>\n      <td>&lt;NA&gt;</td>\n      <td>0</td>\n      <td>6</td>\n      <td>3</td>\n      <td>3</td>\n      <td>Marseille</td>\n      <td>2011-09-18</td>\n      <td>H</td>\n      <td>3</td>\n      <td>&lt;NA&gt;</td>\n      <td>0</td>\n      <td>10</td>\n      <td>5</td>\n      <td>0</td>\n      <td>2</td>\n      <td>0</td>\n      <td>Lyon</td>\n      <td>ligue-1</td>\n    </tr>\n    <tr>\n      <th>5733</th>\n      <td>1</td>\n      <td>&lt;NA&gt;</td>\n      <td>0</td>\n      <td>9</td>\n      <td>3</td>\n      <td>5</td>\n      <td>Nancy</td>\n      <td>2011-12-17</td>\n      <td>A</td>\n      <td>8</td>\n      <td>&lt;NA&gt;</td>\n      <td>0</td>\n      <td>9</td>\n      <td>1</td>\n      <td>1</td>\n      <td>0</td>\n      <td>2</td>\n      <td>Caen</td>\n      <td>ligue-1</td>\n    </tr>\n    <tr>\n      <th>7082</th>\n      <td>&lt;NA&gt;</td>\n      <td>&lt;NA&gt;</td>\n      <td>&lt;NA&gt;</td>\n      <td>&lt;NA&gt;</td>\n      <td>&lt;NA&gt;</td>\n      <td>&lt;NA&gt;</td>\n      <td>&lt;NA&gt;</td>\n      <td>NaT</td>\n      <td>&lt;NA&gt;</td>\n      <td>&lt;NA&gt;</td>\n      <td>&lt;NA&gt;</td>\n      <td>&lt;NA&gt;</td>\n      <td>&lt;NA&gt;</td>\n      <td>&lt;NA&gt;</td>\n      <td>&lt;NA&gt;</td>\n      <td>&lt;NA&gt;</td>\n      <td>&lt;NA&gt;</td>\n      <td>&lt;NA&gt;</td>\n      <td>ligue-1</td>\n    </tr>\n    <tr>\n      <th>7408</th>\n      <td>&lt;NA&gt;</td>\n      <td>&lt;NA&gt;</td>\n      <td>&lt;NA&gt;</td>\n      <td>&lt;NA&gt;</td>\n      <td>&lt;NA&gt;</td>\n      <td>&lt;NA&gt;</td>\n      <td>Lyon</td>\n      <td>2017-04-16</td>\n      <td>A</td>\n      <td>&lt;NA&gt;</td>\n      <td>&lt;NA&gt;</td>\n      <td>&lt;NA&gt;</td>\n      <td>&lt;NA&gt;</td>\n      <td>&lt;NA&gt;</td>\n      <td>&lt;NA&gt;</td>\n      <td>&lt;NA&gt;</td>\n      <td>&lt;NA&gt;</td>\n      <td>Bastia</td>\n      <td>ligue-1</td>\n    </tr>\n    <tr>\n      <th>9363</th>\n      <td>&lt;NA&gt;</td>\n      <td>&lt;NA&gt;</td>\n      <td>&lt;NA&gt;</td>\n      <td>&lt;NA&gt;</td>\n      <td>&lt;NA&gt;</td>\n      <td>&lt;NA&gt;</td>\n      <td>&lt;NA&gt;</td>\n      <td>NaT</td>\n      <td>&lt;NA&gt;</td>\n      <td>&lt;NA&gt;</td>\n      <td>&lt;NA&gt;</td>\n      <td>&lt;NA&gt;</td>\n      <td>&lt;NA&gt;</td>\n      <td>&lt;NA&gt;</td>\n      <td>&lt;NA&gt;</td>\n      <td>&lt;NA&gt;</td>\n      <td>&lt;NA&gt;</td>\n      <td>&lt;NA&gt;</td>\n      <td>premier-league</td>\n    </tr>\n    <tr>\n      <th>11298</th>\n      <td>&lt;NA&gt;</td>\n      <td>&lt;NA&gt;</td>\n      <td>&lt;NA&gt;</td>\n      <td>&lt;NA&gt;</td>\n      <td>&lt;NA&gt;</td>\n      <td>&lt;NA&gt;</td>\n      <td>Roma</td>\n      <td>2012-09-23</td>\n      <td>A</td>\n      <td>&lt;NA&gt;</td>\n      <td>&lt;NA&gt;</td>\n      <td>&lt;NA&gt;</td>\n      <td>&lt;NA&gt;</td>\n      <td>&lt;NA&gt;</td>\n      <td>&lt;NA&gt;</td>\n      <td>&lt;NA&gt;</td>\n      <td>&lt;NA&gt;</td>\n      <td>Cagliari</td>\n      <td>serie-a</td>\n    </tr>\n    <tr>\n      <th>11644</th>\n      <td>&lt;NA&gt;</td>\n      <td>&lt;NA&gt;</td>\n      <td>&lt;NA&gt;</td>\n      <td>&lt;NA&gt;</td>\n      <td>&lt;NA&gt;</td>\n      <td>&lt;NA&gt;</td>\n      <td>&lt;NA&gt;</td>\n      <td>NaT</td>\n      <td>&lt;NA&gt;</td>\n      <td>&lt;NA&gt;</td>\n      <td>&lt;NA&gt;</td>\n      <td>&lt;NA&gt;</td>\n      <td>&lt;NA&gt;</td>\n      <td>&lt;NA&gt;</td>\n      <td>&lt;NA&gt;</td>\n      <td>&lt;NA&gt;</td>\n      <td>&lt;NA&gt;</td>\n      <td>&lt;NA&gt;</td>\n      <td>serie-a</td>\n    </tr>\n    <tr>\n      <th>11894</th>\n      <td>5</td>\n      <td>16</td>\n      <td>0</td>\n      <td>10</td>\n      <td>1</td>\n      <td>5</td>\n      <td>Juventus</td>\n      <td>2015-03-02</td>\n      <td>D</td>\n      <td>1</td>\n      <td>11</td>\n      <td>1</td>\n      <td>8</td>\n      <td>3</td>\n      <td>0</td>\n      <td>0</td>\n      <td>&lt;NA&gt;</td>\n      <td>Roma</td>\n      <td>serie-a</td>\n    </tr>\n    <tr>\n      <th>12426</th>\n      <td>7</td>\n      <td>21</td>\n      <td>0</td>\n      <td>15</td>\n      <td>5</td>\n      <td>2</td>\n      <td>Pescara</td>\n      <td>2016-08-28</td>\n      <td>A</td>\n      <td>2</td>\n      <td>12</td>\n      <td>0</td>\n      <td>13</td>\n      <td>3</td>\n      <td>&lt;NA&gt;</td>\n      <td>&lt;NA&gt;</td>\n      <td>2</td>\n      <td>Sassuolo</td>\n      <td>serie-a</td>\n    </tr>\n  </tbody>\n</table>\n</div>"
     },
     "metadata": {},
     "execution_count": 27
    }
   ],
   "source": [
    "train_df[train_df.isnull().any(axis=1)]"
   ]
  },
  {
   "source": [
    "Row with indices 7082, 9363, 11644 have null under all columns without any information other than the leagues they belong to.   If we knew the Home and Away teams along with the season information, we could have retrieved this data from external sources and filled it in. **Unfortunately, we will have to drop these rows.**"
   ],
   "cell_type": "markdown",
   "metadata": {}
  },
  {
   "cell_type": "code",
   "execution_count": 28,
   "metadata": {},
   "outputs": [],
   "source": [
    "train_df = train_df.drop(axis=1, index = [7082, 9363, 11644])  # drop from train_df where all columns are null values"
   ]
  },
  {
   "cell_type": "code",
   "execution_count": 29,
   "metadata": {},
   "outputs": [
    {
     "output_type": "execute_result",
     "data": {
      "text/plain": [
       "         AC    AF    AR    AS   AST    AY   AwayTeam       Date FTR    HC  \\\n",
       "5620      5  <NA>     0     6     3     3  Marseille 2011-09-18   H     3   \n",
       "5733      1  <NA>     0     9     3     5      Nancy 2011-12-17   A     8   \n",
       "7408   <NA>  <NA>  <NA>  <NA>  <NA>  <NA>       Lyon 2017-04-16   A  <NA>   \n",
       "11298  <NA>  <NA>  <NA>  <NA>  <NA>  <NA>       Roma 2012-09-23   A  <NA>   \n",
       "11894     5    16     0    10     1     5   Juventus 2015-03-02   D     1   \n",
       "12426     7    21     0    15     5     2    Pescara 2016-08-28   A     2   \n",
       "\n",
       "         HF    HR    HS   HST  HTAG  HTHG    HY  HomeTeam   league  \n",
       "5620   <NA>     0    10     5     0     2     0      Lyon  ligue-1  \n",
       "5733   <NA>     0     9     1     1     0     2      Caen  ligue-1  \n",
       "7408   <NA>  <NA>  <NA>  <NA>  <NA>  <NA>  <NA>    Bastia  ligue-1  \n",
       "11298  <NA>  <NA>  <NA>  <NA>  <NA>  <NA>  <NA>  Cagliari  serie-a  \n",
       "11894    11     1     8     3     0     0  <NA>      Roma  serie-a  \n",
       "12426    12     0    13     3  <NA>  <NA>     2  Sassuolo  serie-a  "
      ],
      "text/html": "<div>\n<style scoped>\n    .dataframe tbody tr th:only-of-type {\n        vertical-align: middle;\n    }\n\n    .dataframe tbody tr th {\n        vertical-align: top;\n    }\n\n    .dataframe thead th {\n        text-align: right;\n    }\n</style>\n<table border=\"1\" class=\"dataframe\">\n  <thead>\n    <tr style=\"text-align: right;\">\n      <th></th>\n      <th>AC</th>\n      <th>AF</th>\n      <th>AR</th>\n      <th>AS</th>\n      <th>AST</th>\n      <th>AY</th>\n      <th>AwayTeam</th>\n      <th>Date</th>\n      <th>FTR</th>\n      <th>HC</th>\n      <th>HF</th>\n      <th>HR</th>\n      <th>HS</th>\n      <th>HST</th>\n      <th>HTAG</th>\n      <th>HTHG</th>\n      <th>HY</th>\n      <th>HomeTeam</th>\n      <th>league</th>\n    </tr>\n  </thead>\n  <tbody>\n    <tr>\n      <th>5620</th>\n      <td>5</td>\n      <td>&lt;NA&gt;</td>\n      <td>0</td>\n      <td>6</td>\n      <td>3</td>\n      <td>3</td>\n      <td>Marseille</td>\n      <td>2011-09-18</td>\n      <td>H</td>\n      <td>3</td>\n      <td>&lt;NA&gt;</td>\n      <td>0</td>\n      <td>10</td>\n      <td>5</td>\n      <td>0</td>\n      <td>2</td>\n      <td>0</td>\n      <td>Lyon</td>\n      <td>ligue-1</td>\n    </tr>\n    <tr>\n      <th>5733</th>\n      <td>1</td>\n      <td>&lt;NA&gt;</td>\n      <td>0</td>\n      <td>9</td>\n      <td>3</td>\n      <td>5</td>\n      <td>Nancy</td>\n      <td>2011-12-17</td>\n      <td>A</td>\n      <td>8</td>\n      <td>&lt;NA&gt;</td>\n      <td>0</td>\n      <td>9</td>\n      <td>1</td>\n      <td>1</td>\n      <td>0</td>\n      <td>2</td>\n      <td>Caen</td>\n      <td>ligue-1</td>\n    </tr>\n    <tr>\n      <th>7408</th>\n      <td>&lt;NA&gt;</td>\n      <td>&lt;NA&gt;</td>\n      <td>&lt;NA&gt;</td>\n      <td>&lt;NA&gt;</td>\n      <td>&lt;NA&gt;</td>\n      <td>&lt;NA&gt;</td>\n      <td>Lyon</td>\n      <td>2017-04-16</td>\n      <td>A</td>\n      <td>&lt;NA&gt;</td>\n      <td>&lt;NA&gt;</td>\n      <td>&lt;NA&gt;</td>\n      <td>&lt;NA&gt;</td>\n      <td>&lt;NA&gt;</td>\n      <td>&lt;NA&gt;</td>\n      <td>&lt;NA&gt;</td>\n      <td>&lt;NA&gt;</td>\n      <td>Bastia</td>\n      <td>ligue-1</td>\n    </tr>\n    <tr>\n      <th>11298</th>\n      <td>&lt;NA&gt;</td>\n      <td>&lt;NA&gt;</td>\n      <td>&lt;NA&gt;</td>\n      <td>&lt;NA&gt;</td>\n      <td>&lt;NA&gt;</td>\n      <td>&lt;NA&gt;</td>\n      <td>Roma</td>\n      <td>2012-09-23</td>\n      <td>A</td>\n      <td>&lt;NA&gt;</td>\n      <td>&lt;NA&gt;</td>\n      <td>&lt;NA&gt;</td>\n      <td>&lt;NA&gt;</td>\n      <td>&lt;NA&gt;</td>\n      <td>&lt;NA&gt;</td>\n      <td>&lt;NA&gt;</td>\n      <td>&lt;NA&gt;</td>\n      <td>Cagliari</td>\n      <td>serie-a</td>\n    </tr>\n    <tr>\n      <th>11894</th>\n      <td>5</td>\n      <td>16</td>\n      <td>0</td>\n      <td>10</td>\n      <td>1</td>\n      <td>5</td>\n      <td>Juventus</td>\n      <td>2015-03-02</td>\n      <td>D</td>\n      <td>1</td>\n      <td>11</td>\n      <td>1</td>\n      <td>8</td>\n      <td>3</td>\n      <td>0</td>\n      <td>0</td>\n      <td>&lt;NA&gt;</td>\n      <td>Roma</td>\n      <td>serie-a</td>\n    </tr>\n    <tr>\n      <th>12426</th>\n      <td>7</td>\n      <td>21</td>\n      <td>0</td>\n      <td>15</td>\n      <td>5</td>\n      <td>2</td>\n      <td>Pescara</td>\n      <td>2016-08-28</td>\n      <td>A</td>\n      <td>2</td>\n      <td>12</td>\n      <td>0</td>\n      <td>13</td>\n      <td>3</td>\n      <td>&lt;NA&gt;</td>\n      <td>&lt;NA&gt;</td>\n      <td>2</td>\n      <td>Sassuolo</td>\n      <td>serie-a</td>\n    </tr>\n  </tbody>\n</table>\n</div>"
     },
     "metadata": {},
     "execution_count": 29
    }
   ],
   "source": [
    "train_df[train_df.isnull().any(axis=1)] # check rows with one or more null values again in train_df"
   ]
  },
  {
   "cell_type": "code",
   "execution_count": 30,
   "metadata": {},
   "outputs": [
    {
     "output_type": "execute_result",
     "data": {
      "text/plain": [
       "Empty DataFrame\n",
       "Columns: [AC, AF, AR, AS, AST, AY, AwayTeam, Date, HC, HF, HR, HS, HST, HTAG, HTHG, HY, HomeTeam, league]\n",
       "Index: []"
      ],
      "text/html": "<div>\n<style scoped>\n    .dataframe tbody tr th:only-of-type {\n        vertical-align: middle;\n    }\n\n    .dataframe tbody tr th {\n        vertical-align: top;\n    }\n\n    .dataframe thead th {\n        text-align: right;\n    }\n</style>\n<table border=\"1\" class=\"dataframe\">\n  <thead>\n    <tr style=\"text-align: right;\">\n      <th></th>\n      <th>AC</th>\n      <th>AF</th>\n      <th>AR</th>\n      <th>AS</th>\n      <th>AST</th>\n      <th>AY</th>\n      <th>AwayTeam</th>\n      <th>Date</th>\n      <th>HC</th>\n      <th>HF</th>\n      <th>HR</th>\n      <th>HS</th>\n      <th>HST</th>\n      <th>HTAG</th>\n      <th>HTHG</th>\n      <th>HY</th>\n      <th>HomeTeam</th>\n      <th>league</th>\n    </tr>\n    <tr>\n      <th>index</th>\n      <th></th>\n      <th></th>\n      <th></th>\n      <th></th>\n      <th></th>\n      <th></th>\n      <th></th>\n      <th></th>\n      <th></th>\n      <th></th>\n      <th></th>\n      <th></th>\n      <th></th>\n      <th></th>\n      <th></th>\n      <th></th>\n      <th></th>\n      <th></th>\n    </tr>\n  </thead>\n  <tbody>\n  </tbody>\n</table>\n</div>"
     },
     "metadata": {},
     "execution_count": 30
    }
   ],
   "source": [
    "test_df[test_df.isnull().any(axis=1)] # check rows with one or more null values again in test_df"
   ]
  },
  {
   "source": [
    "We can get information for the missing values using Date, HomeTeam and AwayTeam using the CSVs we have downloaded. For that, let's identify the leagues we need to download.  "
   ],
   "cell_type": "markdown",
   "metadata": {}
  },
  {
   "cell_type": "code",
   "execution_count": 31,
   "metadata": {},
   "outputs": [
    {
     "output_type": "stream",
     "name": "stdout",
     "text": [
      "Leagues in train_df :: ['bundesliga', 'la-liga', 'ligue-1', 'premier-league', 'serie-a']\nLeagues in test_df ::  ['bundesliga', 'la-liga', 'ligue-1', 'premier-league', 'serie-a']\n"
     ]
    }
   ],
   "source": [
    "# list the leagues in both the dfs\n",
    "print(\"Leagues in train_df ::\", list(np.unique(train_df[\"league\"])))\n",
    "print(\"Leagues in test_df :: \", list(np.unique(test_df[\"league\"])))"
   ]
  },
  {
   "source": [
    "Please look into **0_downloadMoreData.py** file on how we can download data for each season for different leagues. Using the data downloaded, we can try to fill in the NA/null values we see train_df. Notes about these can be found [here](https://www.football-data.co.uk/notes.txt)"
   ],
   "cell_type": "markdown",
   "metadata": {}
  },
  {
   "cell_type": "code",
   "execution_count": 32,
   "metadata": {},
   "outputs": [
    {
     "output_type": "execute_result",
     "data": {
      "text/plain": [
       "         AC    AF    AR    AS   AST    AY   AwayTeam       Date FTR    HC  \\\n",
       "5620      5  <NA>     0     6     3     3  Marseille 2011-09-18   H     3   \n",
       "5733      1  <NA>     0     9     3     5      Nancy 2011-12-17   A     8   \n",
       "7408   <NA>  <NA>  <NA>  <NA>  <NA>  <NA>       Lyon 2017-04-16   A  <NA>   \n",
       "11298  <NA>  <NA>  <NA>  <NA>  <NA>  <NA>       Roma 2012-09-23   A  <NA>   \n",
       "11894     5    16     0    10     1     5   Juventus 2015-03-02   D     1   \n",
       "12426     7    21     0    15     5     2    Pescara 2016-08-28   A     2   \n",
       "\n",
       "         HF    HR    HS   HST  HTAG  HTHG    HY  HomeTeam   league  \n",
       "5620   <NA>     0    10     5     0     2     0      Lyon  ligue-1  \n",
       "5733   <NA>     0     9     1     1     0     2      Caen  ligue-1  \n",
       "7408   <NA>  <NA>  <NA>  <NA>  <NA>  <NA>  <NA>    Bastia  ligue-1  \n",
       "11298  <NA>  <NA>  <NA>  <NA>  <NA>  <NA>  <NA>  Cagliari  serie-a  \n",
       "11894    11     1     8     3     0     0  <NA>      Roma  serie-a  \n",
       "12426    12     0    13     3  <NA>  <NA>     2  Sassuolo  serie-a  "
      ],
      "text/html": "<div>\n<style scoped>\n    .dataframe tbody tr th:only-of-type {\n        vertical-align: middle;\n    }\n\n    .dataframe tbody tr th {\n        vertical-align: top;\n    }\n\n    .dataframe thead th {\n        text-align: right;\n    }\n</style>\n<table border=\"1\" class=\"dataframe\">\n  <thead>\n    <tr style=\"text-align: right;\">\n      <th></th>\n      <th>AC</th>\n      <th>AF</th>\n      <th>AR</th>\n      <th>AS</th>\n      <th>AST</th>\n      <th>AY</th>\n      <th>AwayTeam</th>\n      <th>Date</th>\n      <th>FTR</th>\n      <th>HC</th>\n      <th>HF</th>\n      <th>HR</th>\n      <th>HS</th>\n      <th>HST</th>\n      <th>HTAG</th>\n      <th>HTHG</th>\n      <th>HY</th>\n      <th>HomeTeam</th>\n      <th>league</th>\n    </tr>\n  </thead>\n  <tbody>\n    <tr>\n      <th>5620</th>\n      <td>5</td>\n      <td>&lt;NA&gt;</td>\n      <td>0</td>\n      <td>6</td>\n      <td>3</td>\n      <td>3</td>\n      <td>Marseille</td>\n      <td>2011-09-18</td>\n      <td>H</td>\n      <td>3</td>\n      <td>&lt;NA&gt;</td>\n      <td>0</td>\n      <td>10</td>\n      <td>5</td>\n      <td>0</td>\n      <td>2</td>\n      <td>0</td>\n      <td>Lyon</td>\n      <td>ligue-1</td>\n    </tr>\n    <tr>\n      <th>5733</th>\n      <td>1</td>\n      <td>&lt;NA&gt;</td>\n      <td>0</td>\n      <td>9</td>\n      <td>3</td>\n      <td>5</td>\n      <td>Nancy</td>\n      <td>2011-12-17</td>\n      <td>A</td>\n      <td>8</td>\n      <td>&lt;NA&gt;</td>\n      <td>0</td>\n      <td>9</td>\n      <td>1</td>\n      <td>1</td>\n      <td>0</td>\n      <td>2</td>\n      <td>Caen</td>\n      <td>ligue-1</td>\n    </tr>\n    <tr>\n      <th>7408</th>\n      <td>&lt;NA&gt;</td>\n      <td>&lt;NA&gt;</td>\n      <td>&lt;NA&gt;</td>\n      <td>&lt;NA&gt;</td>\n      <td>&lt;NA&gt;</td>\n      <td>&lt;NA&gt;</td>\n      <td>Lyon</td>\n      <td>2017-04-16</td>\n      <td>A</td>\n      <td>&lt;NA&gt;</td>\n      <td>&lt;NA&gt;</td>\n      <td>&lt;NA&gt;</td>\n      <td>&lt;NA&gt;</td>\n      <td>&lt;NA&gt;</td>\n      <td>&lt;NA&gt;</td>\n      <td>&lt;NA&gt;</td>\n      <td>&lt;NA&gt;</td>\n      <td>Bastia</td>\n      <td>ligue-1</td>\n    </tr>\n    <tr>\n      <th>11298</th>\n      <td>&lt;NA&gt;</td>\n      <td>&lt;NA&gt;</td>\n      <td>&lt;NA&gt;</td>\n      <td>&lt;NA&gt;</td>\n      <td>&lt;NA&gt;</td>\n      <td>&lt;NA&gt;</td>\n      <td>Roma</td>\n      <td>2012-09-23</td>\n      <td>A</td>\n      <td>&lt;NA&gt;</td>\n      <td>&lt;NA&gt;</td>\n      <td>&lt;NA&gt;</td>\n      <td>&lt;NA&gt;</td>\n      <td>&lt;NA&gt;</td>\n      <td>&lt;NA&gt;</td>\n      <td>&lt;NA&gt;</td>\n      <td>&lt;NA&gt;</td>\n      <td>Cagliari</td>\n      <td>serie-a</td>\n    </tr>\n    <tr>\n      <th>11894</th>\n      <td>5</td>\n      <td>16</td>\n      <td>0</td>\n      <td>10</td>\n      <td>1</td>\n      <td>5</td>\n      <td>Juventus</td>\n      <td>2015-03-02</td>\n      <td>D</td>\n      <td>1</td>\n      <td>11</td>\n      <td>1</td>\n      <td>8</td>\n      <td>3</td>\n      <td>0</td>\n      <td>0</td>\n      <td>&lt;NA&gt;</td>\n      <td>Roma</td>\n      <td>serie-a</td>\n    </tr>\n    <tr>\n      <th>12426</th>\n      <td>7</td>\n      <td>21</td>\n      <td>0</td>\n      <td>15</td>\n      <td>5</td>\n      <td>2</td>\n      <td>Pescara</td>\n      <td>2016-08-28</td>\n      <td>A</td>\n      <td>2</td>\n      <td>12</td>\n      <td>0</td>\n      <td>13</td>\n      <td>3</td>\n      <td>&lt;NA&gt;</td>\n      <td>&lt;NA&gt;</td>\n      <td>2</td>\n      <td>Sassuolo</td>\n      <td>serie-a</td>\n    </tr>\n  </tbody>\n</table>\n</div>"
     },
     "metadata": {},
     "execution_count": 32
    }
   ],
   "source": [
    "# identify rows in train_df that have one or more null rows\n",
    "train_df_oneOrMoreNulls = train_df[train_df.isnull().any(axis=1)]\n",
    "train_df_oneOrMoreNulls"
   ]
  },
  {
   "source": [
    "We can now attempt to impute data for the missing values by searching the combination of (League, Date, HomeTeam, AwayTeam) in the data we have downloaded."
   ],
   "cell_type": "markdown",
   "metadata": {}
  },
  {
   "cell_type": "code",
   "execution_count": 33,
   "metadata": {},
   "outputs": [
    {
     "output_type": "stream",
     "text": [
      "\u001b[0;31mSignature:\u001b[0m\n",
      " \u001b[0mhelperFunctions\u001b[0m\u001b[0;34m.\u001b[0m\u001b[0mextractMissingMatchStatsForCurrentMatch\u001b[0m\u001b[0;34m(\u001b[0m\u001b[0;34m\u001b[0m\n",
      "\u001b[0;34m\u001b[0m    \u001b[0mmissingFields\u001b[0m\u001b[0;34m,\u001b[0m\u001b[0;34m\u001b[0m\n",
      "\u001b[0;34m\u001b[0m    \u001b[0mrow\u001b[0m\u001b[0;34m,\u001b[0m\u001b[0;34m\u001b[0m\n",
      "\u001b[0;34m\u001b[0m\u001b[0;34m)\u001b[0m\u001b[0;34m\u001b[0m\u001b[0;34m\u001b[0m\u001b[0m\n",
      "\u001b[0;31mDocstring:\u001b[0m\n",
      "Extract missing value for the specified field after searching for the match. \n",
      "We do this to just \"get\" the value the training data might be missing and is available in downloaded_data\n",
      "\u001b[0;31mFile:\u001b[0m      /code/football-ftr-prediction/helperFunctions.py\n",
      "\u001b[0;31mType:\u001b[0m      function\n"
     ],
     "name": "stdout"
    }
   ],
   "source": [
    "? helperFunctions.extractMissingMatchStatsForCurrentMatch"
   ]
  },
  {
   "cell_type": "code",
   "execution_count": 34,
   "metadata": {},
   "outputs": [
    {
     "output_type": "stream",
     "name": "stdout",
     "text": [
      "         Date HomeTeam   AwayTeam  AF  HF   league\n",
      "58 2011-09-18     Lyon  Marseille NaN NaN  ligue-1\n",
      "------------------------------------------------------------------------\n",
      "          Date HomeTeam AwayTeam  AF  HF   league\n",
      "171 2011-12-17     Caen    Nancy NaN NaN  ligue-1\n",
      "------------------------------------------------------------------------\n",
      "          Date HomeTeam AwayTeam  AC  AF  AR  AS  AST  AY  HC  HF  HR  HS  \\\n",
      "325 2017-04-16   Bastia     Lyon NaN NaN NaN NaN  NaN NaN NaN NaN NaN NaN   \n",
      "\n",
      "     HST  HTAG  HTHG  HY   league  \n",
      "325  NaN   NaN   NaN NaN  ligue-1  \n",
      "------------------------------------------------------------------------\n",
      "         Date  HomeTeam AwayTeam  AC  AF  AR  AS  AST  AY  HC  HF  HR  HS  \\\n",
      "34 2012-09-23  Cagliari     Roma NaN NaN NaN NaN  NaN NaN NaN NaN NaN NaN   \n",
      "\n",
      "    HST  HTAG  HTHG  HY   league  \n",
      "34  NaN   NaN   NaN NaN  serie-a  \n",
      "------------------------------------------------------------------------\n",
      "          Date HomeTeam  AwayTeam  HY   league\n",
      "247 2015-03-02     Roma  Juventus NaN  serie-a\n",
      "------------------------------------------------------------------------\n",
      "         Date  HomeTeam AwayTeam  HTAG  HTHG   league\n",
      "17 2016-08-28  Sassuolo  Pescara   NaN   NaN  serie-a\n",
      "------------------------------------------------------------------------\n"
     ]
    }
   ],
   "source": [
    "for rowIx, row in train_df_oneOrMoreNulls.iterrows():\n",
    "    missingFields = list(row.index[row.isnull()])\n",
    "    df = helperFunctions.extractMissingMatchStatsForCurrentMatch([\"Date\", \"HomeTeam\", \"AwayTeam\"] + missingFields, row)\n",
    "    df = df.assign(league=row['league']) # add new column for easier reading\n",
    "    print(df)\n",
    "    print(\"--------\"*9,)"
   ]
  },
  {
   "source": [
    "As we can see, the downloaded data also contains only null values.  \n",
    "\n",
    "However, we can look up the performance of the team during the season under that column (this will allow us to distinguish home performance vs. away performance). \n",
    "\n",
    "For a skewed distribution, a median is a good measure of central tendency. For a normal distribution, both median and mean (since both are approximately equal) are good measures of central tendency. Thus, median can be used for all columns."
   ],
   "cell_type": "markdown",
   "metadata": {}
  },
  {
   "cell_type": "code",
   "execution_count": 35,
   "metadata": {},
   "outputs": [
    {
     "output_type": "stream",
     "text": [
      "\u001b[0;31mSignature:\u001b[0m  \u001b[0mhelperFunctions\u001b[0m\u001b[0;34m.\u001b[0m\u001b[0maccessValuesUnderThisFieldForThisSeason\u001b[0m\u001b[0;34m(\u001b[0m\u001b[0mfield\u001b[0m\u001b[0;34m,\u001b[0m \u001b[0mrow\u001b[0m\u001b[0;34m)\u001b[0m\u001b[0;34m\u001b[0m\u001b[0;34m\u001b[0m\u001b[0m\n",
      "\u001b[0;31mDocstring:\u001b[0m Access all values under the specified field for the team that season. These can be used impute the missing values.\n",
      "\u001b[0;31mFile:\u001b[0m      /code/football-ftr-prediction/helperFunctions.py\n",
      "\u001b[0;31mType:\u001b[0m      function\n"
     ],
     "name": "stdout"
    }
   ],
   "source": [
    "? helperFunctions.accessValuesUnderThisFieldForThisSeason"
   ]
  },
  {
   "cell_type": "code",
   "execution_count": 36,
   "metadata": {},
   "outputs": [
    {
     "output_type": "stream",
     "name": "stdout",
     "text": [
      "%%%%%%%%%% ligue-1 match :: Lyon vs. Marseille on 18 September 2011 -- 2 null columns %%%%%%%%%%\n",
      "AF\tmean = 15.889\tmedian = 16.5\n",
      "[18.0, 15.0, nan, 17.0, 23.0, 17.0, 15.0, 11.0, 17.0, 13.0, 11.0, 10.0, 14.0, 19.0, 17.0, 22.0, 17.0, 16.0, 14.0]\n",
      "-------\n",
      "HF\tmean = 14.722\tmedian = 15.0\n",
      "[15.0, 14.0, nan, 18.0, 15.0, 13.0, 16.0, 18.0, 14.0, 15.0, 16.0, 17.0, 18.0, 14.0, 10.0, 12.0, 21.0, 10.0, 9.0]\n",
      "\n",
      "\n",
      "\n",
      "%%%%%%%%%% ligue-1 match :: Caen vs. Nancy on 17 December 2011 -- 2 null columns %%%%%%%%%%\n",
      "AF\tmean = 16.833\tmedian = 17.0\n",
      "[17.0, 17.0, 20.0, 19.0, 16.0, 18.0, 21.0, 18.0, nan, 20.0, 18.0, 18.0, 13.0, 16.0, 17.0, 16.0, 16.0, 10.0, 13.0]\n",
      "-------\n",
      "HF\tmean = 16.556\tmedian = 16.0\n",
      "[12.0, 18.0, 15.0, 18.0, 12.0, 16.0, 16.0, 23.0, nan, 13.0, 19.0, 16.0, 16.0, 16.0, 26.0, 18.0, 11.0, 19.0, 14.0]\n",
      "\n",
      "\n",
      "\n",
      "%%%%%%%%%% ligue-1 match :: Bastia vs. Lyon on 16 April 2017 -- 14 null columns %%%%%%%%%%\n",
      "AC\tmean = 6.056\tmedian = 5.5\n",
      "[4.0, 10.0, 1.0, 8.0, 4.0, 2.0, 5.0, 10.0, 9.0, 5.0, 3.0, 11.0, 4.0, 10.0, 8.0, 6.0, nan, 8.0, 1.0]\n",
      "-------\n",
      "AF\tmean = 14.333\tmedian = 14.5\n",
      "[14.0, 9.0, 12.0, 8.0, 22.0, 16.0, 15.0, 11.0, 20.0, 21.0, 19.0, 13.0, 17.0, 8.0, 17.0, 15.0, nan, 11.0, 10.0]\n",
      "-------\n",
      "AR\tmean = 0.222\tmedian = 0.0\n",
      "[0.0, 0.0, 0.0, 0.0, 1.0, 1.0, 0.0, 0.0, 0.0, 0.0, 2.0, 0.0, 0.0, 0.0, 0.0, 0.0, nan, 0.0, 0.0]\n",
      "-------\n",
      "AS\tmean = 14.278\tmedian = 14.0\n",
      "[9.0, 25.0, 14.0, 18.0, 4.0, 7.0, 17.0, 20.0, 17.0, 16.0, 12.0, 14.0, 13.0, 11.0, 20.0, 18.0, nan, 8.0, 14.0]\n",
      "-------\n",
      "AST\tmean = 5.111\tmedian = 5.0\n",
      "[7.0, 9.0, 1.0, 8.0, 3.0, 3.0, 3.0, 9.0, 10.0, 5.0, 4.0, 5.0, 2.0, 2.0, 6.0, 6.0, nan, 3.0, 6.0]\n",
      "-------\n",
      "AY\tmean = 2.0\tmedian = 2.0\n",
      "[2.0, 2.0, 2.0, 1.0, 3.0, 2.0, 3.0, 1.0, 2.0, 3.0, 2.0, 2.0, 4.0, 1.0, 1.0, 1.0, nan, 3.0, 1.0]\n",
      "-------\n",
      "HC\tmean = 4.667\tmedian = 5.0\n",
      "[2.0, 5.0, 5.0, 5.0, 6.0, 13.0, 5.0, 6.0, 5.0, 6.0, 0.0, 4.0, 3.0, 3.0, 4.0, 5.0, nan, 2.0, 5.0]\n",
      "-------\n",
      "HF\tmean = 11.722\tmedian = 12.0\n",
      "[15.0, 15.0, 12.0, 17.0, 8.0, 11.0, 15.0, 7.0, 13.0, 7.0, 16.0, 11.0, 14.0, 7.0, 8.0, 9.0, nan, 12.0, 14.0]\n",
      "-------\n",
      "HR\tmean = 0.278\tmedian = 0.0\n",
      "[0.0, 0.0, 0.0, 1.0, 0.0, 0.0, 0.0, 1.0, 0.0, 0.0, 1.0, 0.0, 0.0, 1.0, 1.0, 0.0, nan, 0.0, 0.0]\n",
      "-------\n",
      "HS\tmean = 11.111\tmedian = 11.0\n",
      "[10.0, 5.0, 10.0, 11.0, 12.0, 19.0, 16.0, 13.0, 16.0, 17.0, 11.0, 11.0, 9.0, 6.0, 5.0, 14.0, nan, 4.0, 11.0]\n",
      "-------\n",
      "HST\tmean = 3.889\tmedian = 3.0\n",
      "[0.0, 4.0, 5.0, 6.0, 3.0, 11.0, 3.0, 6.0, 6.0, 4.0, 2.0, 3.0, 3.0, 2.0, 1.0, 2.0, nan, 3.0, 6.0]\n",
      "-------\n",
      "HTAG\tmean = 0.222\tmedian = 0.0\n",
      "[0.0, 0.0, 0.0, 0.0, 1.0, 0.0, 0.0, 0.0, 0.0, 1.0, 1.0, 1.0, 0.0, 0.0, 0.0, 0.0, nan, 0.0, 0.0]\n",
      "-------\n",
      "HTHG\tmean = 0.389\tmedian = 0.0\n",
      "[0.0, 1.0, 0.0, 0.0, 1.0, 0.0, 1.0, 0.0, 1.0, 0.0, 1.0, 1.0, 1.0, 0.0, 0.0, 0.0, nan, 0.0, 0.0]\n",
      "-------\n",
      "HY\tmean = 1.778\tmedian = 2.0\n",
      "[3.0, 4.0, 0.0, 1.0, 2.0, 1.0, 2.0, 2.0, 2.0, 1.0, 1.0, 2.0, 2.0, 3.0, 1.0, 1.0, nan, 1.0, 3.0]\n",
      "\n",
      "\n",
      "\n",
      "%%%%%%%%%% serie-a match :: Cagliari vs. Roma on 23 September 2012 -- 14 null columns %%%%%%%%%%\n",
      "AC\tmean = 5.389\tmedian = 5.0\n",
      "[2.0, nan, 3.0, 9.0, 4.0, 7.0, 3.0, 9.0, 8.0, 10.0, 4.0, 3.0, 4.0, 5.0, 5.0, 6.0, 5.0, 2.0, 8.0]\n",
      "-------\n",
      "AF\tmean = 14.833\tmedian = 14.0\n",
      "[17.0, nan, 14.0, 13.0, 7.0, 23.0, 17.0, 13.0, 7.0, 14.0, 19.0, 21.0, 9.0, 16.0, 14.0, 11.0, 15.0, 23.0, 14.0]\n",
      "-------\n",
      "AR\tmean = 0.278\tmedian = 0.0\n",
      "[1.0, nan, 0.0, 0.0, 0.0, 1.0, 0.0, 0.0, 0.0, 1.0, 0.0, 0.0, 0.0, 0.0, 0.0, 0.0, 1.0, 0.0, 1.0]\n",
      "-------\n",
      "AS\tmean = 14.833\tmedian = 14.0\n",
      "[12.0, nan, 12.0, 17.0, 12.0, 9.0, 20.0, 22.0, 14.0, 25.0, 14.0, 14.0, 18.0, 11.0, 9.0, 19.0, 11.0, 11.0, 17.0]\n",
      "-------\n",
      "AST\tmean = 5.167\tmedian = 5.0\n",
      "[3.0, nan, 3.0, 7.0, 7.0, 4.0, 6.0, 7.0, 2.0, 8.0, 2.0, 7.0, 5.0, 5.0, 4.0, 8.0, 4.0, 3.0, 8.0]\n",
      "-------\n",
      "AY\tmean = 2.333\tmedian = 2.0\n",
      "[2.0, nan, 4.0, 1.0, 1.0, 4.0, 3.0, 2.0, 2.0, 1.0, 3.0, 3.0, 2.0, 1.0, 3.0, 2.0, 2.0, 3.0, 3.0]\n",
      "-------\n",
      "HC\tmean = 6.222\tmedian = 5.0\n",
      "[13.0, nan, 8.0, 5.0, 6.0, 5.0, 10.0, 12.0, 1.0, 6.0, 12.0, 4.0, 4.0, 3.0, 5.0, 2.0, 4.0, 9.0, 3.0]\n",
      "-------\n",
      "HF\tmean = 17.944\tmedian = 18.5\n",
      "[24.0, nan, 22.0, 21.0, 11.0, 25.0, 18.0, 11.0, 23.0, 19.0, 14.0, 17.0, 13.0, 22.0, 19.0, 10.0, 25.0, 15.0, 14.0]\n",
      "-------\n",
      "HR\tmean = 0.278\tmedian = 0.0\n",
      "[0.0, nan, 1.0, 0.0, 0.0, 0.0, 0.0, 0.0, 1.0, 0.0, 0.0, 1.0, 0.0, 1.0, 0.0, 0.0, 1.0, 0.0, 0.0]\n",
      "-------\n",
      "HS\tmean = 14.444\tmedian = 12.5\n",
      "[25.0, nan, 20.0, 8.0, 20.0, 12.0, 18.0, 23.0, 5.0, 20.0, 18.0, 11.0, 12.0, 11.0, 9.0, 11.0, 10.0, 14.0, 13.0]\n",
      "-------\n",
      "HST\tmean = 4.889\tmedian = 5.0\n",
      "[6.0, nan, 11.0, 2.0, 8.0, 4.0, 3.0, 7.0, 2.0, 5.0, 7.0, 2.0, 5.0, 6.0, 5.0, 4.0, 0.0, 6.0, 5.0]\n",
      "-------\n",
      "HTAG\tmean = 0.111\tmedian = 0.0\n",
      "[0.0, nan, 0.0, 0.0, 1.0, 0.0, 0.0, 0.0, 0.0, 0.0, 1.0, 0.0, 0.0, 0.0, 0.0, 0.0, 0.0, 0.0, 0.0]\n",
      "-------\n",
      "HTHG\tmean = 0.5\tmedian = 0.0\n",
      "[0.0, nan, 0.0, 0.0, 3.0, 0.0, 0.0, 0.0, 1.0, 0.0, 0.0, 1.0, 1.0, 1.0, 2.0, 0.0, 0.0, 0.0, 0.0]\n",
      "-------\n",
      "HY\tmean = 2.611\tmedian = 3.0\n",
      "[3.0, nan, 2.0, 1.0, 2.0, 4.0, 3.0, 4.0, 4.0, 3.0, 3.0, 3.0, 2.0, 1.0, 3.0, 3.0, 5.0, 0.0, 1.0]\n",
      "\n",
      "\n",
      "\n",
      "%%%%%%%%%% serie-a match :: Roma vs. Juventus on 02 March 2015 -- 1 null columns %%%%%%%%%%\n",
      "HY\tmean = 2.278\tmedian = 2.0\n",
      "[4.0, 1.0, 1.0, 1.0, 1.0, 1.0, 1.0, 2.0, 4.0, 4.0, 3.0, 0.0, nan, 2.0, 4.0, 4.0, 3.0, 3.0, 2.0]\n",
      "\n",
      "\n",
      "\n",
      "%%%%%%%%%% serie-a match :: Sassuolo vs. Pescara on 28 August 2016 -- 2 null columns %%%%%%%%%%\n",
      "HTAG\tmean = 0.722\tmedian = 1.0\n",
      "[nan, 0.0, 0.0, 1.0, 0.0, 3.0, 0.0, 0.0, 0.0, 1.0, 2.0, 1.0, 1.0, 0.0, 1.0, 1.0, 0.0, 1.0, 1.0]\n",
      "-------\n",
      "HTHG\tmean = 0.667\tmedian = 0.0\n",
      "[nan, 0.0, 1.0, 0.0, 1.0, 0.0, 2.0, 0.0, 0.0, 2.0, 0.0, 1.0, 0.0, 0.0, 1.0, 0.0, 0.0, 0.0, 4.0]\n",
      "\n",
      "\n",
      "\n"
     ]
    }
   ],
   "source": [
    "# view values seen in the season for the chosen home/away team (19 values for 19 matches) and print the mean and median value as a sanity check\n",
    "\n",
    "for rowIx, row in train_df_oneOrMoreNulls.iterrows():\n",
    "    missingFields = list(row.index[row.isnull()])\n",
    "    print(\"%\"*10, f\"{row['league']} match :: {row['HomeTeam']} vs. {row['AwayTeam']} on {row['Date'].strftime('%d %B %Y')} -- {len(missingFields)} null columns\", \"%\"*10)\n",
    "    \n",
    "    for ix, missingField in enumerate(missingFields):\n",
    "        missingFieldValuesForCurrentSeason = helperFunctions.accessValuesUnderThisFieldForThisSeason(missingField, row)\n",
    "        print(missingField + f\"\\tmean = {np.round(np.nanmean(list(missingFieldValuesForCurrentSeason)), 3)}\" + f\"\\tmedian = {np.round(np.nanmedian(list(missingFieldValuesForCurrentSeason)), 3)}\")\n",
    "        print(list(missingFieldValuesForCurrentSeason))\n",
    "        print(\"\\n\\n\") if ix+1 == len(missingFields) else print(\"-------\")\n"
   ]
  },
  {
   "source": [
    "For a skewed distribution, Median is a good measure of central tendency. In case of non-skewed distribution, both Mean and Median are good measures of Central Tendency.\n",
    "\n",
    "Therefore, using Median for all missing columns will automatically handle and impute the correct value for us."
   ],
   "cell_type": "markdown",
   "metadata": {}
  },
  {
   "cell_type": "code",
   "execution_count": 37,
   "metadata": {},
   "outputs": [
    {
     "output_type": "stream",
     "text": [
      "\u001b[0;31mSignature:\u001b[0m  \u001b[0mhelperFunctions\u001b[0m\u001b[0;34m.\u001b[0m\u001b[0maccessValuesUnderThisFieldForThisSeason\u001b[0m\u001b[0;34m(\u001b[0m\u001b[0mfield\u001b[0m\u001b[0;34m,\u001b[0m \u001b[0mrow\u001b[0m\u001b[0;34m)\u001b[0m\u001b[0;34m\u001b[0m\u001b[0;34m\u001b[0m\u001b[0m\n",
      "\u001b[0;31mDocstring:\u001b[0m Access all values under the specified field for the team that season. These can be used impute the missing values.\n",
      "\u001b[0;31mFile:\u001b[0m      /code/football-ftr-prediction/helperFunctions.py\n",
      "\u001b[0;31mType:\u001b[0m      function\n"
     ],
     "name": "stdout"
    }
   ],
   "source": [
    "? helperFunctions.accessValuesUnderThisFieldForThisSeason"
   ]
  },
  {
   "cell_type": "code",
   "execution_count": 38,
   "metadata": {},
   "outputs": [],
   "source": [
    "# impute missing values in train_df_oneOrMoreNulls to check if it's producing desired results\n",
    "\n",
    "for rowIx, row in train_df_oneOrMoreNulls.iterrows():\n",
    "    missingFields = list(row.index[row.isnull()])\n",
    "\n",
    "    for missingField in missingFields:\n",
    "        valuesForCurrentSeason = helperFunctions.accessValuesUnderThisFieldForThisSeason(missingField, row)\n",
    "        # we will round the median values, make them of integer type and then impute those values in the dataframe\n",
    "        train_df_oneOrMoreNulls.at[rowIx, missingField] = int(np.round(np.nanmedian(list(valuesForCurrentSeason)), 0))"
   ]
  },
  {
   "cell_type": "code",
   "execution_count": 39,
   "metadata": {},
   "outputs": [
    {
     "output_type": "execute_result",
     "data": {
      "text/plain": [
       "       AC  AF  AR  AS  AST  AY   AwayTeam       Date FTR  HC  HF  HR  HS  HST  \\\n",
       "5620    5  16   0   6    3   3  Marseille 2011-09-18   H   3  15   0  10    5   \n",
       "5733    1  17   0   9    3   5      Nancy 2011-12-17   A   8  16   0   9    1   \n",
       "7408    6  14   0  14    5   2       Lyon 2017-04-16   A   5  12   0  11    3   \n",
       "11298   5  14   0  14    5   2       Roma 2012-09-23   A   5  18   0  12    5   \n",
       "11894   5  16   0  10    1   5   Juventus 2015-03-02   D   1  11   1   8    3   \n",
       "12426   7  21   0  15    5   2    Pescara 2016-08-28   A   2  12   0  13    3   \n",
       "\n",
       "       HTAG  HTHG  HY  HomeTeam   league  \n",
       "5620      0     2   0      Lyon  ligue-1  \n",
       "5733      1     0   2      Caen  ligue-1  \n",
       "7408      0     0   2    Bastia  ligue-1  \n",
       "11298     0     0   3  Cagliari  serie-a  \n",
       "11894     0     0   2      Roma  serie-a  \n",
       "12426     1     0   2  Sassuolo  serie-a  "
      ],
      "text/html": "<div>\n<style scoped>\n    .dataframe tbody tr th:only-of-type {\n        vertical-align: middle;\n    }\n\n    .dataframe tbody tr th {\n        vertical-align: top;\n    }\n\n    .dataframe thead th {\n        text-align: right;\n    }\n</style>\n<table border=\"1\" class=\"dataframe\">\n  <thead>\n    <tr style=\"text-align: right;\">\n      <th></th>\n      <th>AC</th>\n      <th>AF</th>\n      <th>AR</th>\n      <th>AS</th>\n      <th>AST</th>\n      <th>AY</th>\n      <th>AwayTeam</th>\n      <th>Date</th>\n      <th>FTR</th>\n      <th>HC</th>\n      <th>HF</th>\n      <th>HR</th>\n      <th>HS</th>\n      <th>HST</th>\n      <th>HTAG</th>\n      <th>HTHG</th>\n      <th>HY</th>\n      <th>HomeTeam</th>\n      <th>league</th>\n    </tr>\n  </thead>\n  <tbody>\n    <tr>\n      <th>5620</th>\n      <td>5</td>\n      <td>16</td>\n      <td>0</td>\n      <td>6</td>\n      <td>3</td>\n      <td>3</td>\n      <td>Marseille</td>\n      <td>2011-09-18</td>\n      <td>H</td>\n      <td>3</td>\n      <td>15</td>\n      <td>0</td>\n      <td>10</td>\n      <td>5</td>\n      <td>0</td>\n      <td>2</td>\n      <td>0</td>\n      <td>Lyon</td>\n      <td>ligue-1</td>\n    </tr>\n    <tr>\n      <th>5733</th>\n      <td>1</td>\n      <td>17</td>\n      <td>0</td>\n      <td>9</td>\n      <td>3</td>\n      <td>5</td>\n      <td>Nancy</td>\n      <td>2011-12-17</td>\n      <td>A</td>\n      <td>8</td>\n      <td>16</td>\n      <td>0</td>\n      <td>9</td>\n      <td>1</td>\n      <td>1</td>\n      <td>0</td>\n      <td>2</td>\n      <td>Caen</td>\n      <td>ligue-1</td>\n    </tr>\n    <tr>\n      <th>7408</th>\n      <td>6</td>\n      <td>14</td>\n      <td>0</td>\n      <td>14</td>\n      <td>5</td>\n      <td>2</td>\n      <td>Lyon</td>\n      <td>2017-04-16</td>\n      <td>A</td>\n      <td>5</td>\n      <td>12</td>\n      <td>0</td>\n      <td>11</td>\n      <td>3</td>\n      <td>0</td>\n      <td>0</td>\n      <td>2</td>\n      <td>Bastia</td>\n      <td>ligue-1</td>\n    </tr>\n    <tr>\n      <th>11298</th>\n      <td>5</td>\n      <td>14</td>\n      <td>0</td>\n      <td>14</td>\n      <td>5</td>\n      <td>2</td>\n      <td>Roma</td>\n      <td>2012-09-23</td>\n      <td>A</td>\n      <td>5</td>\n      <td>18</td>\n      <td>0</td>\n      <td>12</td>\n      <td>5</td>\n      <td>0</td>\n      <td>0</td>\n      <td>3</td>\n      <td>Cagliari</td>\n      <td>serie-a</td>\n    </tr>\n    <tr>\n      <th>11894</th>\n      <td>5</td>\n      <td>16</td>\n      <td>0</td>\n      <td>10</td>\n      <td>1</td>\n      <td>5</td>\n      <td>Juventus</td>\n      <td>2015-03-02</td>\n      <td>D</td>\n      <td>1</td>\n      <td>11</td>\n      <td>1</td>\n      <td>8</td>\n      <td>3</td>\n      <td>0</td>\n      <td>0</td>\n      <td>2</td>\n      <td>Roma</td>\n      <td>serie-a</td>\n    </tr>\n    <tr>\n      <th>12426</th>\n      <td>7</td>\n      <td>21</td>\n      <td>0</td>\n      <td>15</td>\n      <td>5</td>\n      <td>2</td>\n      <td>Pescara</td>\n      <td>2016-08-28</td>\n      <td>A</td>\n      <td>2</td>\n      <td>12</td>\n      <td>0</td>\n      <td>13</td>\n      <td>3</td>\n      <td>1</td>\n      <td>0</td>\n      <td>2</td>\n      <td>Sassuolo</td>\n      <td>serie-a</td>\n    </tr>\n  </tbody>\n</table>\n</div>"
     },
     "metadata": {},
     "execution_count": 39
    }
   ],
   "source": [
    "train_df_oneOrMoreNulls"
   ]
  },
  {
   "source": [
    "We can see all values are correctly imputed. Let's make these changes in `train_df`."
   ],
   "cell_type": "markdown",
   "metadata": {}
  },
  {
   "source": [
    "train_df[train_df.isnull().any(axis=1)] # viewing null values of train_df before changing them"
   ],
   "cell_type": "code",
   "metadata": {},
   "execution_count": 40,
   "outputs": [
    {
     "output_type": "execute_result",
     "data": {
      "text/plain": [
       "         AC    AF    AR    AS   AST    AY   AwayTeam       Date FTR    HC  \\\n",
       "5620      5  <NA>     0     6     3     3  Marseille 2011-09-18   H     3   \n",
       "5733      1  <NA>     0     9     3     5      Nancy 2011-12-17   A     8   \n",
       "7408   <NA>  <NA>  <NA>  <NA>  <NA>  <NA>       Lyon 2017-04-16   A  <NA>   \n",
       "11298  <NA>  <NA>  <NA>  <NA>  <NA>  <NA>       Roma 2012-09-23   A  <NA>   \n",
       "11894     5    16     0    10     1     5   Juventus 2015-03-02   D     1   \n",
       "12426     7    21     0    15     5     2    Pescara 2016-08-28   A     2   \n",
       "\n",
       "         HF    HR    HS   HST  HTAG  HTHG    HY  HomeTeam   league  \n",
       "5620   <NA>     0    10     5     0     2     0      Lyon  ligue-1  \n",
       "5733   <NA>     0     9     1     1     0     2      Caen  ligue-1  \n",
       "7408   <NA>  <NA>  <NA>  <NA>  <NA>  <NA>  <NA>    Bastia  ligue-1  \n",
       "11298  <NA>  <NA>  <NA>  <NA>  <NA>  <NA>  <NA>  Cagliari  serie-a  \n",
       "11894    11     1     8     3     0     0  <NA>      Roma  serie-a  \n",
       "12426    12     0    13     3  <NA>  <NA>     2  Sassuolo  serie-a  "
      ],
      "text/html": "<div>\n<style scoped>\n    .dataframe tbody tr th:only-of-type {\n        vertical-align: middle;\n    }\n\n    .dataframe tbody tr th {\n        vertical-align: top;\n    }\n\n    .dataframe thead th {\n        text-align: right;\n    }\n</style>\n<table border=\"1\" class=\"dataframe\">\n  <thead>\n    <tr style=\"text-align: right;\">\n      <th></th>\n      <th>AC</th>\n      <th>AF</th>\n      <th>AR</th>\n      <th>AS</th>\n      <th>AST</th>\n      <th>AY</th>\n      <th>AwayTeam</th>\n      <th>Date</th>\n      <th>FTR</th>\n      <th>HC</th>\n      <th>HF</th>\n      <th>HR</th>\n      <th>HS</th>\n      <th>HST</th>\n      <th>HTAG</th>\n      <th>HTHG</th>\n      <th>HY</th>\n      <th>HomeTeam</th>\n      <th>league</th>\n    </tr>\n  </thead>\n  <tbody>\n    <tr>\n      <th>5620</th>\n      <td>5</td>\n      <td>&lt;NA&gt;</td>\n      <td>0</td>\n      <td>6</td>\n      <td>3</td>\n      <td>3</td>\n      <td>Marseille</td>\n      <td>2011-09-18</td>\n      <td>H</td>\n      <td>3</td>\n      <td>&lt;NA&gt;</td>\n      <td>0</td>\n      <td>10</td>\n      <td>5</td>\n      <td>0</td>\n      <td>2</td>\n      <td>0</td>\n      <td>Lyon</td>\n      <td>ligue-1</td>\n    </tr>\n    <tr>\n      <th>5733</th>\n      <td>1</td>\n      <td>&lt;NA&gt;</td>\n      <td>0</td>\n      <td>9</td>\n      <td>3</td>\n      <td>5</td>\n      <td>Nancy</td>\n      <td>2011-12-17</td>\n      <td>A</td>\n      <td>8</td>\n      <td>&lt;NA&gt;</td>\n      <td>0</td>\n      <td>9</td>\n      <td>1</td>\n      <td>1</td>\n      <td>0</td>\n      <td>2</td>\n      <td>Caen</td>\n      <td>ligue-1</td>\n    </tr>\n    <tr>\n      <th>7408</th>\n      <td>&lt;NA&gt;</td>\n      <td>&lt;NA&gt;</td>\n      <td>&lt;NA&gt;</td>\n      <td>&lt;NA&gt;</td>\n      <td>&lt;NA&gt;</td>\n      <td>&lt;NA&gt;</td>\n      <td>Lyon</td>\n      <td>2017-04-16</td>\n      <td>A</td>\n      <td>&lt;NA&gt;</td>\n      <td>&lt;NA&gt;</td>\n      <td>&lt;NA&gt;</td>\n      <td>&lt;NA&gt;</td>\n      <td>&lt;NA&gt;</td>\n      <td>&lt;NA&gt;</td>\n      <td>&lt;NA&gt;</td>\n      <td>&lt;NA&gt;</td>\n      <td>Bastia</td>\n      <td>ligue-1</td>\n    </tr>\n    <tr>\n      <th>11298</th>\n      <td>&lt;NA&gt;</td>\n      <td>&lt;NA&gt;</td>\n      <td>&lt;NA&gt;</td>\n      <td>&lt;NA&gt;</td>\n      <td>&lt;NA&gt;</td>\n      <td>&lt;NA&gt;</td>\n      <td>Roma</td>\n      <td>2012-09-23</td>\n      <td>A</td>\n      <td>&lt;NA&gt;</td>\n      <td>&lt;NA&gt;</td>\n      <td>&lt;NA&gt;</td>\n      <td>&lt;NA&gt;</td>\n      <td>&lt;NA&gt;</td>\n      <td>&lt;NA&gt;</td>\n      <td>&lt;NA&gt;</td>\n      <td>&lt;NA&gt;</td>\n      <td>Cagliari</td>\n      <td>serie-a</td>\n    </tr>\n    <tr>\n      <th>11894</th>\n      <td>5</td>\n      <td>16</td>\n      <td>0</td>\n      <td>10</td>\n      <td>1</td>\n      <td>5</td>\n      <td>Juventus</td>\n      <td>2015-03-02</td>\n      <td>D</td>\n      <td>1</td>\n      <td>11</td>\n      <td>1</td>\n      <td>8</td>\n      <td>3</td>\n      <td>0</td>\n      <td>0</td>\n      <td>&lt;NA&gt;</td>\n      <td>Roma</td>\n      <td>serie-a</td>\n    </tr>\n    <tr>\n      <th>12426</th>\n      <td>7</td>\n      <td>21</td>\n      <td>0</td>\n      <td>15</td>\n      <td>5</td>\n      <td>2</td>\n      <td>Pescara</td>\n      <td>2016-08-28</td>\n      <td>A</td>\n      <td>2</td>\n      <td>12</td>\n      <td>0</td>\n      <td>13</td>\n      <td>3</td>\n      <td>&lt;NA&gt;</td>\n      <td>&lt;NA&gt;</td>\n      <td>2</td>\n      <td>Sassuolo</td>\n      <td>serie-a</td>\n    </tr>\n  </tbody>\n</table>\n</div>"
     },
     "metadata": {},
     "execution_count": 40
    }
   ]
  },
  {
   "cell_type": "code",
   "execution_count": 41,
   "metadata": {},
   "outputs": [],
   "source": [
    "# impute missing values in train_df_oneOrMoreNulls to check if it's producing desired results\n",
    "\n",
    "for rowIx, row in train_df.iterrows():\n",
    "    missingFields = list(row.index[row.isnull()])\n",
    "\n",
    "    for missingField in missingFields:\n",
    "        valuesForCurrentSeason = helperFunctions.accessValuesUnderThisFieldForThisSeason(missingField, row)\n",
    "        # we round the median values, make them of integer type and then impute those values in the dataframe\n",
    "        train_df.at[rowIx, missingField] = int(np.round(np.nanmedian(list(valuesForCurrentSeason)), 0))"
   ]
  },
  {
   "cell_type": "code",
   "execution_count": 42,
   "metadata": {},
   "outputs": [
    {
     "output_type": "execute_result",
     "data": {
      "text/plain": [
       "Empty DataFrame\n",
       "Columns: [AC, AF, AR, AS, AST, AY, AwayTeam, Date, FTR, HC, HF, HR, HS, HST, HTAG, HTHG, HY, HomeTeam, league]\n",
       "Index: []"
      ],
      "text/html": "<div>\n<style scoped>\n    .dataframe tbody tr th:only-of-type {\n        vertical-align: middle;\n    }\n\n    .dataframe tbody tr th {\n        vertical-align: top;\n    }\n\n    .dataframe thead th {\n        text-align: right;\n    }\n</style>\n<table border=\"1\" class=\"dataframe\">\n  <thead>\n    <tr style=\"text-align: right;\">\n      <th></th>\n      <th>AC</th>\n      <th>AF</th>\n      <th>AR</th>\n      <th>AS</th>\n      <th>AST</th>\n      <th>AY</th>\n      <th>AwayTeam</th>\n      <th>Date</th>\n      <th>FTR</th>\n      <th>HC</th>\n      <th>HF</th>\n      <th>HR</th>\n      <th>HS</th>\n      <th>HST</th>\n      <th>HTAG</th>\n      <th>HTHG</th>\n      <th>HY</th>\n      <th>HomeTeam</th>\n      <th>league</th>\n    </tr>\n  </thead>\n  <tbody>\n  </tbody>\n</table>\n</div>"
     },
     "metadata": {},
     "execution_count": 42
    }
   ],
   "source": [
    "train_df[train_df.isnull().any(axis=1)] # we see no null values now"
   ]
  },
  {
   "cell_type": "code",
   "execution_count": 43,
   "metadata": {},
   "outputs": [
    {
     "output_type": "execute_result",
     "data": {
      "text/plain": [
       "Empty DataFrame\n",
       "Columns: [AC, AF, AR, AS, AST, AY, AwayTeam, Date, HC, HF, HR, HS, HST, HTAG, HTHG, HY, HomeTeam, league]\n",
       "Index: []"
      ],
      "text/html": "<div>\n<style scoped>\n    .dataframe tbody tr th:only-of-type {\n        vertical-align: middle;\n    }\n\n    .dataframe tbody tr th {\n        vertical-align: top;\n    }\n\n    .dataframe thead th {\n        text-align: right;\n    }\n</style>\n<table border=\"1\" class=\"dataframe\">\n  <thead>\n    <tr style=\"text-align: right;\">\n      <th></th>\n      <th>AC</th>\n      <th>AF</th>\n      <th>AR</th>\n      <th>AS</th>\n      <th>AST</th>\n      <th>AY</th>\n      <th>AwayTeam</th>\n      <th>Date</th>\n      <th>HC</th>\n      <th>HF</th>\n      <th>HR</th>\n      <th>HS</th>\n      <th>HST</th>\n      <th>HTAG</th>\n      <th>HTHG</th>\n      <th>HY</th>\n      <th>HomeTeam</th>\n      <th>league</th>\n    </tr>\n    <tr>\n      <th>index</th>\n      <th></th>\n      <th></th>\n      <th></th>\n      <th></th>\n      <th></th>\n      <th></th>\n      <th></th>\n      <th></th>\n      <th></th>\n      <th></th>\n      <th></th>\n      <th></th>\n      <th></th>\n      <th></th>\n      <th></th>\n      <th></th>\n      <th></th>\n      <th></th>\n    </tr>\n  </thead>\n  <tbody>\n  </tbody>\n</table>\n</div>"
     },
     "metadata": {},
     "execution_count": 43
    }
   ],
   "source": [
    "test_df[test_df.isnull().any(axis=1)]"
   ]
  },
  {
   "source": [
    "So, we have no empty values in `train_df` and `test_df`."
   ],
   "cell_type": "markdown",
   "metadata": {}
  },
  {
   "source": [
    "## Investigation of June and July league matches found in `train_df`"
   ],
   "cell_type": "markdown",
   "metadata": {}
  },
  {
   "source": [
    "Let us check the distribution of matches monthwise across different leagues."
   ],
   "cell_type": "markdown",
   "metadata": {}
  },
  {
   "cell_type": "code",
   "execution_count": 44,
   "metadata": {},
   "outputs": [
    {
     "output_type": "stream",
     "name": "stdout",
     "text": [
      "League :: bundesliga\n[('01', 133), ('02', 261), ('03', 235), ('04', 297), ('05', 154), ('08', 154), ('09', 244), ('10', 229), ('11', 228), ('12', 207)]\n=======\n\nLeague :: la-liga\n[('01', 314), ('02', 285), ('03', 297), ('04', 373), ('05', 254), ('06', 10), ('08', 110), ('09', 280), ('10', 260), ('11', 250), ('12', 227)]\n=======\n\nLeague :: ligue-1\n[('01', 212), ('02', 293), ('03', 254), ('04', 312), ('05', 267), ('08', 260), ('09', 261), ('10', 248), ('11', 256), ('12', 297)]\n=======\n\nLeague :: premier-league\n[('01', 274), ('02', 257), ('03', 241), ('04', 329), ('05', 220), ('08', 215), ('09', 219), ('10', 255), ('11', 268), ('12', 382)]\n=======\n\nLeague :: serie-a\n[('01', 312), ('02', 315), ('03', 262), ('04', 335), ('05', 256), ('08', 90), ('09', 289), ('10', 303), ('11', 265), ('12', 233)]\n=======\n\n"
     ]
    }
   ],
   "source": [
    "for league in list(np.unique(train_df[\"league\"])):\n",
    "    print(f\"League :: {league}\")\n",
    "    print(sorted(Counter(train_df[(train_df[\"league\"] == league)][\"Date\"].dt.strftime(\"%m\")).items()))\n",
    "    print(\"=======\\n\")"
   ]
  },
  {
   "source": [
    "** Football leagues usually take a Summer break in June and July every year.  **Let us verify that further by checking that for every league every year. We expect to see zero matches."
   ],
   "cell_type": "markdown",
   "metadata": {}
  },
  {
   "cell_type": "code",
   "execution_count": 45,
   "metadata": {},
   "outputs": [
    {
     "output_type": "stream",
     "name": "stdout",
     "text": [
      ">> bundesliga matches in summer of 2009 were []\n",
      ">> la-liga matches in summer of 2009 were []\n",
      ">> ligue-1 matches in summer of 2009 were []\n",
      ">> premier-league matches in summer of 2009 were []\n",
      ">> serie-a matches in summer of 2009 were []\n",
      "******************************************************************************************\n",
      ">> bundesliga matches in summer of 2010 were []\n",
      ">> la-liga matches in summer of 2010 were []\n",
      ">> ligue-1 matches in summer of 2010 were []\n",
      ">> premier-league matches in summer of 2010 were []\n",
      ">> serie-a matches in summer of 2010 were []\n",
      "******************************************************************************************\n",
      ">> bundesliga matches in summer of 2011 were []\n",
      ">> la-liga matches in summer of 2011 were []\n",
      ">> ligue-1 matches in summer of 2011 were []\n",
      ">> premier-league matches in summer of 2011 were []\n",
      ">> serie-a matches in summer of 2011 were []\n",
      "******************************************************************************************\n",
      ">> bundesliga matches in summer of 2012 were []\n",
      ">> la-liga matches in summer of 2012 were []\n",
      ">> ligue-1 matches in summer of 2012 were []\n",
      ">> premier-league matches in summer of 2012 were []\n",
      ">> serie-a matches in summer of 2012 were []\n",
      "******************************************************************************************\n",
      ">> bundesliga matches in summer of 2013 were []\n",
      ">> la-liga matches in summer of 2013 were [('06', 10)]\n",
      ">> ligue-1 matches in summer of 2013 were []\n",
      ">> premier-league matches in summer of 2013 were []\n",
      ">> serie-a matches in summer of 2013 were []\n",
      "******************************************************************************************\n",
      ">> bundesliga matches in summer of 2014 were []\n",
      ">> la-liga matches in summer of 2014 were []\n",
      ">> ligue-1 matches in summer of 2014 were []\n",
      ">> premier-league matches in summer of 2014 were []\n",
      ">> serie-a matches in summer of 2014 were []\n",
      "******************************************************************************************\n",
      ">> bundesliga matches in summer of 2015 were []\n",
      ">> la-liga matches in summer of 2015 were []\n",
      ">> ligue-1 matches in summer of 2015 were []\n",
      ">> premier-league matches in summer of 2015 were []\n",
      ">> serie-a matches in summer of 2015 were []\n",
      "******************************************************************************************\n",
      ">> bundesliga matches in summer of 2016 were []\n",
      ">> la-liga matches in summer of 2016 were []\n",
      ">> ligue-1 matches in summer of 2016 were []\n",
      ">> premier-league matches in summer of 2016 were []\n",
      ">> serie-a matches in summer of 2016 were []\n",
      "******************************************************************************************\n",
      ">> bundesliga matches in summer of 2017 were []\n",
      ">> la-liga matches in summer of 2017 were []\n",
      ">> ligue-1 matches in summer of 2017 were []\n",
      ">> premier-league matches in summer of 2017 were []\n",
      ">> serie-a matches in summer of 2017 were []\n",
      "******************************************************************************************\n"
     ]
    }
   ],
   "source": [
    "# count the number of matches in the summer months of the year for all the leagues in the train_df\n",
    "# For e.g. ('06', 10) means 10 matches in June of that year\n",
    "\n",
    "for year in range(2009, 2017+1): # since train_df is from calendar year 2009 to 2017\n",
    "    for league in list(np.unique(train_df[\"league\"])):\n",
    "        counts = sorted(Counter(train_df[  (train_df[\"league\"] == league) & (train_df[\"Date\"].dt.year == year) & \\\n",
    "                                            ((train_df[\"Date\"].dt.month == 6) | (train_df[\"Date\"].dt.month == 7)) # summer months\n",
    "                                        ][\"Date\"].dt.strftime(\"%m\")).items() )\n",
    "\n",
    "        print(f\">> {league} matches in summer of {str(year)} were {counts}\")\n",
    "    print(\"***\"*30)"
   ]
  },
  {
   "source": [
    "Let's randomly pick up some of leagues' seasons and view these rows in the `train_df`."
   ],
   "cell_type": "markdown",
   "metadata": {}
  },
  {
   "cell_type": "code",
   "execution_count": 46,
   "metadata": {},
   "outputs": [
    {
     "output_type": "execute_result",
     "data": {
      "text/plain": [
       "      AC  AF  AR  AS  AST  AY    AwayTeam       Date FTR  HC  HF  HR  HS  HST  \\\n",
       "3652   6   5   0  11    5   0      Malaga 2013-06-01   H   9   5   0  10    6   \n",
       "3653   6  17   1   8    1   3     Espanol 2013-06-01   H   6  17   0  12    5   \n",
       "3654   4   7   0  11    0   1      Getafe 2013-06-01   H   4  10   0  16    5   \n",
       "3655   1  19   1  13    6   2    Sociedad 2013-06-01   A   7  12   0  20    5   \n",
       "3656   5  15   0   9    2   4       Betis 2013-06-01   D   7  17   0  13    4   \n",
       "3657   5  11   0  11    5   0  Valladolid 2013-06-01   H   9   8   0  20   10   \n",
       "3658   5  12   0  26   13   1     Osasuna 2013-06-01   H   4  15   0  18    9   \n",
       "3659   1  11   1  17    7   6    Valencia 2013-06-01   H   9  14   0  21    9   \n",
       "3660   1  20   1   5    3   3  Ath Bilbao 2013-06-01   D  11  12   0  28    6   \n",
       "3661   4  11   0  16    4   1  Ath Madrid 2013-06-01   A   7  11   0  15    6   \n",
       "\n",
       "      HTAG  HTHG  HY     HomeTeam   league  \n",
       "3652     0     3   0    Barcelona  la-liga  \n",
       "3653     0     1   1        Celta  la-liga  \n",
       "3654     0     1   1      Granada  la-liga  \n",
       "3655     1     0   7    La Coruna  la-liga  \n",
       "3656     0     0   3      Levante  la-liga  \n",
       "3657     1     2   2     Mallorca  la-liga  \n",
       "3658     0     2   1  Real Madrid  la-liga  \n",
       "3659     1     2   3      Sevilla  la-liga  \n",
       "3660     1     1   1    Vallecano  la-liga  \n",
       "3661     0     0   2     Zaragoza  la-liga  "
      ],
      "text/html": "<div>\n<style scoped>\n    .dataframe tbody tr th:only-of-type {\n        vertical-align: middle;\n    }\n\n    .dataframe tbody tr th {\n        vertical-align: top;\n    }\n\n    .dataframe thead th {\n        text-align: right;\n    }\n</style>\n<table border=\"1\" class=\"dataframe\">\n  <thead>\n    <tr style=\"text-align: right;\">\n      <th></th>\n      <th>AC</th>\n      <th>AF</th>\n      <th>AR</th>\n      <th>AS</th>\n      <th>AST</th>\n      <th>AY</th>\n      <th>AwayTeam</th>\n      <th>Date</th>\n      <th>FTR</th>\n      <th>HC</th>\n      <th>HF</th>\n      <th>HR</th>\n      <th>HS</th>\n      <th>HST</th>\n      <th>HTAG</th>\n      <th>HTHG</th>\n      <th>HY</th>\n      <th>HomeTeam</th>\n      <th>league</th>\n    </tr>\n  </thead>\n  <tbody>\n    <tr>\n      <th>3652</th>\n      <td>6</td>\n      <td>5</td>\n      <td>0</td>\n      <td>11</td>\n      <td>5</td>\n      <td>0</td>\n      <td>Malaga</td>\n      <td>2013-06-01</td>\n      <td>H</td>\n      <td>9</td>\n      <td>5</td>\n      <td>0</td>\n      <td>10</td>\n      <td>6</td>\n      <td>0</td>\n      <td>3</td>\n      <td>0</td>\n      <td>Barcelona</td>\n      <td>la-liga</td>\n    </tr>\n    <tr>\n      <th>3653</th>\n      <td>6</td>\n      <td>17</td>\n      <td>1</td>\n      <td>8</td>\n      <td>1</td>\n      <td>3</td>\n      <td>Espanol</td>\n      <td>2013-06-01</td>\n      <td>H</td>\n      <td>6</td>\n      <td>17</td>\n      <td>0</td>\n      <td>12</td>\n      <td>5</td>\n      <td>0</td>\n      <td>1</td>\n      <td>1</td>\n      <td>Celta</td>\n      <td>la-liga</td>\n    </tr>\n    <tr>\n      <th>3654</th>\n      <td>4</td>\n      <td>7</td>\n      <td>0</td>\n      <td>11</td>\n      <td>0</td>\n      <td>1</td>\n      <td>Getafe</td>\n      <td>2013-06-01</td>\n      <td>H</td>\n      <td>4</td>\n      <td>10</td>\n      <td>0</td>\n      <td>16</td>\n      <td>5</td>\n      <td>0</td>\n      <td>1</td>\n      <td>1</td>\n      <td>Granada</td>\n      <td>la-liga</td>\n    </tr>\n    <tr>\n      <th>3655</th>\n      <td>1</td>\n      <td>19</td>\n      <td>1</td>\n      <td>13</td>\n      <td>6</td>\n      <td>2</td>\n      <td>Sociedad</td>\n      <td>2013-06-01</td>\n      <td>A</td>\n      <td>7</td>\n      <td>12</td>\n      <td>0</td>\n      <td>20</td>\n      <td>5</td>\n      <td>1</td>\n      <td>0</td>\n      <td>7</td>\n      <td>La Coruna</td>\n      <td>la-liga</td>\n    </tr>\n    <tr>\n      <th>3656</th>\n      <td>5</td>\n      <td>15</td>\n      <td>0</td>\n      <td>9</td>\n      <td>2</td>\n      <td>4</td>\n      <td>Betis</td>\n      <td>2013-06-01</td>\n      <td>D</td>\n      <td>7</td>\n      <td>17</td>\n      <td>0</td>\n      <td>13</td>\n      <td>4</td>\n      <td>0</td>\n      <td>0</td>\n      <td>3</td>\n      <td>Levante</td>\n      <td>la-liga</td>\n    </tr>\n    <tr>\n      <th>3657</th>\n      <td>5</td>\n      <td>11</td>\n      <td>0</td>\n      <td>11</td>\n      <td>5</td>\n      <td>0</td>\n      <td>Valladolid</td>\n      <td>2013-06-01</td>\n      <td>H</td>\n      <td>9</td>\n      <td>8</td>\n      <td>0</td>\n      <td>20</td>\n      <td>10</td>\n      <td>1</td>\n      <td>2</td>\n      <td>2</td>\n      <td>Mallorca</td>\n      <td>la-liga</td>\n    </tr>\n    <tr>\n      <th>3658</th>\n      <td>5</td>\n      <td>12</td>\n      <td>0</td>\n      <td>26</td>\n      <td>13</td>\n      <td>1</td>\n      <td>Osasuna</td>\n      <td>2013-06-01</td>\n      <td>H</td>\n      <td>4</td>\n      <td>15</td>\n      <td>0</td>\n      <td>18</td>\n      <td>9</td>\n      <td>0</td>\n      <td>2</td>\n      <td>1</td>\n      <td>Real Madrid</td>\n      <td>la-liga</td>\n    </tr>\n    <tr>\n      <th>3659</th>\n      <td>1</td>\n      <td>11</td>\n      <td>1</td>\n      <td>17</td>\n      <td>7</td>\n      <td>6</td>\n      <td>Valencia</td>\n      <td>2013-06-01</td>\n      <td>H</td>\n      <td>9</td>\n      <td>14</td>\n      <td>0</td>\n      <td>21</td>\n      <td>9</td>\n      <td>1</td>\n      <td>2</td>\n      <td>3</td>\n      <td>Sevilla</td>\n      <td>la-liga</td>\n    </tr>\n    <tr>\n      <th>3660</th>\n      <td>1</td>\n      <td>20</td>\n      <td>1</td>\n      <td>5</td>\n      <td>3</td>\n      <td>3</td>\n      <td>Ath Bilbao</td>\n      <td>2013-06-01</td>\n      <td>D</td>\n      <td>11</td>\n      <td>12</td>\n      <td>0</td>\n      <td>28</td>\n      <td>6</td>\n      <td>1</td>\n      <td>1</td>\n      <td>1</td>\n      <td>Vallecano</td>\n      <td>la-liga</td>\n    </tr>\n    <tr>\n      <th>3661</th>\n      <td>4</td>\n      <td>11</td>\n      <td>0</td>\n      <td>16</td>\n      <td>4</td>\n      <td>1</td>\n      <td>Ath Madrid</td>\n      <td>2013-06-01</td>\n      <td>A</td>\n      <td>7</td>\n      <td>11</td>\n      <td>0</td>\n      <td>15</td>\n      <td>6</td>\n      <td>0</td>\n      <td>0</td>\n      <td>2</td>\n      <td>Zaragoza</td>\n      <td>la-liga</td>\n    </tr>\n  </tbody>\n</table>\n</div>"
     },
     "metadata": {},
     "execution_count": 46
    }
   ],
   "source": [
    "# La-Liga matches in June and July 2014\n",
    "train_df[(train_df[\"league\"] == \"la-liga\") & (train_df[\"Date\"].dt.year == 2013) & ((train_df[\"Date\"].dt.month == 6) | (train_df[\"Date\"].dt.month == 7))]"
   ]
  },
  {
   "source": [
    "^^ These are the 10 matches we counted in the output above.  \n",
    "\n",
    "[2012-13 La-liga season information on Wikipedia](https://en.wikipedia.org/wiki/2012–13_La_Liga) agrees with the observations seen in the dataset. It started on 18 August 2012 and ended on 1 June 2013."
   ],
   "cell_type": "markdown",
   "metadata": {}
  },
  {
   "source": [
    "Let us check the start and end date of each season for every league **using the data we downloaded from [www.football-data.co.uk](www.football-data.co.uk)**"
   ],
   "cell_type": "markdown",
   "metadata": {}
  },
  {
   "cell_type": "code",
   "execution_count": 47,
   "metadata": {},
   "outputs": [
    {
     "output_type": "stream",
     "name": "stdout",
     "text": [
      "2008-09 bundesliga season was between 15 August 2008 and 23 May 2009 \n",
      "2008-09 la-liga season was between 30 August 2008 and 31 May 2009 \n",
      "2008-09 ligue-1 season was between 09 August 2008 and 30 May 2009 \n",
      "2008-09 premier-league season was between 16 August 2008 and 24 May 2009 \n",
      "2008-09 serie-a season was between 30 August 2008 and 31 May 2009 \n",
      "=========\n",
      "2009-10 bundesliga season was between 07 August 2009 and 08 May 2010 \n",
      "2009-10 la-liga season was between 29 August 2009 and 16 May 2010 \n",
      "2009-10 ligue-1 season was between 08 August 2009 and 15 May 2010 \n",
      "2009-10 premier-league season was between 15 August 2009 and 09 May 2010 \n",
      "2009-10 serie-a season was between 22 August 2009 and 16 May 2010 \n",
      "=========\n",
      "2010-11 bundesliga season was between 20 August 2010 and 14 May 2011 \n",
      "2010-11 la-liga season was between 28 August 2010 and 21 May 2011 \n",
      "2010-11 ligue-1 season was between 07 August 2010 and 29 May 2011 \n",
      "2010-11 premier-league season was between 14 August 2010 and 22 May 2011 \n",
      "2010-11 serie-a season was between 28 August 2010 and 22 May 2011 \n",
      "=========\n",
      "2011-12 bundesliga season was between 05 August 2011 and 05 May 2012 \n",
      "2011-12 la-liga season was between 27 August 2011 and 13 May 2012 \n",
      "2011-12 ligue-1 season was between 06 August 2011 and 20 May 2012 \n",
      "2011-12 premier-league season was between 13 August 2011 and 13 May 2012 \n",
      "2011-12 serie-a season was between 09 September 2011 and 13 May 2012 \n",
      "=========\n",
      "2012-13 bundesliga season was between 24 August 2012 and 18 May 2013 \n",
      "2012-13 la-liga season was between 18 August 2012 and 01 June 2013 ------    ran beyond May\n",
      "2012-13 ligue-1 season was between 10 August 2012 and 26 May 2013 \n",
      "2012-13 premier-league season was between 18 August 2012 and 19 May 2013 \n",
      "2012-13 serie-a season was between 25 August 2012 and 19 May 2013 \n",
      "=========\n",
      "2013-14 bundesliga season was between 09 August 2013 and 10 May 2014 \n",
      "2013-14 la-liga season was between 17 August 2013 and 18 May 2014 \n",
      "2013-14 ligue-1 season was between 09 August 2013 and 17 May 2014 \n",
      "2013-14 premier-league season was between 17 August 2013 and 11 May 2014 \n",
      "2013-14 serie-a season was between 24 August 2013 and 18 May 2014 \n",
      "=========\n",
      "2014-15 bundesliga season was between 22 August 2014 and 23 May 2015 \n",
      "2014-15 la-liga season was between 23 August 2014 and 23 May 2015 \n",
      "2014-15 ligue-1 season was between 08 August 2014 and 23 May 2015 \n",
      "2014-15 premier-league season was between 16 August 2014 and 24 May 2015 \n",
      "2014-15 serie-a season was between 30 August 2014 and 31 May 2015 \n",
      "=========\n",
      "2015-16 bundesliga season was between 14 August 2015 and 14 May 2016 \n",
      "2015-16 la-liga season was between 21 August 2015 and 15 May 2016 \n",
      "2015-16 ligue-1 season was between 07 August 2015 and 14 May 2016 \n",
      "2015-16 premier-league season was between 08 August 2015 and 17 May 2016 \n",
      "2015-16 serie-a season was between 22 August 2015 and 15 May 2016 \n",
      "=========\n",
      "2016-17 bundesliga season was between 26 August 2016 and 20 May 2017 \n",
      "2016-17 la-liga season was between 19 August 2016 and 21 May 2017 \n",
      "2016-17 ligue-1 season was between 12 August 2016 and 20 May 2017 \n",
      "2016-17 premier-league season was between 13 August 2016 and 21 May 2017 \n",
      "2016-17 serie-a season was between 20 August 2016 and 28 May 2017 \n",
      "=========\n",
      "2017-18 bundesliga season was between 18 August 2017 and 12 May 2018 \n",
      "2017-18 la-liga season was between 18 August 2017 and 20 May 2018 \n",
      "2017-18 ligue-1 season was between 04 August 2017 and 19 May 2018 \n",
      "2017-18 premier-league season was between 11 August 2017 and 13 May 2018 \n",
      "2017-18 serie-a season was between 19 August 2017 and 20 May 2018 \n",
      "=========\n"
     ]
    }
   ],
   "source": [
    "# since train_df is from calendar year 2009 to 2017\n",
    "# therefore, first season is 2008-09; last season is 2017-18\n",
    "\n",
    "for year in range(2008, 2017+1):\n",
    "    season = f\"{str(year)}-{str(year+1)[-2:]}\"\n",
    "    seasonId = str(year)[-2:] + str(year+1)[-2:]\n",
    "    for leagueName in list(np.unique(train_df[\"league\"])):\n",
    "        seasonId = str(year)[-2:] + str(year+1)[-2:]\n",
    "        currSeasonCurrLeagueDF = pd.read_csv(os.path.join(\"downloaded_data\", f\"{leagueName}_{seasonId}.csv\")).dropna(how='all')\n",
    "        try:\n",
    "            firstDayOfTheSeason = min(pd.to_datetime(currSeasonCurrLeagueDF[\"Date\"], format=\"%d/%m/%y\")) # earlier dates are \"lesser\"\n",
    "            lastDayOfTheSeason = max(pd.to_datetime(currSeasonCurrLeagueDF[\"Date\"], format=\"%d/%m/%y\")) # later dates are \"greater\"\n",
    "        except ValueError as err:\n",
    "            firstDayOfTheSeason = min(pd.to_datetime(currSeasonCurrLeagueDF[\"Date\"], format=\"%d/%m/%Y\")) # earlier dates are \"lesser\"\n",
    "            lastDayOfTheSeason = max(pd.to_datetime(currSeasonCurrLeagueDF[\"Date\"], format=\"%d/%m/%Y\")) # later dates are \"greater\"\n",
    "        \n",
    "        # pretty print the start and end date of the season\n",
    "        firstMatchDateStr, lastMatchDateStr = firstDayOfTheSeason.strftime('%d %B %Y'), lastDayOfTheSeason.strftime('%d %B %Y')\n",
    "        \n",
    "        # catch seasons which end beyond May\n",
    "        seasonRunsBeyondMay = \"------    ran beyond May\" if lastDayOfTheSeason.year == (year+1) and lastDayOfTheSeason.month > 5 else \"\"\n",
    "        \n",
    "        print(f\"{season} {leagueName} season was between {firstMatchDateStr} and {lastMatchDateStr} {seasonRunsBeyondMay}\")\n",
    "    print(\"=========\")"
   ]
  },
  {
   "source": [
    "The data downloaded from football-data.co.uk agrees with the train_df. None of the seasons across different leagues extend beyond May except for the 2012-13 La-liga season.\n",
    "\n",
    "**I just wanted to check for this possible discrepancy in the data. If there were matches in June and July for most years, then it could mean that there is some faulty data and we would not be able to match it with matches downloaded from [www.football-data.co.uk](www.football-data.co.uk) **  "
   ],
   "cell_type": "markdown",
   "metadata": {}
  },
  {
   "source": [
    "We will save the `train_df` and `test_df` as a CSVs to work on the next steps."
   ],
   "cell_type": "markdown",
   "metadata": {}
  },
  {
   "cell_type": "code",
   "execution_count": 48,
   "metadata": {},
   "outputs": [],
   "source": [
    "if not os.path.exists('imputed_data'): \n",
    "    os.mkdir(\"imputed_data\") # save imputed data in a new directory\n",
    "    \n",
    "train_df.to_csv(os.path.join(\"imputed_data\", 'train.csv'), index=False)\n",
    "test_df.to_csv(os.path.join(\"imputed_data\", 'test-3.csv'), index=False)"
   ]
  },
  {
   "cell_type": "code",
   "execution_count": null,
   "metadata": {},
   "outputs": [],
   "source": []
  }
 ]
}