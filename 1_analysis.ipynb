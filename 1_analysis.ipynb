{
 "metadata": {
  "language_info": {
   "codemirror_mode": {
    "name": "ipython",
    "version": 3
   },
   "file_extension": ".py",
   "mimetype": "text/x-python",
   "name": "python",
   "nbconvert_exporter": "python",
   "pygments_lexer": "ipython3",
   "version": "3.7.7-final"
  },
  "orig_nbformat": 2,
  "kernelspec": {
   "name": "python377jvsc74a57bd08cb48ee34b52abbc0c4c6c9a8d1e18bbd374f2d1391cafbd22bf8a5424951de7",
   "display_name": "Python 3.7.7 64-bit ('base': conda)"
  }
 },
 "nbformat": 4,
 "nbformat_minor": 2,
 "cells": [
  {
   "cell_type": "code",
   "execution_count": 66,
   "metadata": {},
   "outputs": [],
   "source": [
    "import numpy as np\n",
    "import pandas as pd\n",
    "import matplotlib.pyplot as plt\n",
    "import seaborn as sns\n",
    "\n",
    "from collections import Counter"
   ]
  },
  {
   "cell_type": "code",
   "execution_count": 2,
   "metadata": {},
   "outputs": [],
   "source": [
    "# read the train and test csv files\n",
    "\n",
    "train_df = pd.read_csv('original_data/train.csv')\n",
    "test_df = pd.read_csv('original_data/test-3.csv', index_col='index') # no need to read the index column"
   ]
  },
  {
   "source": [
    "## Data Exploration, Data Cleaning"
   ],
   "cell_type": "markdown",
   "metadata": {}
  },
  {
   "source": [
    "Let us examine the dataframes and their columns"
   ],
   "cell_type": "markdown",
   "metadata": {}
  },
  {
   "cell_type": "code",
   "execution_count": 3,
   "metadata": {},
   "outputs": [
    {
     "output_type": "execute_result",
     "data": {
      "text/plain": [
       "         AC    AF   AR    AS  AST   AY       AwayTeam      Date FTR    HC  \\\n",
       "0       3.0  12.0  0.0  14.0  4.0  0.0      Stuttgart  07/08/09   H   6.0   \n",
       "1       1.0  10.0  0.0   7.0  0.0  1.0        FC Koln  08/08/09   H  16.0   \n",
       "2       3.0  20.0  0.0  15.0  3.0  2.0       Hannover  08/08/09   H   5.0   \n",
       "3      10.0  28.0  0.0   9.0  3.0  2.0  Bayern Munich  08/08/09   D   3.0   \n",
       "4       5.0  28.0  0.0  13.0  7.0  2.0     Leverkusen  08/08/09   D   3.0   \n",
       "...     ...   ...  ...   ...  ...  ...            ...       ...  ..   ...   \n",
       "12784   7.0   1.0  0.0  17.0  4.0  1.0        Udinese  28/05/17   H   6.0   \n",
       "12785   7.0  16.0  0.0  17.0  4.0  4.0         Empoli  28/05/17   H   0.0   \n",
       "12786   2.0  14.0  0.0  13.0  4.0  0.0          Genoa  28/05/17   H   6.0   \n",
       "12787  10.0   8.0  0.0  22.0  7.0  0.0         Napoli  28/05/17   A   5.0   \n",
       "12788  10.0   6.0  0.0  21.0  7.0  0.0       Sassuolo  28/05/17   H   6.0   \n",
       "\n",
       "         HF   HR    HS   HST  HTAG  HTHG   HY    HomeTeam      league  \n",
       "0      12.0  0.0  13.0   7.0   0.0   0.0  0.0   Wolfsburg  bundesliga  \n",
       "1       8.0  0.0  24.0  11.0   0.0   0.0  0.0    Dortmund  bundesliga  \n",
       "2      16.0  0.0  10.0   4.0   0.0   0.0  3.0      Hertha  bundesliga  \n",
       "3      10.0  0.0   9.0   1.0   1.0   1.0  0.0  Hoffenheim  bundesliga  \n",
       "4      22.0  0.0   8.0   4.0   2.0   1.0  1.0       Mainz  bundesliga  \n",
       "...     ...  ...   ...   ...   ...   ...  ...         ...         ...  \n",
       "12784  15.0  0.0  17.0   6.0   0.0   3.0  2.0       Inter     serie-a  \n",
       "12785  18.0  0.0  10.0   5.0   0.0   0.0  3.0     Palermo     serie-a  \n",
       "12786   8.0  0.0  24.0   7.0   1.0   1.0  2.0        Roma     serie-a  \n",
       "12787   9.0  0.0  12.0   2.0   2.0   0.0  1.0   Sampdoria     serie-a  \n",
       "12788  16.0  0.0  16.0   9.0   2.0   3.0  2.0      Torino     serie-a  \n",
       "\n",
       "[12789 rows x 19 columns]"
      ],
      "text/html": "<div>\n<style scoped>\n    .dataframe tbody tr th:only-of-type {\n        vertical-align: middle;\n    }\n\n    .dataframe tbody tr th {\n        vertical-align: top;\n    }\n\n    .dataframe thead th {\n        text-align: right;\n    }\n</style>\n<table border=\"1\" class=\"dataframe\">\n  <thead>\n    <tr style=\"text-align: right;\">\n      <th></th>\n      <th>AC</th>\n      <th>AF</th>\n      <th>AR</th>\n      <th>AS</th>\n      <th>AST</th>\n      <th>AY</th>\n      <th>AwayTeam</th>\n      <th>Date</th>\n      <th>FTR</th>\n      <th>HC</th>\n      <th>HF</th>\n      <th>HR</th>\n      <th>HS</th>\n      <th>HST</th>\n      <th>HTAG</th>\n      <th>HTHG</th>\n      <th>HY</th>\n      <th>HomeTeam</th>\n      <th>league</th>\n    </tr>\n  </thead>\n  <tbody>\n    <tr>\n      <th>0</th>\n      <td>3.0</td>\n      <td>12.0</td>\n      <td>0.0</td>\n      <td>14.0</td>\n      <td>4.0</td>\n      <td>0.0</td>\n      <td>Stuttgart</td>\n      <td>07/08/09</td>\n      <td>H</td>\n      <td>6.0</td>\n      <td>12.0</td>\n      <td>0.0</td>\n      <td>13.0</td>\n      <td>7.0</td>\n      <td>0.0</td>\n      <td>0.0</td>\n      <td>0.0</td>\n      <td>Wolfsburg</td>\n      <td>bundesliga</td>\n    </tr>\n    <tr>\n      <th>1</th>\n      <td>1.0</td>\n      <td>10.0</td>\n      <td>0.0</td>\n      <td>7.0</td>\n      <td>0.0</td>\n      <td>1.0</td>\n      <td>FC Koln</td>\n      <td>08/08/09</td>\n      <td>H</td>\n      <td>16.0</td>\n      <td>8.0</td>\n      <td>0.0</td>\n      <td>24.0</td>\n      <td>11.0</td>\n      <td>0.0</td>\n      <td>0.0</td>\n      <td>0.0</td>\n      <td>Dortmund</td>\n      <td>bundesliga</td>\n    </tr>\n    <tr>\n      <th>2</th>\n      <td>3.0</td>\n      <td>20.0</td>\n      <td>0.0</td>\n      <td>15.0</td>\n      <td>3.0</td>\n      <td>2.0</td>\n      <td>Hannover</td>\n      <td>08/08/09</td>\n      <td>H</td>\n      <td>5.0</td>\n      <td>16.0</td>\n      <td>0.0</td>\n      <td>10.0</td>\n      <td>4.0</td>\n      <td>0.0</td>\n      <td>0.0</td>\n      <td>3.0</td>\n      <td>Hertha</td>\n      <td>bundesliga</td>\n    </tr>\n    <tr>\n      <th>3</th>\n      <td>10.0</td>\n      <td>28.0</td>\n      <td>0.0</td>\n      <td>9.0</td>\n      <td>3.0</td>\n      <td>2.0</td>\n      <td>Bayern Munich</td>\n      <td>08/08/09</td>\n      <td>D</td>\n      <td>3.0</td>\n      <td>10.0</td>\n      <td>0.0</td>\n      <td>9.0</td>\n      <td>1.0</td>\n      <td>1.0</td>\n      <td>1.0</td>\n      <td>0.0</td>\n      <td>Hoffenheim</td>\n      <td>bundesliga</td>\n    </tr>\n    <tr>\n      <th>4</th>\n      <td>5.0</td>\n      <td>28.0</td>\n      <td>0.0</td>\n      <td>13.0</td>\n      <td>7.0</td>\n      <td>2.0</td>\n      <td>Leverkusen</td>\n      <td>08/08/09</td>\n      <td>D</td>\n      <td>3.0</td>\n      <td>22.0</td>\n      <td>0.0</td>\n      <td>8.0</td>\n      <td>4.0</td>\n      <td>2.0</td>\n      <td>1.0</td>\n      <td>1.0</td>\n      <td>Mainz</td>\n      <td>bundesliga</td>\n    </tr>\n    <tr>\n      <th>...</th>\n      <td>...</td>\n      <td>...</td>\n      <td>...</td>\n      <td>...</td>\n      <td>...</td>\n      <td>...</td>\n      <td>...</td>\n      <td>...</td>\n      <td>...</td>\n      <td>...</td>\n      <td>...</td>\n      <td>...</td>\n      <td>...</td>\n      <td>...</td>\n      <td>...</td>\n      <td>...</td>\n      <td>...</td>\n      <td>...</td>\n      <td>...</td>\n    </tr>\n    <tr>\n      <th>12784</th>\n      <td>7.0</td>\n      <td>1.0</td>\n      <td>0.0</td>\n      <td>17.0</td>\n      <td>4.0</td>\n      <td>1.0</td>\n      <td>Udinese</td>\n      <td>28/05/17</td>\n      <td>H</td>\n      <td>6.0</td>\n      <td>15.0</td>\n      <td>0.0</td>\n      <td>17.0</td>\n      <td>6.0</td>\n      <td>0.0</td>\n      <td>3.0</td>\n      <td>2.0</td>\n      <td>Inter</td>\n      <td>serie-a</td>\n    </tr>\n    <tr>\n      <th>12785</th>\n      <td>7.0</td>\n      <td>16.0</td>\n      <td>0.0</td>\n      <td>17.0</td>\n      <td>4.0</td>\n      <td>4.0</td>\n      <td>Empoli</td>\n      <td>28/05/17</td>\n      <td>H</td>\n      <td>0.0</td>\n      <td>18.0</td>\n      <td>0.0</td>\n      <td>10.0</td>\n      <td>5.0</td>\n      <td>0.0</td>\n      <td>0.0</td>\n      <td>3.0</td>\n      <td>Palermo</td>\n      <td>serie-a</td>\n    </tr>\n    <tr>\n      <th>12786</th>\n      <td>2.0</td>\n      <td>14.0</td>\n      <td>0.0</td>\n      <td>13.0</td>\n      <td>4.0</td>\n      <td>0.0</td>\n      <td>Genoa</td>\n      <td>28/05/17</td>\n      <td>H</td>\n      <td>6.0</td>\n      <td>8.0</td>\n      <td>0.0</td>\n      <td>24.0</td>\n      <td>7.0</td>\n      <td>1.0</td>\n      <td>1.0</td>\n      <td>2.0</td>\n      <td>Roma</td>\n      <td>serie-a</td>\n    </tr>\n    <tr>\n      <th>12787</th>\n      <td>10.0</td>\n      <td>8.0</td>\n      <td>0.0</td>\n      <td>22.0</td>\n      <td>7.0</td>\n      <td>0.0</td>\n      <td>Napoli</td>\n      <td>28/05/17</td>\n      <td>A</td>\n      <td>5.0</td>\n      <td>9.0</td>\n      <td>0.0</td>\n      <td>12.0</td>\n      <td>2.0</td>\n      <td>2.0</td>\n      <td>0.0</td>\n      <td>1.0</td>\n      <td>Sampdoria</td>\n      <td>serie-a</td>\n    </tr>\n    <tr>\n      <th>12788</th>\n      <td>10.0</td>\n      <td>6.0</td>\n      <td>0.0</td>\n      <td>21.0</td>\n      <td>7.0</td>\n      <td>0.0</td>\n      <td>Sassuolo</td>\n      <td>28/05/17</td>\n      <td>H</td>\n      <td>6.0</td>\n      <td>16.0</td>\n      <td>0.0</td>\n      <td>16.0</td>\n      <td>9.0</td>\n      <td>2.0</td>\n      <td>3.0</td>\n      <td>2.0</td>\n      <td>Torino</td>\n      <td>serie-a</td>\n    </tr>\n  </tbody>\n</table>\n<p>12789 rows × 19 columns</p>\n</div>"
     },
     "metadata": {},
     "execution_count": 3
    }
   ],
   "source": [
    "train_df"
   ]
  },
  {
   "cell_type": "code",
   "execution_count": 4,
   "metadata": {},
   "outputs": [
    {
     "output_type": "execute_result",
     "data": {
      "text/plain": [
       "       AC  AF  AR  AS  AST  AY       AwayTeam      Date  HC  HF  HR  HS  HST  \\\n",
       "index                                                                          \n",
       "0       5  17   0  19    4   2     Leverkusen  18/08/17   4  13   0  13    8   \n",
       "1       7  16   0  13    1   3       Augsburg  19/08/17   3  18   0  11    5   \n",
       "2       1  12   0   9    2   1      Stuttgart  19/08/17   5  18   0  10    3   \n",
       "3       4  15   0  11    2   3  Werder Bremen  19/08/17   6  17   0  14    3   \n",
       "4       1  14   0   6    2   5       Hannover  19/08/17  13  18   0  14    6   \n",
       "...    ..  ..  ..  ..  ...  ..            ...       ...  ..  ..  ..  ..  ...   \n",
       "375     1   5   1   9    3   1     Fiorentina  20/05/18   6  10   0  18   11   \n",
       "376     9   9   0   9    4   0        Crotone  20/05/18   6   3   0  19    9   \n",
       "377     9   8   0  15    6   1           Roma  20/05/18   5  14   0  16    3   \n",
       "378     3  11   0   9    3   4      Sampdoria  20/05/18   5  10   0  16    6   \n",
       "379     2  11   0   8    5   2        Bologna  20/05/18  10   9   0  20    5   \n",
       "\n",
       "       HTAG  HTHG  HY       HomeTeam Referee      league  \n",
       "index                                                     \n",
       "0         0     2   1  Bayern Munich     NaN  bundesliga  \n",
       "1         0     1   4        Hamburg     NaN  bundesliga  \n",
       "2         0     0   2         Hertha     NaN  bundesliga  \n",
       "3         0     0   1     Hoffenheim     NaN  bundesliga  \n",
       "4         0     0   3          Mainz     NaN  bundesliga  \n",
       "...     ...   ...  ..            ...     ...         ...  \n",
       "375       1     2   2          Milan     NaN     serie-a  \n",
       "376       0     2   0         Napoli     NaN     serie-a  \n",
       "377       1     0   1       Sassuolo     NaN     serie-a  \n",
       "378       0     1   1           Spal     NaN     serie-a  \n",
       "379       0     1   0        Udinese     NaN     serie-a  \n",
       "\n",
       "[1826 rows x 19 columns]"
      ],
      "text/html": "<div>\n<style scoped>\n    .dataframe tbody tr th:only-of-type {\n        vertical-align: middle;\n    }\n\n    .dataframe tbody tr th {\n        vertical-align: top;\n    }\n\n    .dataframe thead th {\n        text-align: right;\n    }\n</style>\n<table border=\"1\" class=\"dataframe\">\n  <thead>\n    <tr style=\"text-align: right;\">\n      <th></th>\n      <th>AC</th>\n      <th>AF</th>\n      <th>AR</th>\n      <th>AS</th>\n      <th>AST</th>\n      <th>AY</th>\n      <th>AwayTeam</th>\n      <th>Date</th>\n      <th>HC</th>\n      <th>HF</th>\n      <th>HR</th>\n      <th>HS</th>\n      <th>HST</th>\n      <th>HTAG</th>\n      <th>HTHG</th>\n      <th>HY</th>\n      <th>HomeTeam</th>\n      <th>Referee</th>\n      <th>league</th>\n    </tr>\n    <tr>\n      <th>index</th>\n      <th></th>\n      <th></th>\n      <th></th>\n      <th></th>\n      <th></th>\n      <th></th>\n      <th></th>\n      <th></th>\n      <th></th>\n      <th></th>\n      <th></th>\n      <th></th>\n      <th></th>\n      <th></th>\n      <th></th>\n      <th></th>\n      <th></th>\n      <th></th>\n      <th></th>\n    </tr>\n  </thead>\n  <tbody>\n    <tr>\n      <th>0</th>\n      <td>5</td>\n      <td>17</td>\n      <td>0</td>\n      <td>19</td>\n      <td>4</td>\n      <td>2</td>\n      <td>Leverkusen</td>\n      <td>18/08/17</td>\n      <td>4</td>\n      <td>13</td>\n      <td>0</td>\n      <td>13</td>\n      <td>8</td>\n      <td>0</td>\n      <td>2</td>\n      <td>1</td>\n      <td>Bayern Munich</td>\n      <td>NaN</td>\n      <td>bundesliga</td>\n    </tr>\n    <tr>\n      <th>1</th>\n      <td>7</td>\n      <td>16</td>\n      <td>0</td>\n      <td>13</td>\n      <td>1</td>\n      <td>3</td>\n      <td>Augsburg</td>\n      <td>19/08/17</td>\n      <td>3</td>\n      <td>18</td>\n      <td>0</td>\n      <td>11</td>\n      <td>5</td>\n      <td>0</td>\n      <td>1</td>\n      <td>4</td>\n      <td>Hamburg</td>\n      <td>NaN</td>\n      <td>bundesliga</td>\n    </tr>\n    <tr>\n      <th>2</th>\n      <td>1</td>\n      <td>12</td>\n      <td>0</td>\n      <td>9</td>\n      <td>2</td>\n      <td>1</td>\n      <td>Stuttgart</td>\n      <td>19/08/17</td>\n      <td>5</td>\n      <td>18</td>\n      <td>0</td>\n      <td>10</td>\n      <td>3</td>\n      <td>0</td>\n      <td>0</td>\n      <td>2</td>\n      <td>Hertha</td>\n      <td>NaN</td>\n      <td>bundesliga</td>\n    </tr>\n    <tr>\n      <th>3</th>\n      <td>4</td>\n      <td>15</td>\n      <td>0</td>\n      <td>11</td>\n      <td>2</td>\n      <td>3</td>\n      <td>Werder Bremen</td>\n      <td>19/08/17</td>\n      <td>6</td>\n      <td>17</td>\n      <td>0</td>\n      <td>14</td>\n      <td>3</td>\n      <td>0</td>\n      <td>0</td>\n      <td>1</td>\n      <td>Hoffenheim</td>\n      <td>NaN</td>\n      <td>bundesliga</td>\n    </tr>\n    <tr>\n      <th>4</th>\n      <td>1</td>\n      <td>14</td>\n      <td>0</td>\n      <td>6</td>\n      <td>2</td>\n      <td>5</td>\n      <td>Hannover</td>\n      <td>19/08/17</td>\n      <td>13</td>\n      <td>18</td>\n      <td>0</td>\n      <td>14</td>\n      <td>6</td>\n      <td>0</td>\n      <td>0</td>\n      <td>3</td>\n      <td>Mainz</td>\n      <td>NaN</td>\n      <td>bundesliga</td>\n    </tr>\n    <tr>\n      <th>...</th>\n      <td>...</td>\n      <td>...</td>\n      <td>...</td>\n      <td>...</td>\n      <td>...</td>\n      <td>...</td>\n      <td>...</td>\n      <td>...</td>\n      <td>...</td>\n      <td>...</td>\n      <td>...</td>\n      <td>...</td>\n      <td>...</td>\n      <td>...</td>\n      <td>...</td>\n      <td>...</td>\n      <td>...</td>\n      <td>...</td>\n      <td>...</td>\n    </tr>\n    <tr>\n      <th>375</th>\n      <td>1</td>\n      <td>5</td>\n      <td>1</td>\n      <td>9</td>\n      <td>3</td>\n      <td>1</td>\n      <td>Fiorentina</td>\n      <td>20/05/18</td>\n      <td>6</td>\n      <td>10</td>\n      <td>0</td>\n      <td>18</td>\n      <td>11</td>\n      <td>1</td>\n      <td>2</td>\n      <td>2</td>\n      <td>Milan</td>\n      <td>NaN</td>\n      <td>serie-a</td>\n    </tr>\n    <tr>\n      <th>376</th>\n      <td>9</td>\n      <td>9</td>\n      <td>0</td>\n      <td>9</td>\n      <td>4</td>\n      <td>0</td>\n      <td>Crotone</td>\n      <td>20/05/18</td>\n      <td>6</td>\n      <td>3</td>\n      <td>0</td>\n      <td>19</td>\n      <td>9</td>\n      <td>0</td>\n      <td>2</td>\n      <td>0</td>\n      <td>Napoli</td>\n      <td>NaN</td>\n      <td>serie-a</td>\n    </tr>\n    <tr>\n      <th>377</th>\n      <td>9</td>\n      <td>8</td>\n      <td>0</td>\n      <td>15</td>\n      <td>6</td>\n      <td>1</td>\n      <td>Roma</td>\n      <td>20/05/18</td>\n      <td>5</td>\n      <td>14</td>\n      <td>0</td>\n      <td>16</td>\n      <td>3</td>\n      <td>1</td>\n      <td>0</td>\n      <td>1</td>\n      <td>Sassuolo</td>\n      <td>NaN</td>\n      <td>serie-a</td>\n    </tr>\n    <tr>\n      <th>378</th>\n      <td>3</td>\n      <td>11</td>\n      <td>0</td>\n      <td>9</td>\n      <td>3</td>\n      <td>4</td>\n      <td>Sampdoria</td>\n      <td>20/05/18</td>\n      <td>5</td>\n      <td>10</td>\n      <td>0</td>\n      <td>16</td>\n      <td>6</td>\n      <td>0</td>\n      <td>1</td>\n      <td>1</td>\n      <td>Spal</td>\n      <td>NaN</td>\n      <td>serie-a</td>\n    </tr>\n    <tr>\n      <th>379</th>\n      <td>2</td>\n      <td>11</td>\n      <td>0</td>\n      <td>8</td>\n      <td>5</td>\n      <td>2</td>\n      <td>Bologna</td>\n      <td>20/05/18</td>\n      <td>10</td>\n      <td>9</td>\n      <td>0</td>\n      <td>20</td>\n      <td>5</td>\n      <td>0</td>\n      <td>1</td>\n      <td>0</td>\n      <td>Udinese</td>\n      <td>NaN</td>\n      <td>serie-a</td>\n    </tr>\n  </tbody>\n</table>\n<p>1826 rows × 19 columns</p>\n</div>"
     },
     "metadata": {},
     "execution_count": 4
    }
   ],
   "source": [
    "test_df"
   ]
  },
  {
   "cell_type": "code",
   "execution_count": 5,
   "metadata": {},
   "outputs": [
    {
     "output_type": "execute_result",
     "data": {
      "text/plain": [
       "Index(['AC', 'AF', 'AR', 'AS', 'AST', 'AY', 'AwayTeam', 'Date', 'FTR', 'HC',\n",
       "       'HF', 'HR', 'HS', 'HST', 'HTAG', 'HTHG', 'HY', 'HomeTeam', 'league'],\n",
       "      dtype='object')"
      ]
     },
     "metadata": {},
     "execution_count": 5
    }
   ],
   "source": [
    "train_df.columns"
   ]
  },
  {
   "cell_type": "code",
   "execution_count": 6,
   "metadata": {},
   "outputs": [
    {
     "output_type": "execute_result",
     "data": {
      "text/plain": [
       "Index(['AC', 'AF', 'AR', 'AS', 'AST', 'AY', 'AwayTeam', 'Date', 'HC', 'HF',\n",
       "       'HR', 'HS', 'HST', 'HTAG', 'HTHG', 'HY', 'HomeTeam', 'Referee',\n",
       "       'league'],\n",
       "      dtype='object')"
      ]
     },
     "metadata": {},
     "execution_count": 6
    }
   ],
   "source": [
    "test_df.columns"
   ]
  },
  {
   "cell_type": "code",
   "execution_count": 7,
   "metadata": {},
   "outputs": [
    {
     "output_type": "stream",
     "name": "stdout",
     "text": [
      "Number of columns in train_df = 19\nNumber of columns in test_df = 19\n"
     ]
    }
   ],
   "source": [
    "print(f\"Number of columns in train_df = {len(train_df.columns)}\")\n",
    "print(f\"Number of columns in test_df = {len(test_df.columns)}\")"
   ]
  },
  {
   "source": [
    "At first glance, there is a `Referee` column in the test dataset which is not in the train dataset.\n",
    "In the train df, the FTR (what we should predict) appears but not in the test df, as it should.  \n",
    "\n",
    "Let us find out if there are more such columns."
   ],
   "cell_type": "markdown",
   "metadata": {}
  },
  {
   "cell_type": "code",
   "execution_count": 8,
   "metadata": {},
   "outputs": [
    {
     "output_type": "stream",
     "name": "stdout",
     "text": [
      "['AC', 'AF', 'AR', 'AS', 'AST', 'AY', 'AwayTeam', 'Date', 'HC', 'HF', 'HR', 'HS', 'HST', 'HTAG', 'HTHG', 'HY', 'HomeTeam', 'league'] i.e. 18 columns are common between train_df and test_df\n"
     ]
    }
   ],
   "source": [
    "commonColumns = set(list(train_df.columns)).intersection(set(list(test_df.columns))) # between train and test dataframes\n",
    "print(sorted(commonColumns), f\"i.e. {len(commonColumns)} columns are common between train_df and test_df\")"
   ]
  },
  {
   "cell_type": "code",
   "execution_count": 9,
   "metadata": {},
   "outputs": [
    {
     "output_type": "execute_result",
     "data": {
      "text/plain": [
       "{'FTR'}"
      ]
     },
     "metadata": {},
     "execution_count": 9
    }
   ],
   "source": [
    "set(list(train_df.columns)) - commonColumns  # columns only in train_df"
   ]
  },
  {
   "cell_type": "code",
   "execution_count": 10,
   "metadata": {},
   "outputs": [
    {
     "output_type": "execute_result",
     "data": {
      "text/plain": [
       "{'Referee'}"
      ]
     },
     "metadata": {},
     "execution_count": 10
    }
   ],
   "source": [
    "set(list(test_df.columns)) - commonColumns  # columns only in test_df"
   ]
  },
  {
   "source": [
    "The referee should not influence the outcome of the game. So, we can safely drop that column in test_df.  \n",
    "\n",
    "As we train our model, FTR column is not one of the predictors since that is what we are predicting. We drop this too for training. \n",
    "\n",
    "So, both the train and test dataframes will have the same columns once we drop these columns from the respective dataframes."
   ],
   "cell_type": "markdown",
   "metadata": {}
  },
  {
   "source": [
    "Let us check the datatypes and missing values in the two DFs."
   ],
   "cell_type": "markdown",
   "metadata": {}
  },
  {
   "cell_type": "code",
   "execution_count": 11,
   "metadata": {},
   "outputs": [
    {
     "output_type": "stream",
     "name": "stdout",
     "text": [
      "<class 'pandas.core.frame.DataFrame'>\nRangeIndex: 12789 entries, 0 to 12788\nData columns (total 19 columns):\n #   Column    Non-Null Count  Dtype  \n---  ------    --------------  -----  \n 0   AC        12780 non-null  float64\n 1   AF        12778 non-null  float64\n 2   AR        12780 non-null  float64\n 3   AS        12780 non-null  float64\n 4   AST       12780 non-null  float64\n 5   AY        12780 non-null  float64\n 6   AwayTeam  12782 non-null  object \n 7   Date      12782 non-null  object \n 8   FTR       12782 non-null  object \n 9   HC        12780 non-null  float64\n 10  HF        12778 non-null  float64\n 11  HR        12780 non-null  float64\n 12  HS        12780 non-null  float64\n 13  HST       12780 non-null  float64\n 14  HTAG      12779 non-null  float64\n 15  HTHG      12779 non-null  float64\n 16  HY        12779 non-null  float64\n 17  HomeTeam  12782 non-null  object \n 18  league    12789 non-null  object \ndtypes: float64(14), object(5)\nmemory usage: 1.9+ MB\n"
     ]
    }
   ],
   "source": [
    "train_df.info()"
   ]
  },
  {
   "source": [
    "Almost every column in train_df except the \"league\" has null values.  Even the FTR column i.e. the result column has 7 missing values. We will deal with these missing values later in this notebook."
   ],
   "cell_type": "markdown",
   "metadata": {}
  },
  {
   "cell_type": "code",
   "execution_count": 12,
   "metadata": {},
   "outputs": [
    {
     "output_type": "stream",
     "name": "stdout",
     "text": [
      "<class 'pandas.core.frame.DataFrame'>\nInt64Index: 1826 entries, 0 to 379\nData columns (total 19 columns):\n #   Column    Non-Null Count  Dtype \n---  ------    --------------  ----- \n 0   AC        1826 non-null   int64 \n 1   AF        1826 non-null   int64 \n 2   AR        1826 non-null   int64 \n 3   AS        1826 non-null   int64 \n 4   AST       1826 non-null   int64 \n 5   AY        1826 non-null   int64 \n 6   AwayTeam  1826 non-null   object\n 7   Date      1826 non-null   object\n 8   HC        1826 non-null   int64 \n 9   HF        1826 non-null   int64 \n 10  HR        1826 non-null   int64 \n 11  HS        1826 non-null   int64 \n 12  HST       1826 non-null   int64 \n 13  HTAG      1826 non-null   int64 \n 14  HTHG      1826 non-null   int64 \n 15  HY        1826 non-null   int64 \n 16  HomeTeam  1826 non-null   object\n 17  Referee   380 non-null    object\n 18  league    1826 non-null   object\ndtypes: int64(14), object(5)\nmemory usage: 285.3+ KB\n"
     ]
    }
   ],
   "source": [
    "test_df.info()"
   ]
  },
  {
   "source": [
    "Almost no column in test_df except Referee has null values. Since this column can be safely dropped, test_df will have no null values!!"
   ],
   "cell_type": "markdown",
   "metadata": {}
  },
  {
   "source": [
    "We can make use of date information in many ways like identify the season, number of days since last match (to capture player fatigue), fouls or goals per game UNTIL THE LAST GAME etc.  \n",
    "\n",
    "#### Since we are dealing with time sensitive data here, the model should not have access to data/statistics from future matches)"
   ],
   "cell_type": "markdown",
   "metadata": {}
  },
  {
   "cell_type": "code",
   "execution_count": 13,
   "metadata": {},
   "outputs": [],
   "source": [
    "# change string column to datetime64 column\n",
    "\n",
    "train_df[\"Date\"] = train_df[\"Date\"].apply(pd.to_datetime)\n",
    "test_df[\"Date\"] = test_df[\"Date\"].apply(pd.to_datetime)"
   ]
  },
  {
   "cell_type": "code",
   "execution_count": 133,
   "metadata": {},
   "outputs": [
    {
     "output_type": "stream",
     "name": "stdout",
     "text": [
      "\nOldest date in train_df is 2009-01-11 00:00:00\nLatest date in train_df is 2017-12-05 00:00:00\n\nOldest date in test_df is 2017-01-10 00:00:00\nLatest date in test_df is 2018-12-05 00:00:00\n"
     ]
    }
   ],
   "source": [
    "print(f\"\\nOldest date in train_df is {min(train_df['Date'])}\")\n",
    "print(f\"Latest date in train_df is {max(train_df['Date'])}\")\n",
    "\n",
    "print(f\"\\nOldest date in test_df is {min(test_df['Date'])}\")\n",
    "print(f\"Latest date in test_df is {max(test_df['Date'])}\")"
   ]
  },
  {
   "source": [
    "The date column has been read correctly since it matches the information given in the problem statement i.e. the matches in the training date from 2009 to 2017.  \n",
    "\n",
    "The dates tell us that it's calendar year 2009 and NOT start-of-season 2009 for train_df. Similar observations can be made for latest date in train_df, oldest date of test_df, latest_date of test_df. We will cross-check this later in this notebook."
   ],
   "cell_type": "markdown",
   "metadata": {}
  },
  {
   "source": [
    "# the following columns are always non-negative integers and can never be float values. The values are always less than the max value of Int8 since there can't something like 127 (max value of signed int) corners/shots in a match. Let us change them to integer values.\n",
    "\n",
    "columnNames = ['AC', 'AF', 'AR', 'AS', 'AST', 'AY', 'HC', 'HF', 'HR', 'HS', 'HST', 'HTAG', 'HTHG', 'HY']\n",
    "for columnName in columnNames:\n",
    "    if min(train_df[columnName]) < 0 or min(test_df[columnName]) < 0:\n",
    "        raise Exception(f\"Value under {columnName} in train_df or test_df is negative. This cannot happen. Some issue with the data!!\")\n",
    "    # if no issue found, change that column to integer type.\n",
    "    train_df[columnName] = train_df[columnName].astype('Int8')\n",
    "    test_df[columnName] = test_df[columnName].astype('Int8')"
   ],
   "cell_type": "code",
   "metadata": {},
   "execution_count": 14,
   "outputs": []
  },
  {
   "cell_type": "code",
   "execution_count": 15,
   "metadata": {},
   "outputs": [],
   "source": [
    "# the following columns are/should always be strings\n",
    "\n",
    "columnNames = ['AwayTeam', 'HomeTeam', 'league'] # skipped Referee since we will dropping it. FTR will be looked into.\n",
    "for columnName in columnNames:\n",
    "    train_df[columnName] = train_df[columnName].astype('string')\n",
    "    test_df[columnName] = test_df[columnName].astype('string')"
   ]
  },
  {
   "cell_type": "code",
   "execution_count": 16,
   "metadata": {},
   "outputs": [
    {
     "output_type": "execute_result",
     "data": {
      "text/plain": [
       "Counter({'H': 5931, 'D': 3283, 'A': 3568, <NA>: 7})"
      ]
     },
     "metadata": {},
     "execution_count": 16
    }
   ],
   "source": [
    "# check for any unexpected values under the FTR column\n",
    "\n",
    "Counter(list(train_df[\"FTR\"].astype('string')))"
   ]
  },
  {
   "cell_type": "code",
   "execution_count": 17,
   "metadata": {},
   "outputs": [],
   "source": [
    "# change FTR column to string.\n",
    "train_df[\"FTR\"] = train_df[\"FTR\"].astype('string') # null values are taken care of automatically"
   ]
  },
  {
   "source": [
    "# check for duplicated rows and keep only one occurence of the row. We'll choose the first occurence of the row. \n",
    "print(f\"Number of rows in train_df = {len(train_df)}\")\n",
    "print(f\"Number of rows in test_df = {len(test_df)}\")\n",
    "\n",
    "# drop duplicates\n",
    "train_df = train_df.drop_duplicates(keep='first')\n",
    "test_df = test_df.drop_duplicates(keep='first')\n",
    "print(\"After dropping duplicates ...\")\n",
    "\n",
    "print(f\"Number of rows in train_df = {len(train_df)}\")\n",
    "print(f\"Number of rows in test_df = {len(test_df)}\")\n"
   ],
   "cell_type": "code",
   "metadata": {},
   "execution_count": 18,
   "outputs": [
    {
     "output_type": "stream",
     "name": "stdout",
     "text": [
      "Number of rows in train_df = 12789\nNumber of rows in test_df = 1826\nAfter dropping duplicates ...\nNumber of rows in train_df = 12785\nNumber of rows in test_df = 1826\n"
     ]
    }
   ]
  },
  {
   "source": [
    "Four rows from train_df where there were duplicates have been dropped."
   ],
   "cell_type": "markdown",
   "metadata": {}
  },
  {
   "source": [
    "# let us drop the Referee column in the test_df\n",
    "test_df = test_df.drop(['Referee'], axis=1)"
   ],
   "cell_type": "code",
   "metadata": {},
   "execution_count": 24,
   "outputs": []
  },
  {
   "source": [
    "Once again, let us list the datatypes and number of null values under each column for train_df and test_df"
   ],
   "cell_type": "markdown",
   "metadata": {}
  },
  {
   "cell_type": "code",
   "execution_count": 25,
   "metadata": {},
   "outputs": [
    {
     "output_type": "stream",
     "name": "stdout",
     "text": [
      "<class 'pandas.core.frame.DataFrame'>\nInt64Index: 12785 entries, 0 to 12788\nData columns (total 19 columns):\n #   Column    Non-Null Count  Dtype         \n---  ------    --------------  -----         \n 0   AC        12780 non-null  Int8          \n 1   AF        12778 non-null  Int8          \n 2   AR        12780 non-null  Int8          \n 3   AS        12780 non-null  Int8          \n 4   AST       12780 non-null  Int8          \n 5   AY        12780 non-null  Int8          \n 6   AwayTeam  12782 non-null  string        \n 7   Date      12782 non-null  datetime64[ns]\n 8   FTR       12782 non-null  string        \n 9   HC        12780 non-null  Int8          \n 10  HF        12778 non-null  Int8          \n 11  HR        12780 non-null  Int8          \n 12  HS        12780 non-null  Int8          \n 13  HST       12780 non-null  Int8          \n 14  HTAG      12779 non-null  Int8          \n 15  HTHG      12779 non-null  Int8          \n 16  HY        12779 non-null  Int8          \n 17  HomeTeam  12782 non-null  string        \n 18  league    12785 non-null  string        \ndtypes: Int8(14), datetime64[ns](1), string(4)\nmemory usage: 948.9 KB\n"
     ]
    }
   ],
   "source": [
    "train_df.info()"
   ]
  },
  {
   "cell_type": "code",
   "execution_count": 27,
   "metadata": {},
   "outputs": [
    {
     "output_type": "stream",
     "name": "stdout",
     "text": [
      "<class 'pandas.core.frame.DataFrame'>\nInt64Index: 1826 entries, 0 to 379\nData columns (total 18 columns):\n #   Column    Non-Null Count  Dtype         \n---  ------    --------------  -----         \n 0   AC        1826 non-null   Int8          \n 1   AF        1826 non-null   Int8          \n 2   AR        1826 non-null   Int8          \n 3   AS        1826 non-null   Int8          \n 4   AST       1826 non-null   Int8          \n 5   AY        1826 non-null   Int8          \n 6   AwayTeam  1826 non-null   string        \n 7   Date      1826 non-null   datetime64[ns]\n 8   HC        1826 non-null   Int8          \n 9   HF        1826 non-null   Int8          \n 10  HR        1826 non-null   Int8          \n 11  HS        1826 non-null   Int8          \n 12  HST       1826 non-null   Int8          \n 13  HTAG      1826 non-null   Int8          \n 14  HTHG      1826 non-null   Int8          \n 15  HY        1826 non-null   Int8          \n 16  HomeTeam  1826 non-null   string        \n 17  league    1826 non-null   string        \ndtypes: Int8(14), datetime64[ns](1), string(3)\nmemory usage: 161.3 KB\n"
     ]
    }
   ],
   "source": [
    "test_df.info()"
   ]
  },
  {
   "source": [
    "Get the count of null values in all columns in the two dataframes"
   ],
   "cell_type": "markdown",
   "metadata": {}
  },
  {
   "cell_type": "code",
   "execution_count": 30,
   "metadata": {},
   "outputs": [
    {
     "output_type": "execute_result",
     "data": {
      "text/plain": [
       "AC          5\n",
       "AF          7\n",
       "AR          5\n",
       "AS          5\n",
       "AST         5\n",
       "AY          5\n",
       "AwayTeam    3\n",
       "Date        3\n",
       "FTR         3\n",
       "HC          5\n",
       "HF          7\n",
       "HR          5\n",
       "HS          5\n",
       "HST         5\n",
       "HTAG        6\n",
       "HTHG        6\n",
       "HY          6\n",
       "HomeTeam    3\n",
       "league      0\n",
       "dtype: int64"
      ]
     },
     "metadata": {},
     "execution_count": 30
    }
   ],
   "source": [
    "train_df.isnull().sum() # number of null values by column in train_df"
   ]
  },
  {
   "cell_type": "code",
   "execution_count": 31,
   "metadata": {},
   "outputs": [
    {
     "output_type": "execute_result",
     "data": {
      "text/plain": [
       "AC          0\n",
       "AF          0\n",
       "AR          0\n",
       "AS          0\n",
       "AST         0\n",
       "AY          0\n",
       "AwayTeam    0\n",
       "Date        0\n",
       "HC          0\n",
       "HF          0\n",
       "HR          0\n",
       "HS          0\n",
       "HST         0\n",
       "HTAG        0\n",
       "HTHG        0\n",
       "HY          0\n",
       "HomeTeam    0\n",
       "league      0\n",
       "dtype: int64"
      ]
     },
     "metadata": {},
     "execution_count": 31
    }
   ],
   "source": [
    "test_df.isnull().sum() # number of null values by column in test_df"
   ]
  },
  {
   "source": [
    "Let us look at the rows with one or more values in the dataframes."
   ],
   "cell_type": "markdown",
   "metadata": {}
  },
  {
   "cell_type": "code",
   "execution_count": 40,
   "metadata": {},
   "outputs": [
    {
     "output_type": "execute_result",
     "data": {
      "text/plain": [
       "         AC    AF    AR    AS   AST    AY   AwayTeam       Date   FTR    HC  \\\n",
       "5620      5  <NA>     0     6     3     3  Marseille 2011-09-18     H     3   \n",
       "5733      1  <NA>     0     9     3     5      Nancy 2011-12-17     A     8   \n",
       "7082   <NA>  <NA>  <NA>  <NA>  <NA>  <NA>       <NA>        NaT  <NA>  <NA>   \n",
       "7408   <NA>  <NA>  <NA>  <NA>  <NA>  <NA>       Lyon 2017-04-16     A  <NA>   \n",
       "9363   <NA>  <NA>  <NA>  <NA>  <NA>  <NA>       <NA>        NaT  <NA>  <NA>   \n",
       "11298  <NA>  <NA>  <NA>  <NA>  <NA>  <NA>       Roma 2012-09-23     A  <NA>   \n",
       "11644  <NA>  <NA>  <NA>  <NA>  <NA>  <NA>       <NA>        NaT  <NA>  <NA>   \n",
       "11894     5    16     0    10     1     5   Juventus 2015-02-03     D     1   \n",
       "12426     7    21     0    15     5     2    Pescara 2016-08-28     A     2   \n",
       "\n",
       "         HF    HR    HS   HST  HTAG  HTHG    HY  HomeTeam          league  \n",
       "5620   <NA>     0    10     5     0     2     0      Lyon         ligue-1  \n",
       "5733   <NA>     0     9     1     1     0     2      Caen         ligue-1  \n",
       "7082   <NA>  <NA>  <NA>  <NA>  <NA>  <NA>  <NA>      <NA>         ligue-1  \n",
       "7408   <NA>  <NA>  <NA>  <NA>  <NA>  <NA>  <NA>    Bastia         ligue-1  \n",
       "9363   <NA>  <NA>  <NA>  <NA>  <NA>  <NA>  <NA>      <NA>  premier-league  \n",
       "11298  <NA>  <NA>  <NA>  <NA>  <NA>  <NA>  <NA>  Cagliari         serie-a  \n",
       "11644  <NA>  <NA>  <NA>  <NA>  <NA>  <NA>  <NA>      <NA>         serie-a  \n",
       "11894    11     1     8     3     0     0  <NA>      Roma         serie-a  \n",
       "12426    12     0    13     3  <NA>  <NA>     2  Sassuolo         serie-a  "
      ],
      "text/html": "<div>\n<style scoped>\n    .dataframe tbody tr th:only-of-type {\n        vertical-align: middle;\n    }\n\n    .dataframe tbody tr th {\n        vertical-align: top;\n    }\n\n    .dataframe thead th {\n        text-align: right;\n    }\n</style>\n<table border=\"1\" class=\"dataframe\">\n  <thead>\n    <tr style=\"text-align: right;\">\n      <th></th>\n      <th>AC</th>\n      <th>AF</th>\n      <th>AR</th>\n      <th>AS</th>\n      <th>AST</th>\n      <th>AY</th>\n      <th>AwayTeam</th>\n      <th>Date</th>\n      <th>FTR</th>\n      <th>HC</th>\n      <th>HF</th>\n      <th>HR</th>\n      <th>HS</th>\n      <th>HST</th>\n      <th>HTAG</th>\n      <th>HTHG</th>\n      <th>HY</th>\n      <th>HomeTeam</th>\n      <th>league</th>\n    </tr>\n  </thead>\n  <tbody>\n    <tr>\n      <th>5620</th>\n      <td>5</td>\n      <td>&lt;NA&gt;</td>\n      <td>0</td>\n      <td>6</td>\n      <td>3</td>\n      <td>3</td>\n      <td>Marseille</td>\n      <td>2011-09-18</td>\n      <td>H</td>\n      <td>3</td>\n      <td>&lt;NA&gt;</td>\n      <td>0</td>\n      <td>10</td>\n      <td>5</td>\n      <td>0</td>\n      <td>2</td>\n      <td>0</td>\n      <td>Lyon</td>\n      <td>ligue-1</td>\n    </tr>\n    <tr>\n      <th>5733</th>\n      <td>1</td>\n      <td>&lt;NA&gt;</td>\n      <td>0</td>\n      <td>9</td>\n      <td>3</td>\n      <td>5</td>\n      <td>Nancy</td>\n      <td>2011-12-17</td>\n      <td>A</td>\n      <td>8</td>\n      <td>&lt;NA&gt;</td>\n      <td>0</td>\n      <td>9</td>\n      <td>1</td>\n      <td>1</td>\n      <td>0</td>\n      <td>2</td>\n      <td>Caen</td>\n      <td>ligue-1</td>\n    </tr>\n    <tr>\n      <th>7082</th>\n      <td>&lt;NA&gt;</td>\n      <td>&lt;NA&gt;</td>\n      <td>&lt;NA&gt;</td>\n      <td>&lt;NA&gt;</td>\n      <td>&lt;NA&gt;</td>\n      <td>&lt;NA&gt;</td>\n      <td>&lt;NA&gt;</td>\n      <td>NaT</td>\n      <td>&lt;NA&gt;</td>\n      <td>&lt;NA&gt;</td>\n      <td>&lt;NA&gt;</td>\n      <td>&lt;NA&gt;</td>\n      <td>&lt;NA&gt;</td>\n      <td>&lt;NA&gt;</td>\n      <td>&lt;NA&gt;</td>\n      <td>&lt;NA&gt;</td>\n      <td>&lt;NA&gt;</td>\n      <td>&lt;NA&gt;</td>\n      <td>ligue-1</td>\n    </tr>\n    <tr>\n      <th>7408</th>\n      <td>&lt;NA&gt;</td>\n      <td>&lt;NA&gt;</td>\n      <td>&lt;NA&gt;</td>\n      <td>&lt;NA&gt;</td>\n      <td>&lt;NA&gt;</td>\n      <td>&lt;NA&gt;</td>\n      <td>Lyon</td>\n      <td>2017-04-16</td>\n      <td>A</td>\n      <td>&lt;NA&gt;</td>\n      <td>&lt;NA&gt;</td>\n      <td>&lt;NA&gt;</td>\n      <td>&lt;NA&gt;</td>\n      <td>&lt;NA&gt;</td>\n      <td>&lt;NA&gt;</td>\n      <td>&lt;NA&gt;</td>\n      <td>&lt;NA&gt;</td>\n      <td>Bastia</td>\n      <td>ligue-1</td>\n    </tr>\n    <tr>\n      <th>9363</th>\n      <td>&lt;NA&gt;</td>\n      <td>&lt;NA&gt;</td>\n      <td>&lt;NA&gt;</td>\n      <td>&lt;NA&gt;</td>\n      <td>&lt;NA&gt;</td>\n      <td>&lt;NA&gt;</td>\n      <td>&lt;NA&gt;</td>\n      <td>NaT</td>\n      <td>&lt;NA&gt;</td>\n      <td>&lt;NA&gt;</td>\n      <td>&lt;NA&gt;</td>\n      <td>&lt;NA&gt;</td>\n      <td>&lt;NA&gt;</td>\n      <td>&lt;NA&gt;</td>\n      <td>&lt;NA&gt;</td>\n      <td>&lt;NA&gt;</td>\n      <td>&lt;NA&gt;</td>\n      <td>&lt;NA&gt;</td>\n      <td>premier-league</td>\n    </tr>\n    <tr>\n      <th>11298</th>\n      <td>&lt;NA&gt;</td>\n      <td>&lt;NA&gt;</td>\n      <td>&lt;NA&gt;</td>\n      <td>&lt;NA&gt;</td>\n      <td>&lt;NA&gt;</td>\n      <td>&lt;NA&gt;</td>\n      <td>Roma</td>\n      <td>2012-09-23</td>\n      <td>A</td>\n      <td>&lt;NA&gt;</td>\n      <td>&lt;NA&gt;</td>\n      <td>&lt;NA&gt;</td>\n      <td>&lt;NA&gt;</td>\n      <td>&lt;NA&gt;</td>\n      <td>&lt;NA&gt;</td>\n      <td>&lt;NA&gt;</td>\n      <td>&lt;NA&gt;</td>\n      <td>Cagliari</td>\n      <td>serie-a</td>\n    </tr>\n    <tr>\n      <th>11644</th>\n      <td>&lt;NA&gt;</td>\n      <td>&lt;NA&gt;</td>\n      <td>&lt;NA&gt;</td>\n      <td>&lt;NA&gt;</td>\n      <td>&lt;NA&gt;</td>\n      <td>&lt;NA&gt;</td>\n      <td>&lt;NA&gt;</td>\n      <td>NaT</td>\n      <td>&lt;NA&gt;</td>\n      <td>&lt;NA&gt;</td>\n      <td>&lt;NA&gt;</td>\n      <td>&lt;NA&gt;</td>\n      <td>&lt;NA&gt;</td>\n      <td>&lt;NA&gt;</td>\n      <td>&lt;NA&gt;</td>\n      <td>&lt;NA&gt;</td>\n      <td>&lt;NA&gt;</td>\n      <td>&lt;NA&gt;</td>\n      <td>serie-a</td>\n    </tr>\n    <tr>\n      <th>11894</th>\n      <td>5</td>\n      <td>16</td>\n      <td>0</td>\n      <td>10</td>\n      <td>1</td>\n      <td>5</td>\n      <td>Juventus</td>\n      <td>2015-02-03</td>\n      <td>D</td>\n      <td>1</td>\n      <td>11</td>\n      <td>1</td>\n      <td>8</td>\n      <td>3</td>\n      <td>0</td>\n      <td>0</td>\n      <td>&lt;NA&gt;</td>\n      <td>Roma</td>\n      <td>serie-a</td>\n    </tr>\n    <tr>\n      <th>12426</th>\n      <td>7</td>\n      <td>21</td>\n      <td>0</td>\n      <td>15</td>\n      <td>5</td>\n      <td>2</td>\n      <td>Pescara</td>\n      <td>2016-08-28</td>\n      <td>A</td>\n      <td>2</td>\n      <td>12</td>\n      <td>0</td>\n      <td>13</td>\n      <td>3</td>\n      <td>&lt;NA&gt;</td>\n      <td>&lt;NA&gt;</td>\n      <td>2</td>\n      <td>Sassuolo</td>\n      <td>serie-a</td>\n    </tr>\n  </tbody>\n</table>\n</div>"
     },
     "metadata": {},
     "execution_count": 40
    }
   ],
   "source": [
    "train_df[train_df.isnull().any(axis=1)] # shape = 9 rows, 19 columns"
   ]
  },
  {
   "source": [
    "Row with indices 7082, 9363, 11644 have null under all columns without any information other than the leagues they belong to.   If we knew the Home and Away teams along with the season information, we could have retrieved from outside sources and filled in the information. **Unfortunately, we will have to drop these rows.**"
   ],
   "cell_type": "markdown",
   "metadata": {}
  },
  {
   "cell_type": "code",
   "execution_count": 46,
   "metadata": {},
   "outputs": [],
   "source": [
    "train_df = train_df.drop(axis=1, index = [7082, 9363, 11644])  # drop from train_df where FTR is null"
   ]
  },
  {
   "cell_type": "code",
   "execution_count": 48,
   "metadata": {},
   "outputs": [
    {
     "output_type": "execute_result",
     "data": {
      "text/plain": [
       "         AC    AF    AR    AS   AST    AY   AwayTeam       Date FTR    HC  \\\n",
       "5620      5  <NA>     0     6     3     3  Marseille 2011-09-18   H     3   \n",
       "5733      1  <NA>     0     9     3     5      Nancy 2011-12-17   A     8   \n",
       "7408   <NA>  <NA>  <NA>  <NA>  <NA>  <NA>       Lyon 2017-04-16   A  <NA>   \n",
       "11298  <NA>  <NA>  <NA>  <NA>  <NA>  <NA>       Roma 2012-09-23   A  <NA>   \n",
       "11894     5    16     0    10     1     5   Juventus 2015-02-03   D     1   \n",
       "12426     7    21     0    15     5     2    Pescara 2016-08-28   A     2   \n",
       "\n",
       "         HF    HR    HS   HST  HTAG  HTHG    HY  HomeTeam   league  \n",
       "5620   <NA>     0    10     5     0     2     0      Lyon  ligue-1  \n",
       "5733   <NA>     0     9     1     1     0     2      Caen  ligue-1  \n",
       "7408   <NA>  <NA>  <NA>  <NA>  <NA>  <NA>  <NA>    Bastia  ligue-1  \n",
       "11298  <NA>  <NA>  <NA>  <NA>  <NA>  <NA>  <NA>  Cagliari  serie-a  \n",
       "11894    11     1     8     3     0     0  <NA>      Roma  serie-a  \n",
       "12426    12     0    13     3  <NA>  <NA>     2  Sassuolo  serie-a  "
      ],
      "text/html": "<div>\n<style scoped>\n    .dataframe tbody tr th:only-of-type {\n        vertical-align: middle;\n    }\n\n    .dataframe tbody tr th {\n        vertical-align: top;\n    }\n\n    .dataframe thead th {\n        text-align: right;\n    }\n</style>\n<table border=\"1\" class=\"dataframe\">\n  <thead>\n    <tr style=\"text-align: right;\">\n      <th></th>\n      <th>AC</th>\n      <th>AF</th>\n      <th>AR</th>\n      <th>AS</th>\n      <th>AST</th>\n      <th>AY</th>\n      <th>AwayTeam</th>\n      <th>Date</th>\n      <th>FTR</th>\n      <th>HC</th>\n      <th>HF</th>\n      <th>HR</th>\n      <th>HS</th>\n      <th>HST</th>\n      <th>HTAG</th>\n      <th>HTHG</th>\n      <th>HY</th>\n      <th>HomeTeam</th>\n      <th>league</th>\n    </tr>\n  </thead>\n  <tbody>\n    <tr>\n      <th>5620</th>\n      <td>5</td>\n      <td>&lt;NA&gt;</td>\n      <td>0</td>\n      <td>6</td>\n      <td>3</td>\n      <td>3</td>\n      <td>Marseille</td>\n      <td>2011-09-18</td>\n      <td>H</td>\n      <td>3</td>\n      <td>&lt;NA&gt;</td>\n      <td>0</td>\n      <td>10</td>\n      <td>5</td>\n      <td>0</td>\n      <td>2</td>\n      <td>0</td>\n      <td>Lyon</td>\n      <td>ligue-1</td>\n    </tr>\n    <tr>\n      <th>5733</th>\n      <td>1</td>\n      <td>&lt;NA&gt;</td>\n      <td>0</td>\n      <td>9</td>\n      <td>3</td>\n      <td>5</td>\n      <td>Nancy</td>\n      <td>2011-12-17</td>\n      <td>A</td>\n      <td>8</td>\n      <td>&lt;NA&gt;</td>\n      <td>0</td>\n      <td>9</td>\n      <td>1</td>\n      <td>1</td>\n      <td>0</td>\n      <td>2</td>\n      <td>Caen</td>\n      <td>ligue-1</td>\n    </tr>\n    <tr>\n      <th>7408</th>\n      <td>&lt;NA&gt;</td>\n      <td>&lt;NA&gt;</td>\n      <td>&lt;NA&gt;</td>\n      <td>&lt;NA&gt;</td>\n      <td>&lt;NA&gt;</td>\n      <td>&lt;NA&gt;</td>\n      <td>Lyon</td>\n      <td>2017-04-16</td>\n      <td>A</td>\n      <td>&lt;NA&gt;</td>\n      <td>&lt;NA&gt;</td>\n      <td>&lt;NA&gt;</td>\n      <td>&lt;NA&gt;</td>\n      <td>&lt;NA&gt;</td>\n      <td>&lt;NA&gt;</td>\n      <td>&lt;NA&gt;</td>\n      <td>&lt;NA&gt;</td>\n      <td>Bastia</td>\n      <td>ligue-1</td>\n    </tr>\n    <tr>\n      <th>11298</th>\n      <td>&lt;NA&gt;</td>\n      <td>&lt;NA&gt;</td>\n      <td>&lt;NA&gt;</td>\n      <td>&lt;NA&gt;</td>\n      <td>&lt;NA&gt;</td>\n      <td>&lt;NA&gt;</td>\n      <td>Roma</td>\n      <td>2012-09-23</td>\n      <td>A</td>\n      <td>&lt;NA&gt;</td>\n      <td>&lt;NA&gt;</td>\n      <td>&lt;NA&gt;</td>\n      <td>&lt;NA&gt;</td>\n      <td>&lt;NA&gt;</td>\n      <td>&lt;NA&gt;</td>\n      <td>&lt;NA&gt;</td>\n      <td>&lt;NA&gt;</td>\n      <td>Cagliari</td>\n      <td>serie-a</td>\n    </tr>\n    <tr>\n      <th>11894</th>\n      <td>5</td>\n      <td>16</td>\n      <td>0</td>\n      <td>10</td>\n      <td>1</td>\n      <td>5</td>\n      <td>Juventus</td>\n      <td>2015-02-03</td>\n      <td>D</td>\n      <td>1</td>\n      <td>11</td>\n      <td>1</td>\n      <td>8</td>\n      <td>3</td>\n      <td>0</td>\n      <td>0</td>\n      <td>&lt;NA&gt;</td>\n      <td>Roma</td>\n      <td>serie-a</td>\n    </tr>\n    <tr>\n      <th>12426</th>\n      <td>7</td>\n      <td>21</td>\n      <td>0</td>\n      <td>15</td>\n      <td>5</td>\n      <td>2</td>\n      <td>Pescara</td>\n      <td>2016-08-28</td>\n      <td>A</td>\n      <td>2</td>\n      <td>12</td>\n      <td>0</td>\n      <td>13</td>\n      <td>3</td>\n      <td>&lt;NA&gt;</td>\n      <td>&lt;NA&gt;</td>\n      <td>2</td>\n      <td>Sassuolo</td>\n      <td>serie-a</td>\n    </tr>\n  </tbody>\n</table>\n</div>"
     },
     "metadata": {},
     "execution_count": 48
    }
   ],
   "source": [
    "train_df[train_df.isnull().any(axis=1)] # check rows with one or more null values again"
   ]
  },
  {
   "cell_type": "code",
   "execution_count": null,
   "metadata": {},
   "outputs": [],
   "source": []
  },
  {
   "cell_type": "code",
   "execution_count": 41,
   "metadata": {},
   "outputs": [
    {
     "output_type": "execute_result",
     "data": {
      "text/plain": [
       "Empty DataFrame\n",
       "Columns: [AC, AF, AR, AS, AST, AY, AwayTeam, Date, HC, HF, HR, HS, HST, HTAG, HTHG, HY, HomeTeam, league]\n",
       "Index: []"
      ],
      "text/html": "<div>\n<style scoped>\n    .dataframe tbody tr th:only-of-type {\n        vertical-align: middle;\n    }\n\n    .dataframe tbody tr th {\n        vertical-align: top;\n    }\n\n    .dataframe thead th {\n        text-align: right;\n    }\n</style>\n<table border=\"1\" class=\"dataframe\">\n  <thead>\n    <tr style=\"text-align: right;\">\n      <th></th>\n      <th>AC</th>\n      <th>AF</th>\n      <th>AR</th>\n      <th>AS</th>\n      <th>AST</th>\n      <th>AY</th>\n      <th>AwayTeam</th>\n      <th>Date</th>\n      <th>HC</th>\n      <th>HF</th>\n      <th>HR</th>\n      <th>HS</th>\n      <th>HST</th>\n      <th>HTAG</th>\n      <th>HTHG</th>\n      <th>HY</th>\n      <th>HomeTeam</th>\n      <th>league</th>\n    </tr>\n    <tr>\n      <th>index</th>\n      <th></th>\n      <th></th>\n      <th></th>\n      <th></th>\n      <th></th>\n      <th></th>\n      <th></th>\n      <th></th>\n      <th></th>\n      <th></th>\n      <th></th>\n      <th></th>\n      <th></th>\n      <th></th>\n      <th></th>\n      <th></th>\n      <th></th>\n      <th></th>\n    </tr>\n  </thead>\n  <tbody>\n  </tbody>\n</table>\n</div>"
     },
     "metadata": {},
     "execution_count": 41
    }
   ],
   "source": [
    "test_df[test_df.isnull().any(axis=1)] # shape = 0 rows, 18 columns"
   ]
  },
  {
   "source": [
    "We can get information for the missing values using Date, HomeTeam and AwayTeam using the CSVs we can download. For that, let's identify the leagues we need to download.  \n",
    "\n",
    "Please look into **0_downloadMoreData.py** file on how we can download data for each season for different leagues. Using the data downloaded, we can fill in the NA values we see train_df. Notes about these can be found [here](https://www.football-data.co.uk/notes.txt)"
   ],
   "cell_type": "markdown",
   "metadata": {}
  },
  {
   "cell_type": "code",
   "execution_count": 160,
   "metadata": {},
   "outputs": [
    {
     "output_type": "stream",
     "name": "stdout",
     "text": [
      "Leagues in train_df :: ['bundesliga', 'la-liga', 'ligue-1', 'premier-league', 'serie-a']\nLeagues in test_df ::  ['bundesliga', 'la-liga', 'ligue-1', 'premier-league', 'serie-a']\n"
     ]
    }
   ],
   "source": [
    "# list the leagues in both the dfs\n",
    "print(\"Leagues in train_df ::\", list(np.unique(train_df[\"league\"]))) \n",
    "print(\"Leagues in test_df :: \", list(np.unique(test_df[\"league\"])))"
   ]
  },
  {
   "cell_type": "code",
   "execution_count": 184,
   "metadata": {},
   "outputs": [
    {
     "output_type": "execute_result",
     "data": {
      "text/plain": [
       "         AC    AF    AR    AS   AST    AY   AwayTeam       Date FTR    HC  \\\n",
       "5620      5  <NA>     0     6     3     3  Marseille 2011-09-18   H     3   \n",
       "5733      1  <NA>     0     9     3     5      Nancy 2011-12-17   A     8   \n",
       "7408   <NA>  <NA>  <NA>  <NA>  <NA>  <NA>       Lyon 2017-04-16   A  <NA>   \n",
       "11298  <NA>  <NA>  <NA>  <NA>  <NA>  <NA>       Roma 2012-09-23   A  <NA>   \n",
       "11894     5    16     0    10     1     5   Juventus 2015-02-03   D     1   \n",
       "12426     7    21     0    15     5     2    Pescara 2016-08-28   A     2   \n",
       "\n",
       "         HF    HR    HS   HST  HTAG  HTHG    HY  HomeTeam   league  \n",
       "5620   <NA>     0    10     5     0     2     0      Lyon  ligue-1  \n",
       "5733   <NA>     0     9     1     1     0     2      Caen  ligue-1  \n",
       "7408   <NA>  <NA>  <NA>  <NA>  <NA>  <NA>  <NA>    Bastia  ligue-1  \n",
       "11298  <NA>  <NA>  <NA>  <NA>  <NA>  <NA>  <NA>  Cagliari  serie-a  \n",
       "11894    11     1     8     3     0     0  <NA>      Roma  serie-a  \n",
       "12426    12     0    13     3  <NA>  <NA>     2  Sassuolo  serie-a  "
      ],
      "text/html": "<div>\n<style scoped>\n    .dataframe tbody tr th:only-of-type {\n        vertical-align: middle;\n    }\n\n    .dataframe tbody tr th {\n        vertical-align: top;\n    }\n\n    .dataframe thead th {\n        text-align: right;\n    }\n</style>\n<table border=\"1\" class=\"dataframe\">\n  <thead>\n    <tr style=\"text-align: right;\">\n      <th></th>\n      <th>AC</th>\n      <th>AF</th>\n      <th>AR</th>\n      <th>AS</th>\n      <th>AST</th>\n      <th>AY</th>\n      <th>AwayTeam</th>\n      <th>Date</th>\n      <th>FTR</th>\n      <th>HC</th>\n      <th>HF</th>\n      <th>HR</th>\n      <th>HS</th>\n      <th>HST</th>\n      <th>HTAG</th>\n      <th>HTHG</th>\n      <th>HY</th>\n      <th>HomeTeam</th>\n      <th>league</th>\n    </tr>\n  </thead>\n  <tbody>\n    <tr>\n      <th>5620</th>\n      <td>5</td>\n      <td>&lt;NA&gt;</td>\n      <td>0</td>\n      <td>6</td>\n      <td>3</td>\n      <td>3</td>\n      <td>Marseille</td>\n      <td>2011-09-18</td>\n      <td>H</td>\n      <td>3</td>\n      <td>&lt;NA&gt;</td>\n      <td>0</td>\n      <td>10</td>\n      <td>5</td>\n      <td>0</td>\n      <td>2</td>\n      <td>0</td>\n      <td>Lyon</td>\n      <td>ligue-1</td>\n    </tr>\n    <tr>\n      <th>5733</th>\n      <td>1</td>\n      <td>&lt;NA&gt;</td>\n      <td>0</td>\n      <td>9</td>\n      <td>3</td>\n      <td>5</td>\n      <td>Nancy</td>\n      <td>2011-12-17</td>\n      <td>A</td>\n      <td>8</td>\n      <td>&lt;NA&gt;</td>\n      <td>0</td>\n      <td>9</td>\n      <td>1</td>\n      <td>1</td>\n      <td>0</td>\n      <td>2</td>\n      <td>Caen</td>\n      <td>ligue-1</td>\n    </tr>\n    <tr>\n      <th>7408</th>\n      <td>&lt;NA&gt;</td>\n      <td>&lt;NA&gt;</td>\n      <td>&lt;NA&gt;</td>\n      <td>&lt;NA&gt;</td>\n      <td>&lt;NA&gt;</td>\n      <td>&lt;NA&gt;</td>\n      <td>Lyon</td>\n      <td>2017-04-16</td>\n      <td>A</td>\n      <td>&lt;NA&gt;</td>\n      <td>&lt;NA&gt;</td>\n      <td>&lt;NA&gt;</td>\n      <td>&lt;NA&gt;</td>\n      <td>&lt;NA&gt;</td>\n      <td>&lt;NA&gt;</td>\n      <td>&lt;NA&gt;</td>\n      <td>&lt;NA&gt;</td>\n      <td>Bastia</td>\n      <td>ligue-1</td>\n    </tr>\n    <tr>\n      <th>11298</th>\n      <td>&lt;NA&gt;</td>\n      <td>&lt;NA&gt;</td>\n      <td>&lt;NA&gt;</td>\n      <td>&lt;NA&gt;</td>\n      <td>&lt;NA&gt;</td>\n      <td>&lt;NA&gt;</td>\n      <td>Roma</td>\n      <td>2012-09-23</td>\n      <td>A</td>\n      <td>&lt;NA&gt;</td>\n      <td>&lt;NA&gt;</td>\n      <td>&lt;NA&gt;</td>\n      <td>&lt;NA&gt;</td>\n      <td>&lt;NA&gt;</td>\n      <td>&lt;NA&gt;</td>\n      <td>&lt;NA&gt;</td>\n      <td>&lt;NA&gt;</td>\n      <td>Cagliari</td>\n      <td>serie-a</td>\n    </tr>\n    <tr>\n      <th>11894</th>\n      <td>5</td>\n      <td>16</td>\n      <td>0</td>\n      <td>10</td>\n      <td>1</td>\n      <td>5</td>\n      <td>Juventus</td>\n      <td>2015-02-03</td>\n      <td>D</td>\n      <td>1</td>\n      <td>11</td>\n      <td>1</td>\n      <td>8</td>\n      <td>3</td>\n      <td>0</td>\n      <td>0</td>\n      <td>&lt;NA&gt;</td>\n      <td>Roma</td>\n      <td>serie-a</td>\n    </tr>\n    <tr>\n      <th>12426</th>\n      <td>7</td>\n      <td>21</td>\n      <td>0</td>\n      <td>15</td>\n      <td>5</td>\n      <td>2</td>\n      <td>Pescara</td>\n      <td>2016-08-28</td>\n      <td>A</td>\n      <td>2</td>\n      <td>12</td>\n      <td>0</td>\n      <td>13</td>\n      <td>3</td>\n      <td>&lt;NA&gt;</td>\n      <td>&lt;NA&gt;</td>\n      <td>2</td>\n      <td>Sassuolo</td>\n      <td>serie-a</td>\n    </tr>\n  </tbody>\n</table>\n</div>"
     },
     "metadata": {},
     "execution_count": 184
    }
   ],
   "source": [
    "# identify rows in train_df that have one or more null rows\n",
    "train_df_oneOrMoreNulls = train_df[train_df.isnull().any(axis=1)]\n",
    "train_df_oneOrMoreNulls"
   ]
  },
  {
   "source": [
    "# impute data "
   ],
   "cell_type": "code",
   "metadata": {},
   "execution_count": null,
   "outputs": []
  },
  {
   "cell_type": "code",
   "execution_count": null,
   "metadata": {},
   "outputs": [],
   "source": [
    "for "
   ]
  },
  {
   "cell_type": "code",
   "execution_count": null,
   "metadata": {},
   "outputs": [],
   "source": []
  },
  {
   "cell_type": "code",
   "execution_count": null,
   "metadata": {},
   "outputs": [],
   "source": []
  },
  {
   "source": [
    "Our priliminary analysis of the train_df above showed that the matches are from the beginning of calendar year 2009 (not season 2009-10) and end of calendar year 2017 (not season 2016-17). Let us verify that claim."
   ],
   "cell_type": "markdown",
   "metadata": {}
  },
  {
   "cell_type": "code",
   "execution_count": 125,
   "metadata": {},
   "outputs": [
    {
     "output_type": "stream",
     "name": "stdout",
     "text": [
      "League :: bundesliga\n[('01', 194), ('02', 214), ('03', 185), ('04', 242), ('05', 142), ('06', 70), ('07', 72), ('08', 184), ('09', 240), ('10', 229), ('11', 213), ('12', 157)]\n=======\n\nLeague :: la-liga\n[('01', 296), ('02', 268), ('03', 250), ('04', 302), ('05', 201), ('06', 80), ('07', 90), ('08', 197), ('09', 289), ('10', 270), ('11', 235), ('12', 182)]\n=======\n\nLeague :: ligue-1\n[('01', 250), ('02', 257), ('03', 211), ('04', 260), ('05', 205), ('06', 92), ('07', 106), ('08', 269), ('09', 271), ('10', 262), ('11', 247), ('12', 230)]\n=======\n\nLeague :: premier-league\n[('01', 288), ('02', 217), ('03', 215), ('04', 276), ('05', 185), ('06', 79), ('07', 67), ('08', 255), ('09', 238), ('10', 273), ('11', 242), ('12', 325)]\n=======\n\nLeague :: serie-a\n[('01', 278), ('02', 266), ('03', 226), ('04', 265), ('05', 188), ('06', 124), ('07', 91), ('08', 173), ('09', 310), ('10', 315), ('11', 236), ('12', 188)]\n=======\n\n"
     ]
    }
   ],
   "source": [
    "for league in list(np.unique(train_df[\"league\"])):\n",
    "    print(f\"League :: {league}\")\n",
    "    print(sorted(Counter(train_df[(train_df[\"league\"] == league)][\"Date\"].dt.strftime(\"%m\")).items()))\n",
    "    print(\"=======\\n\")"
   ]
  },
  {
   "source": [
    "We see matches in every month of the season. There seems to be some issue with the data since football leagues take a Summer break in these months.  \n",
    "\n",
    "Let us verify that further by checking if any league has any break during these months. We expect to see zero matches."
   ],
   "cell_type": "markdown",
   "metadata": {}
  },
  {
   "cell_type": "code",
   "execution_count": 158,
   "metadata": {},
   "outputs": [
    {
     "output_type": "stream",
     "name": "stdout",
     "text": [
      "League :: 2009 bundesliga\n",
      "[('06', 3), ('07', 6)]\n",
      "=======\n",
      "League :: 2009 la-liga\n",
      "[('06', 6), ('07', 4)]\n",
      "=======\n",
      "League :: 2009 ligue-1\n",
      "[('06', 4), ('07', 7)]\n",
      "=======\n",
      "League :: 2009 premier-league\n",
      "[('06', 2), ('07', 5)]\n",
      "=======\n",
      "League :: 2009 serie-a\n",
      "[('06', 8), ('07', 2)]\n",
      "=======\n",
      "******************************\n",
      "League :: 2010 bundesliga\n",
      "[('06', 18), ('07', 7)]\n",
      "=======\n",
      "League :: 2010 la-liga\n",
      "[('06', 9), ('07', 20)]\n",
      "=======\n",
      "League :: 2010 ligue-1\n",
      "[('06', 19), ('07', 21)]\n",
      "=======\n",
      "League :: 2010 premier-league\n",
      "[('06', 19), ('07', 6)]\n",
      "=======\n",
      "League :: 2010 serie-a\n",
      "[('06', 17), ('07', 24)]\n",
      "=======\n",
      "******************************\n",
      "League :: 2011 bundesliga\n",
      "[('06', 11), ('07', 11)]\n",
      "=======\n",
      "League :: 2011 la-liga\n",
      "[('06', 16), ('07', 9)]\n",
      "=======\n",
      "League :: 2011 ligue-1\n",
      "[('06', 23), ('07', 10)]\n",
      "=======\n",
      "League :: 2011 premier-league\n",
      "[('06', 7), ('07', 7)]\n",
      "=======\n",
      "League :: 2011 serie-a\n",
      "[('06', 32), ('07', 2)]\n",
      "=======\n",
      "******************************\n",
      "League :: 2012 bundesliga\n",
      "[('06', 5), ('07', 11)]\n",
      "=======\n",
      "League :: 2012 la-liga\n",
      "[('06', 5), ('07', 16)]\n",
      "=======\n",
      "League :: 2012 ligue-1\n",
      "[('06', 10), ('07', 19)]\n",
      "=======\n",
      "League :: 2012 premier-league\n",
      "[('06', 15), ('07', 12)]\n",
      "=======\n",
      "League :: 2012 serie-a\n",
      "[('06', 10), ('07', 23)]\n",
      "=======\n",
      "******************************\n",
      "League :: 2013 bundesliga\n",
      "[('06', 6), ('07', 2)]\n",
      "=======\n",
      "League :: 2013 la-liga\n",
      "[('06', 9), ('07', 5)]\n",
      "=======\n",
      "League :: 2013 ligue-1\n",
      "[('06', 6), ('07', 3)]\n",
      "=======\n",
      "League :: 2013 premier-league\n",
      "[('06', 5), ('07', 7)]\n",
      "=======\n",
      "League :: 2013 serie-a\n",
      "[('06', 10), ('07', 8)]\n",
      "=======\n",
      "******************************\n",
      "League :: 2014 bundesliga\n",
      "[('06', 6), ('07', 3)]\n",
      "=======\n",
      "League :: 2014 la-liga\n",
      "[('06', 4), ('07', 5)]\n",
      "=======\n",
      "League :: 2014 ligue-1\n",
      "[('06', 5), ('07', 5)]\n",
      "=======\n",
      "League :: 2014 premier-league\n",
      "[('06', 7), ('07', 2)]\n",
      "=======\n",
      "League :: 2014 serie-a\n",
      "[('06', 2), ('07', 5)]\n",
      "=======\n",
      "******************************\n",
      "League :: 2015 bundesliga\n",
      "[('06', 5), ('07', 18)]\n",
      "=======\n",
      "League :: 2015 la-liga\n",
      "[('06', 8), ('07', 17)]\n",
      "=======\n",
      "League :: 2015 ligue-1\n",
      "[('06', 6), ('07', 21)]\n",
      "=======\n",
      "League :: 2015 premier-league\n",
      "[('06', 2), ('07', 17)]\n",
      "=======\n",
      "League :: 2015 serie-a\n",
      "[('06', 17), ('07', 6)]\n",
      "=======\n",
      "******************************\n",
      "League :: 2016 bundesliga\n",
      "[('06', 10), ('07', 11)]\n",
      "=======\n",
      "League :: 2016 la-liga\n",
      "[('06', 14), ('07', 5)]\n",
      "=======\n",
      "League :: 2016 ligue-1\n",
      "[('06', 13), ('07', 13)]\n",
      "=======\n",
      "League :: 2016 premier-league\n",
      "[('06', 15), ('07', 9)]\n",
      "=======\n",
      "League :: 2016 serie-a\n",
      "[('06', 26), ('07', 10)]\n",
      "=======\n",
      "******************************\n",
      "League :: 2017 bundesliga\n",
      "[('06', 6), ('07', 3)]\n",
      "=======\n",
      "League :: 2017 la-liga\n",
      "[('06', 9), ('07', 9)]\n",
      "=======\n",
      "League :: 2017 ligue-1\n",
      "[('06', 6), ('07', 7)]\n",
      "=======\n",
      "League :: 2017 premier-league\n",
      "[('06', 7), ('07', 2)]\n",
      "=======\n",
      "League :: 2017 serie-a\n",
      "[('06', 2), ('07', 11)]\n",
      "=======\n",
      "******************************\n"
     ]
    }
   ],
   "source": [
    "# count the number of matches in the summer months of the year for all the leagues in the training data\n",
    "\n",
    "for year in range(2009, 2017+1): # since train_df is from calendar year 2009 to 2017\n",
    "    for league in list(np.unique(train_df[\"league\"])):\n",
    "        print(f\"League :: {str(year)}\" f\" {league}\")\n",
    "        print(sorted(Counter(train_df[\n",
    "                                (train_df[\"league\"] == league) & \\\n",
    "                                (train_df[\"Date\"].dt.year == year) & \\\n",
    "                                ((train_df[\"Date\"].dt.month == 6) | (train_df[\"Date\"].dt.month == 7)) # summer months\n",
    "                            ][\"Date\"].dt.strftime(\"%m\")).items() ))\n",
    "        print(\"=======\")\n",
    "    print(\"***\"*10)"
   ]
  },
  {
   "cell_type": "code",
   "execution_count": 159,
   "metadata": {},
   "outputs": [
    {
     "output_type": "execute_result",
     "data": {
      "text/plain": [
       "      AC  AF  AR  AS  AST  AY   AwayTeam       Date FTR  HC  HF  HR  HS  HST  \\\n",
       "9130   5  14   1  10    4   4  Leicester 2014-07-12   H   5   9   0  16    7   \n",
       "9131   4  18   1  11    2   1    Swansea 2014-07-12   H   7  11   0  15    7   \n",
       "\n",
       "      HTAG  HTHG  HY     HomeTeam          league  \n",
       "9130     1     1   4  Aston Villa  premier-league  \n",
       "9131     1     1   0     West Ham  premier-league  "
      ],
      "text/html": "<div>\n<style scoped>\n    .dataframe tbody tr th:only-of-type {\n        vertical-align: middle;\n    }\n\n    .dataframe tbody tr th {\n        vertical-align: top;\n    }\n\n    .dataframe thead th {\n        text-align: right;\n    }\n</style>\n<table border=\"1\" class=\"dataframe\">\n  <thead>\n    <tr style=\"text-align: right;\">\n      <th></th>\n      <th>AC</th>\n      <th>AF</th>\n      <th>AR</th>\n      <th>AS</th>\n      <th>AST</th>\n      <th>AY</th>\n      <th>AwayTeam</th>\n      <th>Date</th>\n      <th>FTR</th>\n      <th>HC</th>\n      <th>HF</th>\n      <th>HR</th>\n      <th>HS</th>\n      <th>HST</th>\n      <th>HTAG</th>\n      <th>HTHG</th>\n      <th>HY</th>\n      <th>HomeTeam</th>\n      <th>league</th>\n    </tr>\n  </thead>\n  <tbody>\n    <tr>\n      <th>9130</th>\n      <td>5</td>\n      <td>14</td>\n      <td>1</td>\n      <td>10</td>\n      <td>4</td>\n      <td>4</td>\n      <td>Leicester</td>\n      <td>2014-07-12</td>\n      <td>H</td>\n      <td>5</td>\n      <td>9</td>\n      <td>0</td>\n      <td>16</td>\n      <td>7</td>\n      <td>1</td>\n      <td>1</td>\n      <td>4</td>\n      <td>Aston Villa</td>\n      <td>premier-league</td>\n    </tr>\n    <tr>\n      <th>9131</th>\n      <td>4</td>\n      <td>18</td>\n      <td>1</td>\n      <td>11</td>\n      <td>2</td>\n      <td>1</td>\n      <td>Swansea</td>\n      <td>2014-07-12</td>\n      <td>H</td>\n      <td>7</td>\n      <td>11</td>\n      <td>0</td>\n      <td>15</td>\n      <td>7</td>\n      <td>1</td>\n      <td>1</td>\n      <td>0</td>\n      <td>West Ham</td>\n      <td>premier-league</td>\n    </tr>\n  </tbody>\n</table>\n</div>"
     },
     "metadata": {},
     "execution_count": 159
    }
   ],
   "source": [
    "# let us list some Premier League matches in July 2014\n",
    "\n",
    "train_df[(train_df[\"league\"] == \"premier-league\") & (train_df[\"Date\"].dt.year == 2014) & (train_df[\"Date\"].dt.month == 7)]"
   ]
  },
  {
   "source": [
    "We see two matches here but looking at data on the internet on Wikipedia and football-data.co.uk, we see that these matches did not actually happen. \n",
    "\n",
    "The [2013-14 PL season](https://en.wikipedia.org/wiki/2013–14_Premier_League) started on 17 August 2013, and concluded on 11 May 2014.  The [football-data.co.uk for 2013-14 season](https://www.football-data.co.uk/mmz4281/1314/E0.csv) source also confirms this.  \n",
    "The [2014-15 PL season](https://en.wikipedia.org/wiki/2014–15_Premier_League) started on 16 August 2014 and concluded on 24 May 2015. The [football-data.co.uk for 2014-15 season](https://www.football-data.co.uk/mmz4281/1415/E0.csv) source also confirms this.  \n",
    "\n",
    "**However, for the purposes of this exercise we will ignore this issue FOR NOW.**\n"
   ],
   "cell_type": "markdown",
   "metadata": {}
  },
  {
   "source": [],
   "cell_type": "code",
   "metadata": {},
   "execution_count": null,
   "outputs": []
  },
  {
   "cell_type": "code",
   "execution_count": null,
   "metadata": {},
   "outputs": [],
   "source": []
  },
  {
   "cell_type": "code",
   "execution_count": null,
   "metadata": {},
   "outputs": [],
   "source": []
  },
  {
   "cell_type": "code",
   "execution_count": null,
   "metadata": {},
   "outputs": [],
   "source": []
  },
  {
   "cell_type": "code",
   "execution_count": null,
   "metadata": {},
   "outputs": [],
   "source": []
  },
  {
   "cell_type": "code",
   "execution_count": null,
   "metadata": {},
   "outputs": [],
   "source": []
  },
  {
   "cell_type": "code",
   "execution_count": null,
   "metadata": {},
   "outputs": [],
   "source": []
  },
  {
   "cell_type": "code",
   "execution_count": null,
   "metadata": {},
   "outputs": [],
   "source": []
  },
  {
   "cell_type": "code",
   "execution_count": null,
   "metadata": {},
   "outputs": [],
   "source": []
  },
  {
   "cell_type": "code",
   "execution_count": null,
   "metadata": {},
   "outputs": [],
   "source": []
  },
  {
   "cell_type": "code",
   "execution_count": null,
   "metadata": {},
   "outputs": [],
   "source": []
  },
  {
   "source": [],
   "cell_type": "markdown",
   "metadata": {}
  },
  {
   "cell_type": "code",
   "execution_count": null,
   "metadata": {},
   "outputs": [],
   "source": []
  },
  {
   "cell_type": "code",
   "execution_count": null,
   "metadata": {},
   "outputs": [],
   "source": []
  },
  {
   "cell_type": "code",
   "execution_count": null,
   "metadata": {},
   "outputs": [],
   "source": []
  },
  {
   "cell_type": "code",
   "execution_count": null,
   "metadata": {},
   "outputs": [],
   "source": []
  },
  {
   "cell_type": "code",
   "execution_count": null,
   "metadata": {},
   "outputs": [],
   "source": []
  },
  {
   "cell_type": "code",
   "execution_count": null,
   "metadata": {},
   "outputs": [],
   "source": []
  },
  {
   "cell_type": "code",
   "execution_count": null,
   "metadata": {},
   "outputs": [],
   "source": []
  },
  {
   "cell_type": "code",
   "execution_count": null,
   "metadata": {},
   "outputs": [],
   "source": []
  },
  {
   "cell_type": "code",
   "execution_count": null,
   "metadata": {},
   "outputs": [],
   "source": []
  },
  {
   "cell_type": "code",
   "execution_count": null,
   "metadata": {},
   "outputs": [],
   "source": []
  }
 ]
}