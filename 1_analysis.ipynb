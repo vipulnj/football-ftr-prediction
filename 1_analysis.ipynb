{
 "metadata": {
  "language_info": {
   "codemirror_mode": {
    "name": "ipython",
    "version": 3
   },
   "file_extension": ".py",
   "mimetype": "text/x-python",
   "name": "python",
   "nbconvert_exporter": "python",
   "pygments_lexer": "ipython3",
   "version": "3.7.7-final"
  },
  "orig_nbformat": 2,
  "kernelspec": {
   "name": "python377jvsc74a57bd08cb48ee34b52abbc0c4c6c9a8d1e18bbd374f2d1391cafbd22bf8a5424951de7",
   "display_name": "Python 3.7.7 64-bit ('base': conda)"
  }
 },
 "nbformat": 4,
 "nbformat_minor": 2,
 "cells": [
  {
   "cell_type": "code",
   "execution_count": 1,
   "metadata": {},
   "outputs": [],
   "source": [
    "import numpy as np\n",
    "import pandas as pd"
   ]
  },
  {
   "cell_type": "code",
   "execution_count": 2,
   "metadata": {},
   "outputs": [],
   "source": [
    "# read the train and test csv files\n",
    "\n",
    "train_df = pd.read_csv('original_data/train.csv')\n",
    "test_df = pd.read_csv('original_data/test-3.csv', index_col='index') # no need to read the index column"
   ]
  },
  {
   "source": [
    "## Data Exploration, Data Cleaning"
   ],
   "cell_type": "markdown",
   "metadata": {}
  },
  {
   "source": [
    "Let us examine the dataframes and their columns"
   ],
   "cell_type": "markdown",
   "metadata": {}
  },
  {
   "cell_type": "code",
   "execution_count": 3,
   "metadata": {},
   "outputs": [
    {
     "output_type": "execute_result",
     "data": {
      "text/plain": [
       "         AC    AF   AR    AS  AST   AY       AwayTeam      Date FTR    HC  \\\n",
       "0       3.0  12.0  0.0  14.0  4.0  0.0      Stuttgart  07/08/09   H   6.0   \n",
       "1       1.0  10.0  0.0   7.0  0.0  1.0        FC Koln  08/08/09   H  16.0   \n",
       "2       3.0  20.0  0.0  15.0  3.0  2.0       Hannover  08/08/09   H   5.0   \n",
       "3      10.0  28.0  0.0   9.0  3.0  2.0  Bayern Munich  08/08/09   D   3.0   \n",
       "4       5.0  28.0  0.0  13.0  7.0  2.0     Leverkusen  08/08/09   D   3.0   \n",
       "...     ...   ...  ...   ...  ...  ...            ...       ...  ..   ...   \n",
       "12784   7.0   1.0  0.0  17.0  4.0  1.0        Udinese  28/05/17   H   6.0   \n",
       "12785   7.0  16.0  0.0  17.0  4.0  4.0         Empoli  28/05/17   H   0.0   \n",
       "12786   2.0  14.0  0.0  13.0  4.0  0.0          Genoa  28/05/17   H   6.0   \n",
       "12787  10.0   8.0  0.0  22.0  7.0  0.0         Napoli  28/05/17   A   5.0   \n",
       "12788  10.0   6.0  0.0  21.0  7.0  0.0       Sassuolo  28/05/17   H   6.0   \n",
       "\n",
       "         HF   HR    HS   HST  HTAG  HTHG   HY    HomeTeam      league  \n",
       "0      12.0  0.0  13.0   7.0   0.0   0.0  0.0   Wolfsburg  bundesliga  \n",
       "1       8.0  0.0  24.0  11.0   0.0   0.0  0.0    Dortmund  bundesliga  \n",
       "2      16.0  0.0  10.0   4.0   0.0   0.0  3.0      Hertha  bundesliga  \n",
       "3      10.0  0.0   9.0   1.0   1.0   1.0  0.0  Hoffenheim  bundesliga  \n",
       "4      22.0  0.0   8.0   4.0   2.0   1.0  1.0       Mainz  bundesliga  \n",
       "...     ...  ...   ...   ...   ...   ...  ...         ...         ...  \n",
       "12784  15.0  0.0  17.0   6.0   0.0   3.0  2.0       Inter     serie-a  \n",
       "12785  18.0  0.0  10.0   5.0   0.0   0.0  3.0     Palermo     serie-a  \n",
       "12786   8.0  0.0  24.0   7.0   1.0   1.0  2.0        Roma     serie-a  \n",
       "12787   9.0  0.0  12.0   2.0   2.0   0.0  1.0   Sampdoria     serie-a  \n",
       "12788  16.0  0.0  16.0   9.0   2.0   3.0  2.0      Torino     serie-a  \n",
       "\n",
       "[12789 rows x 19 columns]"
      ],
      "text/html": "<div>\n<style scoped>\n    .dataframe tbody tr th:only-of-type {\n        vertical-align: middle;\n    }\n\n    .dataframe tbody tr th {\n        vertical-align: top;\n    }\n\n    .dataframe thead th {\n        text-align: right;\n    }\n</style>\n<table border=\"1\" class=\"dataframe\">\n  <thead>\n    <tr style=\"text-align: right;\">\n      <th></th>\n      <th>AC</th>\n      <th>AF</th>\n      <th>AR</th>\n      <th>AS</th>\n      <th>AST</th>\n      <th>AY</th>\n      <th>AwayTeam</th>\n      <th>Date</th>\n      <th>FTR</th>\n      <th>HC</th>\n      <th>HF</th>\n      <th>HR</th>\n      <th>HS</th>\n      <th>HST</th>\n      <th>HTAG</th>\n      <th>HTHG</th>\n      <th>HY</th>\n      <th>HomeTeam</th>\n      <th>league</th>\n    </tr>\n  </thead>\n  <tbody>\n    <tr>\n      <th>0</th>\n      <td>3.0</td>\n      <td>12.0</td>\n      <td>0.0</td>\n      <td>14.0</td>\n      <td>4.0</td>\n      <td>0.0</td>\n      <td>Stuttgart</td>\n      <td>07/08/09</td>\n      <td>H</td>\n      <td>6.0</td>\n      <td>12.0</td>\n      <td>0.0</td>\n      <td>13.0</td>\n      <td>7.0</td>\n      <td>0.0</td>\n      <td>0.0</td>\n      <td>0.0</td>\n      <td>Wolfsburg</td>\n      <td>bundesliga</td>\n    </tr>\n    <tr>\n      <th>1</th>\n      <td>1.0</td>\n      <td>10.0</td>\n      <td>0.0</td>\n      <td>7.0</td>\n      <td>0.0</td>\n      <td>1.0</td>\n      <td>FC Koln</td>\n      <td>08/08/09</td>\n      <td>H</td>\n      <td>16.0</td>\n      <td>8.0</td>\n      <td>0.0</td>\n      <td>24.0</td>\n      <td>11.0</td>\n      <td>0.0</td>\n      <td>0.0</td>\n      <td>0.0</td>\n      <td>Dortmund</td>\n      <td>bundesliga</td>\n    </tr>\n    <tr>\n      <th>2</th>\n      <td>3.0</td>\n      <td>20.0</td>\n      <td>0.0</td>\n      <td>15.0</td>\n      <td>3.0</td>\n      <td>2.0</td>\n      <td>Hannover</td>\n      <td>08/08/09</td>\n      <td>H</td>\n      <td>5.0</td>\n      <td>16.0</td>\n      <td>0.0</td>\n      <td>10.0</td>\n      <td>4.0</td>\n      <td>0.0</td>\n      <td>0.0</td>\n      <td>3.0</td>\n      <td>Hertha</td>\n      <td>bundesliga</td>\n    </tr>\n    <tr>\n      <th>3</th>\n      <td>10.0</td>\n      <td>28.0</td>\n      <td>0.0</td>\n      <td>9.0</td>\n      <td>3.0</td>\n      <td>2.0</td>\n      <td>Bayern Munich</td>\n      <td>08/08/09</td>\n      <td>D</td>\n      <td>3.0</td>\n      <td>10.0</td>\n      <td>0.0</td>\n      <td>9.0</td>\n      <td>1.0</td>\n      <td>1.0</td>\n      <td>1.0</td>\n      <td>0.0</td>\n      <td>Hoffenheim</td>\n      <td>bundesliga</td>\n    </tr>\n    <tr>\n      <th>4</th>\n      <td>5.0</td>\n      <td>28.0</td>\n      <td>0.0</td>\n      <td>13.0</td>\n      <td>7.0</td>\n      <td>2.0</td>\n      <td>Leverkusen</td>\n      <td>08/08/09</td>\n      <td>D</td>\n      <td>3.0</td>\n      <td>22.0</td>\n      <td>0.0</td>\n      <td>8.0</td>\n      <td>4.0</td>\n      <td>2.0</td>\n      <td>1.0</td>\n      <td>1.0</td>\n      <td>Mainz</td>\n      <td>bundesliga</td>\n    </tr>\n    <tr>\n      <th>...</th>\n      <td>...</td>\n      <td>...</td>\n      <td>...</td>\n      <td>...</td>\n      <td>...</td>\n      <td>...</td>\n      <td>...</td>\n      <td>...</td>\n      <td>...</td>\n      <td>...</td>\n      <td>...</td>\n      <td>...</td>\n      <td>...</td>\n      <td>...</td>\n      <td>...</td>\n      <td>...</td>\n      <td>...</td>\n      <td>...</td>\n      <td>...</td>\n    </tr>\n    <tr>\n      <th>12784</th>\n      <td>7.0</td>\n      <td>1.0</td>\n      <td>0.0</td>\n      <td>17.0</td>\n      <td>4.0</td>\n      <td>1.0</td>\n      <td>Udinese</td>\n      <td>28/05/17</td>\n      <td>H</td>\n      <td>6.0</td>\n      <td>15.0</td>\n      <td>0.0</td>\n      <td>17.0</td>\n      <td>6.0</td>\n      <td>0.0</td>\n      <td>3.0</td>\n      <td>2.0</td>\n      <td>Inter</td>\n      <td>serie-a</td>\n    </tr>\n    <tr>\n      <th>12785</th>\n      <td>7.0</td>\n      <td>16.0</td>\n      <td>0.0</td>\n      <td>17.0</td>\n      <td>4.0</td>\n      <td>4.0</td>\n      <td>Empoli</td>\n      <td>28/05/17</td>\n      <td>H</td>\n      <td>0.0</td>\n      <td>18.0</td>\n      <td>0.0</td>\n      <td>10.0</td>\n      <td>5.0</td>\n      <td>0.0</td>\n      <td>0.0</td>\n      <td>3.0</td>\n      <td>Palermo</td>\n      <td>serie-a</td>\n    </tr>\n    <tr>\n      <th>12786</th>\n      <td>2.0</td>\n      <td>14.0</td>\n      <td>0.0</td>\n      <td>13.0</td>\n      <td>4.0</td>\n      <td>0.0</td>\n      <td>Genoa</td>\n      <td>28/05/17</td>\n      <td>H</td>\n      <td>6.0</td>\n      <td>8.0</td>\n      <td>0.0</td>\n      <td>24.0</td>\n      <td>7.0</td>\n      <td>1.0</td>\n      <td>1.0</td>\n      <td>2.0</td>\n      <td>Roma</td>\n      <td>serie-a</td>\n    </tr>\n    <tr>\n      <th>12787</th>\n      <td>10.0</td>\n      <td>8.0</td>\n      <td>0.0</td>\n      <td>22.0</td>\n      <td>7.0</td>\n      <td>0.0</td>\n      <td>Napoli</td>\n      <td>28/05/17</td>\n      <td>A</td>\n      <td>5.0</td>\n      <td>9.0</td>\n      <td>0.0</td>\n      <td>12.0</td>\n      <td>2.0</td>\n      <td>2.0</td>\n      <td>0.0</td>\n      <td>1.0</td>\n      <td>Sampdoria</td>\n      <td>serie-a</td>\n    </tr>\n    <tr>\n      <th>12788</th>\n      <td>10.0</td>\n      <td>6.0</td>\n      <td>0.0</td>\n      <td>21.0</td>\n      <td>7.0</td>\n      <td>0.0</td>\n      <td>Sassuolo</td>\n      <td>28/05/17</td>\n      <td>H</td>\n      <td>6.0</td>\n      <td>16.0</td>\n      <td>0.0</td>\n      <td>16.0</td>\n      <td>9.0</td>\n      <td>2.0</td>\n      <td>3.0</td>\n      <td>2.0</td>\n      <td>Torino</td>\n      <td>serie-a</td>\n    </tr>\n  </tbody>\n</table>\n<p>12789 rows × 19 columns</p>\n</div>"
     },
     "metadata": {},
     "execution_count": 3
    }
   ],
   "source": [
    "train_df"
   ]
  },
  {
   "cell_type": "code",
   "execution_count": 4,
   "metadata": {},
   "outputs": [
    {
     "output_type": "execute_result",
     "data": {
      "text/plain": [
       "       AC  AF  AR  AS  AST  AY       AwayTeam      Date  HC  HF  HR  HS  HST  \\\n",
       "index                                                                          \n",
       "0       5  17   0  19    4   2     Leverkusen  18/08/17   4  13   0  13    8   \n",
       "1       7  16   0  13    1   3       Augsburg  19/08/17   3  18   0  11    5   \n",
       "2       1  12   0   9    2   1      Stuttgart  19/08/17   5  18   0  10    3   \n",
       "3       4  15   0  11    2   3  Werder Bremen  19/08/17   6  17   0  14    3   \n",
       "4       1  14   0   6    2   5       Hannover  19/08/17  13  18   0  14    6   \n",
       "...    ..  ..  ..  ..  ...  ..            ...       ...  ..  ..  ..  ..  ...   \n",
       "375     1   5   1   9    3   1     Fiorentina  20/05/18   6  10   0  18   11   \n",
       "376     9   9   0   9    4   0        Crotone  20/05/18   6   3   0  19    9   \n",
       "377     9   8   0  15    6   1           Roma  20/05/18   5  14   0  16    3   \n",
       "378     3  11   0   9    3   4      Sampdoria  20/05/18   5  10   0  16    6   \n",
       "379     2  11   0   8    5   2        Bologna  20/05/18  10   9   0  20    5   \n",
       "\n",
       "       HTAG  HTHG  HY       HomeTeam Referee      league  \n",
       "index                                                     \n",
       "0         0     2   1  Bayern Munich     NaN  bundesliga  \n",
       "1         0     1   4        Hamburg     NaN  bundesliga  \n",
       "2         0     0   2         Hertha     NaN  bundesliga  \n",
       "3         0     0   1     Hoffenheim     NaN  bundesliga  \n",
       "4         0     0   3          Mainz     NaN  bundesliga  \n",
       "...     ...   ...  ..            ...     ...         ...  \n",
       "375       1     2   2          Milan     NaN     serie-a  \n",
       "376       0     2   0         Napoli     NaN     serie-a  \n",
       "377       1     0   1       Sassuolo     NaN     serie-a  \n",
       "378       0     1   1           Spal     NaN     serie-a  \n",
       "379       0     1   0        Udinese     NaN     serie-a  \n",
       "\n",
       "[1826 rows x 19 columns]"
      ],
      "text/html": "<div>\n<style scoped>\n    .dataframe tbody tr th:only-of-type {\n        vertical-align: middle;\n    }\n\n    .dataframe tbody tr th {\n        vertical-align: top;\n    }\n\n    .dataframe thead th {\n        text-align: right;\n    }\n</style>\n<table border=\"1\" class=\"dataframe\">\n  <thead>\n    <tr style=\"text-align: right;\">\n      <th></th>\n      <th>AC</th>\n      <th>AF</th>\n      <th>AR</th>\n      <th>AS</th>\n      <th>AST</th>\n      <th>AY</th>\n      <th>AwayTeam</th>\n      <th>Date</th>\n      <th>HC</th>\n      <th>HF</th>\n      <th>HR</th>\n      <th>HS</th>\n      <th>HST</th>\n      <th>HTAG</th>\n      <th>HTHG</th>\n      <th>HY</th>\n      <th>HomeTeam</th>\n      <th>Referee</th>\n      <th>league</th>\n    </tr>\n    <tr>\n      <th>index</th>\n      <th></th>\n      <th></th>\n      <th></th>\n      <th></th>\n      <th></th>\n      <th></th>\n      <th></th>\n      <th></th>\n      <th></th>\n      <th></th>\n      <th></th>\n      <th></th>\n      <th></th>\n      <th></th>\n      <th></th>\n      <th></th>\n      <th></th>\n      <th></th>\n      <th></th>\n    </tr>\n  </thead>\n  <tbody>\n    <tr>\n      <th>0</th>\n      <td>5</td>\n      <td>17</td>\n      <td>0</td>\n      <td>19</td>\n      <td>4</td>\n      <td>2</td>\n      <td>Leverkusen</td>\n      <td>18/08/17</td>\n      <td>4</td>\n      <td>13</td>\n      <td>0</td>\n      <td>13</td>\n      <td>8</td>\n      <td>0</td>\n      <td>2</td>\n      <td>1</td>\n      <td>Bayern Munich</td>\n      <td>NaN</td>\n      <td>bundesliga</td>\n    </tr>\n    <tr>\n      <th>1</th>\n      <td>7</td>\n      <td>16</td>\n      <td>0</td>\n      <td>13</td>\n      <td>1</td>\n      <td>3</td>\n      <td>Augsburg</td>\n      <td>19/08/17</td>\n      <td>3</td>\n      <td>18</td>\n      <td>0</td>\n      <td>11</td>\n      <td>5</td>\n      <td>0</td>\n      <td>1</td>\n      <td>4</td>\n      <td>Hamburg</td>\n      <td>NaN</td>\n      <td>bundesliga</td>\n    </tr>\n    <tr>\n      <th>2</th>\n      <td>1</td>\n      <td>12</td>\n      <td>0</td>\n      <td>9</td>\n      <td>2</td>\n      <td>1</td>\n      <td>Stuttgart</td>\n      <td>19/08/17</td>\n      <td>5</td>\n      <td>18</td>\n      <td>0</td>\n      <td>10</td>\n      <td>3</td>\n      <td>0</td>\n      <td>0</td>\n      <td>2</td>\n      <td>Hertha</td>\n      <td>NaN</td>\n      <td>bundesliga</td>\n    </tr>\n    <tr>\n      <th>3</th>\n      <td>4</td>\n      <td>15</td>\n      <td>0</td>\n      <td>11</td>\n      <td>2</td>\n      <td>3</td>\n      <td>Werder Bremen</td>\n      <td>19/08/17</td>\n      <td>6</td>\n      <td>17</td>\n      <td>0</td>\n      <td>14</td>\n      <td>3</td>\n      <td>0</td>\n      <td>0</td>\n      <td>1</td>\n      <td>Hoffenheim</td>\n      <td>NaN</td>\n      <td>bundesliga</td>\n    </tr>\n    <tr>\n      <th>4</th>\n      <td>1</td>\n      <td>14</td>\n      <td>0</td>\n      <td>6</td>\n      <td>2</td>\n      <td>5</td>\n      <td>Hannover</td>\n      <td>19/08/17</td>\n      <td>13</td>\n      <td>18</td>\n      <td>0</td>\n      <td>14</td>\n      <td>6</td>\n      <td>0</td>\n      <td>0</td>\n      <td>3</td>\n      <td>Mainz</td>\n      <td>NaN</td>\n      <td>bundesliga</td>\n    </tr>\n    <tr>\n      <th>...</th>\n      <td>...</td>\n      <td>...</td>\n      <td>...</td>\n      <td>...</td>\n      <td>...</td>\n      <td>...</td>\n      <td>...</td>\n      <td>...</td>\n      <td>...</td>\n      <td>...</td>\n      <td>...</td>\n      <td>...</td>\n      <td>...</td>\n      <td>...</td>\n      <td>...</td>\n      <td>...</td>\n      <td>...</td>\n      <td>...</td>\n      <td>...</td>\n    </tr>\n    <tr>\n      <th>375</th>\n      <td>1</td>\n      <td>5</td>\n      <td>1</td>\n      <td>9</td>\n      <td>3</td>\n      <td>1</td>\n      <td>Fiorentina</td>\n      <td>20/05/18</td>\n      <td>6</td>\n      <td>10</td>\n      <td>0</td>\n      <td>18</td>\n      <td>11</td>\n      <td>1</td>\n      <td>2</td>\n      <td>2</td>\n      <td>Milan</td>\n      <td>NaN</td>\n      <td>serie-a</td>\n    </tr>\n    <tr>\n      <th>376</th>\n      <td>9</td>\n      <td>9</td>\n      <td>0</td>\n      <td>9</td>\n      <td>4</td>\n      <td>0</td>\n      <td>Crotone</td>\n      <td>20/05/18</td>\n      <td>6</td>\n      <td>3</td>\n      <td>0</td>\n      <td>19</td>\n      <td>9</td>\n      <td>0</td>\n      <td>2</td>\n      <td>0</td>\n      <td>Napoli</td>\n      <td>NaN</td>\n      <td>serie-a</td>\n    </tr>\n    <tr>\n      <th>377</th>\n      <td>9</td>\n      <td>8</td>\n      <td>0</td>\n      <td>15</td>\n      <td>6</td>\n      <td>1</td>\n      <td>Roma</td>\n      <td>20/05/18</td>\n      <td>5</td>\n      <td>14</td>\n      <td>0</td>\n      <td>16</td>\n      <td>3</td>\n      <td>1</td>\n      <td>0</td>\n      <td>1</td>\n      <td>Sassuolo</td>\n      <td>NaN</td>\n      <td>serie-a</td>\n    </tr>\n    <tr>\n      <th>378</th>\n      <td>3</td>\n      <td>11</td>\n      <td>0</td>\n      <td>9</td>\n      <td>3</td>\n      <td>4</td>\n      <td>Sampdoria</td>\n      <td>20/05/18</td>\n      <td>5</td>\n      <td>10</td>\n      <td>0</td>\n      <td>16</td>\n      <td>6</td>\n      <td>0</td>\n      <td>1</td>\n      <td>1</td>\n      <td>Spal</td>\n      <td>NaN</td>\n      <td>serie-a</td>\n    </tr>\n    <tr>\n      <th>379</th>\n      <td>2</td>\n      <td>11</td>\n      <td>0</td>\n      <td>8</td>\n      <td>5</td>\n      <td>2</td>\n      <td>Bologna</td>\n      <td>20/05/18</td>\n      <td>10</td>\n      <td>9</td>\n      <td>0</td>\n      <td>20</td>\n      <td>5</td>\n      <td>0</td>\n      <td>1</td>\n      <td>0</td>\n      <td>Udinese</td>\n      <td>NaN</td>\n      <td>serie-a</td>\n    </tr>\n  </tbody>\n</table>\n<p>1826 rows × 19 columns</p>\n</div>"
     },
     "metadata": {},
     "execution_count": 4
    }
   ],
   "source": [
    "test_df"
   ]
  },
  {
   "cell_type": "code",
   "execution_count": 5,
   "metadata": {},
   "outputs": [
    {
     "output_type": "execute_result",
     "data": {
      "text/plain": [
       "Index(['AC', 'AF', 'AR', 'AS', 'AST', 'AY', 'AwayTeam', 'Date', 'FTR', 'HC',\n",
       "       'HF', 'HR', 'HS', 'HST', 'HTAG', 'HTHG', 'HY', 'HomeTeam', 'league'],\n",
       "      dtype='object')"
      ]
     },
     "metadata": {},
     "execution_count": 5
    }
   ],
   "source": [
    "train_df.columns"
   ]
  },
  {
   "cell_type": "code",
   "execution_count": 6,
   "metadata": {},
   "outputs": [
    {
     "output_type": "execute_result",
     "data": {
      "text/plain": [
       "Index(['AC', 'AF', 'AR', 'AS', 'AST', 'AY', 'AwayTeam', 'Date', 'HC', 'HF',\n",
       "       'HR', 'HS', 'HST', 'HTAG', 'HTHG', 'HY', 'HomeTeam', 'Referee',\n",
       "       'league'],\n",
       "      dtype='object')"
      ]
     },
     "metadata": {},
     "execution_count": 6
    }
   ],
   "source": [
    "test_df.columns"
   ]
  },
  {
   "source": [
    "At first glance, there is a `Referee` column in the test dataset which is not in the train dataset.\n",
    "In the train df, the FTR (what we should predict) appears but not in the test df, as it should.  \n",
    "\n",
    "Let us find out if there are more such columns.  \n",
    "\n"
   ],
   "cell_type": "markdown",
   "metadata": {}
  },
  {
   "cell_type": "code",
   "execution_count": 7,
   "metadata": {},
   "outputs": [],
   "source": [
    "commonColumns = set(list(train_df.columns)).intersection(set(list(test_df.columns))) # between train and test dataframes"
   ]
  },
  {
   "cell_type": "code",
   "execution_count": 8,
   "metadata": {},
   "outputs": [
    {
     "output_type": "execute_result",
     "data": {
      "text/plain": [
       "{'FTR'}"
      ]
     },
     "metadata": {},
     "execution_count": 8
    }
   ],
   "source": [
    "set(list(train_df.columns)) - commonColumns  # columns only in train_df"
   ]
  },
  {
   "cell_type": "code",
   "execution_count": 9,
   "metadata": {},
   "outputs": [
    {
     "output_type": "execute_result",
     "data": {
      "text/plain": [
       "{'Referee'}"
      ]
     },
     "metadata": {},
     "execution_count": 9
    }
   ],
   "source": [
    "set(list(test_df.columns)) - commonColumns  # columns only in test_df"
   ]
  },
  {
   "cell_type": "code",
   "execution_count": 10,
   "metadata": {},
   "outputs": [
    {
     "output_type": "stream",
     "name": "stdout",
     "text": [
      "['AC', 'AF', 'AR', 'AS', 'AST', 'AY', 'AwayTeam', 'Date', 'HC', 'HF', 'HR', 'HS', 'HST', 'HTAG', 'HTHG', 'HY', 'HomeTeam', 'league']\n"
     ]
    }
   ],
   "source": [
    "print(sorted(commonColumns))"
   ]
  },
  {
   "cell_type": "code",
   "execution_count": 11,
   "metadata": {},
   "outputs": [
    {
     "output_type": "execute_result",
     "data": {
      "text/plain": [
       "18"
      ]
     },
     "metadata": {},
     "execution_count": 11
    }
   ],
   "source": [
    "len(commonColumns)"
   ]
  },
  {
   "source": [
    "The referee should not influence the outcome of the game. So, we can safely drop that column in test_df.  \n",
    "\n",
    "As we train our model, FTR column is not one of the predictors. \n",
    "\n",
    "So, both the train and test dataframes have the same columns that we will be looking as we train our model and predicting using it. "
   ],
   "cell_type": "markdown",
   "metadata": {}
  },
  {
   "cell_type": "code",
   "execution_count": 12,
   "metadata": {},
   "outputs": [],
   "source": [
    "# we can use the date information to identify the season and things like no. of days since last match to capture player fatigue\n",
    "\n",
    "train_df[\"Date\"] = train_df[\"Date\"].apply(pd.to_datetime)\n",
    "test_df[\"Date\"] = test_df[\"Date\"].apply(pd.to_datetime)"
   ]
  },
  {
   "source": [
    "Let us test for missing values and check for datatypes in the two DFs.  \n",
    "\n",
    "We start with `train_df`."
   ],
   "cell_type": "markdown",
   "metadata": {}
  },
  {
   "cell_type": "code",
   "execution_count": 13,
   "metadata": {},
   "outputs": [
    {
     "output_type": "stream",
     "name": "stdout",
     "text": [
      "<class 'pandas.core.frame.DataFrame'>\nRangeIndex: 12789 entries, 0 to 12788\nData columns (total 19 columns):\n #   Column    Non-Null Count  Dtype         \n---  ------    --------------  -----         \n 0   AC        12780 non-null  float64       \n 1   AF        12778 non-null  float64       \n 2   AR        12780 non-null  float64       \n 3   AS        12780 non-null  float64       \n 4   AST       12780 non-null  float64       \n 5   AY        12780 non-null  float64       \n 6   AwayTeam  12782 non-null  object        \n 7   Date      12782 non-null  datetime64[ns]\n 8   FTR       12782 non-null  object        \n 9   HC        12780 non-null  float64       \n 10  HF        12778 non-null  float64       \n 11  HR        12780 non-null  float64       \n 12  HS        12780 non-null  float64       \n 13  HST       12780 non-null  float64       \n 14  HTAG      12779 non-null  float64       \n 15  HTHG      12779 non-null  float64       \n 16  HY        12779 non-null  float64       \n 17  HomeTeam  12782 non-null  object        \n 18  league    12789 non-null  object        \ndtypes: datetime64[ns](1), float64(14), object(4)\nmemory usage: 1.9+ MB\n"
     ]
    }
   ],
   "source": [
    "train_df.info()"
   ]
  },
  {
   "cell_type": "code",
   "execution_count": 14,
   "metadata": {},
   "outputs": [],
   "source": [
    "# the following columns are always integers and can never be float values. \n",
    "columnNames = ['AC', 'AF', 'AR', 'AS', 'AST', 'AY', 'HC', 'HF', 'HR', 'HS', 'HST', 'HTAG', 'HTHG', 'HY']\n",
    "for columnName in columnNames:\n",
    "    train_df[columnName] = train_df[columnName].astype('Int64')\n"
   ]
  },
  {
   "cell_type": "code",
   "execution_count": 15,
   "metadata": {},
   "outputs": [
    {
     "output_type": "execute_result",
     "data": {
      "text/plain": [
       "       AC  AF  AR  AS  AST  AY       AwayTeam       Date FTR  HC  HF  HR  HS  \\\n",
       "0       3  12   0  14    4   0      Stuttgart 2009-07-08   H   6  12   0  13   \n",
       "1       1  10   0   7    0   1        FC Koln 2009-08-08   H  16   8   0  24   \n",
       "2       3  20   0  15    3   2       Hannover 2009-08-08   H   5  16   0  10   \n",
       "3      10  28   0   9    3   2  Bayern Munich 2009-08-08   D   3  10   0   9   \n",
       "4       5  28   0  13    7   2     Leverkusen 2009-08-08   D   3  22   0   8   \n",
       "...    ..  ..  ..  ..  ...  ..            ...        ...  ..  ..  ..  ..  ..   \n",
       "12784   7   1   0  17    4   1        Udinese 2017-05-28   H   6  15   0  17   \n",
       "12785   7  16   0  17    4   4         Empoli 2017-05-28   H   0  18   0  10   \n",
       "12786   2  14   0  13    4   0          Genoa 2017-05-28   H   6   8   0  24   \n",
       "12787  10   8   0  22    7   0         Napoli 2017-05-28   A   5   9   0  12   \n",
       "12788  10   6   0  21    7   0       Sassuolo 2017-05-28   H   6  16   0  16   \n",
       "\n",
       "       HST  HTAG  HTHG  HY    HomeTeam      league  \n",
       "0        7     0     0   0   Wolfsburg  bundesliga  \n",
       "1       11     0     0   0    Dortmund  bundesliga  \n",
       "2        4     0     0   3      Hertha  bundesliga  \n",
       "3        1     1     1   0  Hoffenheim  bundesliga  \n",
       "4        4     2     1   1       Mainz  bundesliga  \n",
       "...    ...   ...   ...  ..         ...         ...  \n",
       "12784    6     0     3   2       Inter     serie-a  \n",
       "12785    5     0     0   3     Palermo     serie-a  \n",
       "12786    7     1     1   2        Roma     serie-a  \n",
       "12787    2     2     0   1   Sampdoria     serie-a  \n",
       "12788    9     2     3   2      Torino     serie-a  \n",
       "\n",
       "[12789 rows x 19 columns]"
      ],
      "text/html": "<div>\n<style scoped>\n    .dataframe tbody tr th:only-of-type {\n        vertical-align: middle;\n    }\n\n    .dataframe tbody tr th {\n        vertical-align: top;\n    }\n\n    .dataframe thead th {\n        text-align: right;\n    }\n</style>\n<table border=\"1\" class=\"dataframe\">\n  <thead>\n    <tr style=\"text-align: right;\">\n      <th></th>\n      <th>AC</th>\n      <th>AF</th>\n      <th>AR</th>\n      <th>AS</th>\n      <th>AST</th>\n      <th>AY</th>\n      <th>AwayTeam</th>\n      <th>Date</th>\n      <th>FTR</th>\n      <th>HC</th>\n      <th>HF</th>\n      <th>HR</th>\n      <th>HS</th>\n      <th>HST</th>\n      <th>HTAG</th>\n      <th>HTHG</th>\n      <th>HY</th>\n      <th>HomeTeam</th>\n      <th>league</th>\n    </tr>\n  </thead>\n  <tbody>\n    <tr>\n      <th>0</th>\n      <td>3</td>\n      <td>12</td>\n      <td>0</td>\n      <td>14</td>\n      <td>4</td>\n      <td>0</td>\n      <td>Stuttgart</td>\n      <td>2009-07-08</td>\n      <td>H</td>\n      <td>6</td>\n      <td>12</td>\n      <td>0</td>\n      <td>13</td>\n      <td>7</td>\n      <td>0</td>\n      <td>0</td>\n      <td>0</td>\n      <td>Wolfsburg</td>\n      <td>bundesliga</td>\n    </tr>\n    <tr>\n      <th>1</th>\n      <td>1</td>\n      <td>10</td>\n      <td>0</td>\n      <td>7</td>\n      <td>0</td>\n      <td>1</td>\n      <td>FC Koln</td>\n      <td>2009-08-08</td>\n      <td>H</td>\n      <td>16</td>\n      <td>8</td>\n      <td>0</td>\n      <td>24</td>\n      <td>11</td>\n      <td>0</td>\n      <td>0</td>\n      <td>0</td>\n      <td>Dortmund</td>\n      <td>bundesliga</td>\n    </tr>\n    <tr>\n      <th>2</th>\n      <td>3</td>\n      <td>20</td>\n      <td>0</td>\n      <td>15</td>\n      <td>3</td>\n      <td>2</td>\n      <td>Hannover</td>\n      <td>2009-08-08</td>\n      <td>H</td>\n      <td>5</td>\n      <td>16</td>\n      <td>0</td>\n      <td>10</td>\n      <td>4</td>\n      <td>0</td>\n      <td>0</td>\n      <td>3</td>\n      <td>Hertha</td>\n      <td>bundesliga</td>\n    </tr>\n    <tr>\n      <th>3</th>\n      <td>10</td>\n      <td>28</td>\n      <td>0</td>\n      <td>9</td>\n      <td>3</td>\n      <td>2</td>\n      <td>Bayern Munich</td>\n      <td>2009-08-08</td>\n      <td>D</td>\n      <td>3</td>\n      <td>10</td>\n      <td>0</td>\n      <td>9</td>\n      <td>1</td>\n      <td>1</td>\n      <td>1</td>\n      <td>0</td>\n      <td>Hoffenheim</td>\n      <td>bundesliga</td>\n    </tr>\n    <tr>\n      <th>4</th>\n      <td>5</td>\n      <td>28</td>\n      <td>0</td>\n      <td>13</td>\n      <td>7</td>\n      <td>2</td>\n      <td>Leverkusen</td>\n      <td>2009-08-08</td>\n      <td>D</td>\n      <td>3</td>\n      <td>22</td>\n      <td>0</td>\n      <td>8</td>\n      <td>4</td>\n      <td>2</td>\n      <td>1</td>\n      <td>1</td>\n      <td>Mainz</td>\n      <td>bundesliga</td>\n    </tr>\n    <tr>\n      <th>...</th>\n      <td>...</td>\n      <td>...</td>\n      <td>...</td>\n      <td>...</td>\n      <td>...</td>\n      <td>...</td>\n      <td>...</td>\n      <td>...</td>\n      <td>...</td>\n      <td>...</td>\n      <td>...</td>\n      <td>...</td>\n      <td>...</td>\n      <td>...</td>\n      <td>...</td>\n      <td>...</td>\n      <td>...</td>\n      <td>...</td>\n      <td>...</td>\n    </tr>\n    <tr>\n      <th>12784</th>\n      <td>7</td>\n      <td>1</td>\n      <td>0</td>\n      <td>17</td>\n      <td>4</td>\n      <td>1</td>\n      <td>Udinese</td>\n      <td>2017-05-28</td>\n      <td>H</td>\n      <td>6</td>\n      <td>15</td>\n      <td>0</td>\n      <td>17</td>\n      <td>6</td>\n      <td>0</td>\n      <td>3</td>\n      <td>2</td>\n      <td>Inter</td>\n      <td>serie-a</td>\n    </tr>\n    <tr>\n      <th>12785</th>\n      <td>7</td>\n      <td>16</td>\n      <td>0</td>\n      <td>17</td>\n      <td>4</td>\n      <td>4</td>\n      <td>Empoli</td>\n      <td>2017-05-28</td>\n      <td>H</td>\n      <td>0</td>\n      <td>18</td>\n      <td>0</td>\n      <td>10</td>\n      <td>5</td>\n      <td>0</td>\n      <td>0</td>\n      <td>3</td>\n      <td>Palermo</td>\n      <td>serie-a</td>\n    </tr>\n    <tr>\n      <th>12786</th>\n      <td>2</td>\n      <td>14</td>\n      <td>0</td>\n      <td>13</td>\n      <td>4</td>\n      <td>0</td>\n      <td>Genoa</td>\n      <td>2017-05-28</td>\n      <td>H</td>\n      <td>6</td>\n      <td>8</td>\n      <td>0</td>\n      <td>24</td>\n      <td>7</td>\n      <td>1</td>\n      <td>1</td>\n      <td>2</td>\n      <td>Roma</td>\n      <td>serie-a</td>\n    </tr>\n    <tr>\n      <th>12787</th>\n      <td>10</td>\n      <td>8</td>\n      <td>0</td>\n      <td>22</td>\n      <td>7</td>\n      <td>0</td>\n      <td>Napoli</td>\n      <td>2017-05-28</td>\n      <td>A</td>\n      <td>5</td>\n      <td>9</td>\n      <td>0</td>\n      <td>12</td>\n      <td>2</td>\n      <td>2</td>\n      <td>0</td>\n      <td>1</td>\n      <td>Sampdoria</td>\n      <td>serie-a</td>\n    </tr>\n    <tr>\n      <th>12788</th>\n      <td>10</td>\n      <td>6</td>\n      <td>0</td>\n      <td>21</td>\n      <td>7</td>\n      <td>0</td>\n      <td>Sassuolo</td>\n      <td>2017-05-28</td>\n      <td>H</td>\n      <td>6</td>\n      <td>16</td>\n      <td>0</td>\n      <td>16</td>\n      <td>9</td>\n      <td>2</td>\n      <td>3</td>\n      <td>2</td>\n      <td>Torino</td>\n      <td>serie-a</td>\n    </tr>\n  </tbody>\n</table>\n<p>12789 rows × 19 columns</p>\n</div>"
     },
     "metadata": {},
     "execution_count": 15
    }
   ],
   "source": [
    "train_df"
   ]
  },
  {
   "cell_type": "code",
   "execution_count": 16,
   "metadata": {},
   "outputs": [
    {
     "output_type": "execute_result",
     "data": {
      "text/plain": [
       "AC           9\n",
       "AF          11\n",
       "AR           9\n",
       "AS           9\n",
       "AST          9\n",
       "AY           9\n",
       "AwayTeam     7\n",
       "Date         7\n",
       "FTR          7\n",
       "HC           9\n",
       "HF          11\n",
       "HR           9\n",
       "HS           9\n",
       "HST          9\n",
       "HTAG        10\n",
       "HTHG        10\n",
       "HY          10\n",
       "HomeTeam     7\n",
       "league       0\n",
       "dtype: int64"
      ]
     },
     "metadata": {},
     "execution_count": 16
    }
   ],
   "source": [
    "train_df.isnull().sum()"
   ]
  },
  {
   "source": [
    "Almost every column in train_df except the \"league\" has null values.  Even the FTR column i.e. result column has 7 missing values.  \n",
    "\n",
    "Let's list those rows."
   ],
   "cell_type": "markdown",
   "metadata": {}
  },
  {
   "cell_type": "code",
   "execution_count": 17,
   "metadata": {},
   "outputs": [
    {
     "output_type": "execute_result",
     "data": {
      "text/plain": [
       "         AC    AF    AR    AS   AST    AY AwayTeam Date  FTR    HC    HF  \\\n",
       "7082   <NA>  <NA>  <NA>  <NA>  <NA>  <NA>      NaN  NaT  NaN  <NA>  <NA>   \n",
       "9363   <NA>  <NA>  <NA>  <NA>  <NA>  <NA>      NaN  NaT  NaN  <NA>  <NA>   \n",
       "11644  <NA>  <NA>  <NA>  <NA>  <NA>  <NA>      NaN  NaT  NaN  <NA>  <NA>   \n",
       "11645  <NA>  <NA>  <NA>  <NA>  <NA>  <NA>      NaN  NaT  NaN  <NA>  <NA>   \n",
       "11646  <NA>  <NA>  <NA>  <NA>  <NA>  <NA>      NaN  NaT  NaN  <NA>  <NA>   \n",
       "12027  <NA>  <NA>  <NA>  <NA>  <NA>  <NA>      NaN  NaT  NaN  <NA>  <NA>   \n",
       "12408  <NA>  <NA>  <NA>  <NA>  <NA>  <NA>      NaN  NaT  NaN  <NA>  <NA>   \n",
       "\n",
       "         HR    HS   HST  HTAG  HTHG    HY HomeTeam          league  \n",
       "7082   <NA>  <NA>  <NA>  <NA>  <NA>  <NA>      NaN         ligue-1  \n",
       "9363   <NA>  <NA>  <NA>  <NA>  <NA>  <NA>      NaN  premier-league  \n",
       "11644  <NA>  <NA>  <NA>  <NA>  <NA>  <NA>      NaN         serie-a  \n",
       "11645  <NA>  <NA>  <NA>  <NA>  <NA>  <NA>      NaN         serie-a  \n",
       "11646  <NA>  <NA>  <NA>  <NA>  <NA>  <NA>      NaN         serie-a  \n",
       "12027  <NA>  <NA>  <NA>  <NA>  <NA>  <NA>      NaN         serie-a  \n",
       "12408  <NA>  <NA>  <NA>  <NA>  <NA>  <NA>      NaN         serie-a  "
      ],
      "text/html": "<div>\n<style scoped>\n    .dataframe tbody tr th:only-of-type {\n        vertical-align: middle;\n    }\n\n    .dataframe tbody tr th {\n        vertical-align: top;\n    }\n\n    .dataframe thead th {\n        text-align: right;\n    }\n</style>\n<table border=\"1\" class=\"dataframe\">\n  <thead>\n    <tr style=\"text-align: right;\">\n      <th></th>\n      <th>AC</th>\n      <th>AF</th>\n      <th>AR</th>\n      <th>AS</th>\n      <th>AST</th>\n      <th>AY</th>\n      <th>AwayTeam</th>\n      <th>Date</th>\n      <th>FTR</th>\n      <th>HC</th>\n      <th>HF</th>\n      <th>HR</th>\n      <th>HS</th>\n      <th>HST</th>\n      <th>HTAG</th>\n      <th>HTHG</th>\n      <th>HY</th>\n      <th>HomeTeam</th>\n      <th>league</th>\n    </tr>\n  </thead>\n  <tbody>\n    <tr>\n      <th>7082</th>\n      <td>&lt;NA&gt;</td>\n      <td>&lt;NA&gt;</td>\n      <td>&lt;NA&gt;</td>\n      <td>&lt;NA&gt;</td>\n      <td>&lt;NA&gt;</td>\n      <td>&lt;NA&gt;</td>\n      <td>NaN</td>\n      <td>NaT</td>\n      <td>NaN</td>\n      <td>&lt;NA&gt;</td>\n      <td>&lt;NA&gt;</td>\n      <td>&lt;NA&gt;</td>\n      <td>&lt;NA&gt;</td>\n      <td>&lt;NA&gt;</td>\n      <td>&lt;NA&gt;</td>\n      <td>&lt;NA&gt;</td>\n      <td>&lt;NA&gt;</td>\n      <td>NaN</td>\n      <td>ligue-1</td>\n    </tr>\n    <tr>\n      <th>9363</th>\n      <td>&lt;NA&gt;</td>\n      <td>&lt;NA&gt;</td>\n      <td>&lt;NA&gt;</td>\n      <td>&lt;NA&gt;</td>\n      <td>&lt;NA&gt;</td>\n      <td>&lt;NA&gt;</td>\n      <td>NaN</td>\n      <td>NaT</td>\n      <td>NaN</td>\n      <td>&lt;NA&gt;</td>\n      <td>&lt;NA&gt;</td>\n      <td>&lt;NA&gt;</td>\n      <td>&lt;NA&gt;</td>\n      <td>&lt;NA&gt;</td>\n      <td>&lt;NA&gt;</td>\n      <td>&lt;NA&gt;</td>\n      <td>&lt;NA&gt;</td>\n      <td>NaN</td>\n      <td>premier-league</td>\n    </tr>\n    <tr>\n      <th>11644</th>\n      <td>&lt;NA&gt;</td>\n      <td>&lt;NA&gt;</td>\n      <td>&lt;NA&gt;</td>\n      <td>&lt;NA&gt;</td>\n      <td>&lt;NA&gt;</td>\n      <td>&lt;NA&gt;</td>\n      <td>NaN</td>\n      <td>NaT</td>\n      <td>NaN</td>\n      <td>&lt;NA&gt;</td>\n      <td>&lt;NA&gt;</td>\n      <td>&lt;NA&gt;</td>\n      <td>&lt;NA&gt;</td>\n      <td>&lt;NA&gt;</td>\n      <td>&lt;NA&gt;</td>\n      <td>&lt;NA&gt;</td>\n      <td>&lt;NA&gt;</td>\n      <td>NaN</td>\n      <td>serie-a</td>\n    </tr>\n    <tr>\n      <th>11645</th>\n      <td>&lt;NA&gt;</td>\n      <td>&lt;NA&gt;</td>\n      <td>&lt;NA&gt;</td>\n      <td>&lt;NA&gt;</td>\n      <td>&lt;NA&gt;</td>\n      <td>&lt;NA&gt;</td>\n      <td>NaN</td>\n      <td>NaT</td>\n      <td>NaN</td>\n      <td>&lt;NA&gt;</td>\n      <td>&lt;NA&gt;</td>\n      <td>&lt;NA&gt;</td>\n      <td>&lt;NA&gt;</td>\n      <td>&lt;NA&gt;</td>\n      <td>&lt;NA&gt;</td>\n      <td>&lt;NA&gt;</td>\n      <td>&lt;NA&gt;</td>\n      <td>NaN</td>\n      <td>serie-a</td>\n    </tr>\n    <tr>\n      <th>11646</th>\n      <td>&lt;NA&gt;</td>\n      <td>&lt;NA&gt;</td>\n      <td>&lt;NA&gt;</td>\n      <td>&lt;NA&gt;</td>\n      <td>&lt;NA&gt;</td>\n      <td>&lt;NA&gt;</td>\n      <td>NaN</td>\n      <td>NaT</td>\n      <td>NaN</td>\n      <td>&lt;NA&gt;</td>\n      <td>&lt;NA&gt;</td>\n      <td>&lt;NA&gt;</td>\n      <td>&lt;NA&gt;</td>\n      <td>&lt;NA&gt;</td>\n      <td>&lt;NA&gt;</td>\n      <td>&lt;NA&gt;</td>\n      <td>&lt;NA&gt;</td>\n      <td>NaN</td>\n      <td>serie-a</td>\n    </tr>\n    <tr>\n      <th>12027</th>\n      <td>&lt;NA&gt;</td>\n      <td>&lt;NA&gt;</td>\n      <td>&lt;NA&gt;</td>\n      <td>&lt;NA&gt;</td>\n      <td>&lt;NA&gt;</td>\n      <td>&lt;NA&gt;</td>\n      <td>NaN</td>\n      <td>NaT</td>\n      <td>NaN</td>\n      <td>&lt;NA&gt;</td>\n      <td>&lt;NA&gt;</td>\n      <td>&lt;NA&gt;</td>\n      <td>&lt;NA&gt;</td>\n      <td>&lt;NA&gt;</td>\n      <td>&lt;NA&gt;</td>\n      <td>&lt;NA&gt;</td>\n      <td>&lt;NA&gt;</td>\n      <td>NaN</td>\n      <td>serie-a</td>\n    </tr>\n    <tr>\n      <th>12408</th>\n      <td>&lt;NA&gt;</td>\n      <td>&lt;NA&gt;</td>\n      <td>&lt;NA&gt;</td>\n      <td>&lt;NA&gt;</td>\n      <td>&lt;NA&gt;</td>\n      <td>&lt;NA&gt;</td>\n      <td>NaN</td>\n      <td>NaT</td>\n      <td>NaN</td>\n      <td>&lt;NA&gt;</td>\n      <td>&lt;NA&gt;</td>\n      <td>&lt;NA&gt;</td>\n      <td>&lt;NA&gt;</td>\n      <td>&lt;NA&gt;</td>\n      <td>&lt;NA&gt;</td>\n      <td>&lt;NA&gt;</td>\n      <td>&lt;NA&gt;</td>\n      <td>NaN</td>\n      <td>serie-a</td>\n    </tr>\n  </tbody>\n</table>\n</div>"
     },
     "metadata": {},
     "execution_count": 17
    }
   ],
   "source": [
    "train_df[train_df[\"FTR\"].isnull()]"
   ]
  },
  {
   "source": [
    "We can see we can reduce the null values in multiple columns by dropping these rows."
   ],
   "cell_type": "markdown",
   "metadata": {}
  },
  {
   "cell_type": "code",
   "execution_count": 18,
   "metadata": {},
   "outputs": [
    {
     "output_type": "stream",
     "name": "stdout",
     "text": [
      "0.0547% have no values under FTR column\n"
     ]
    }
   ],
   "source": [
    "print(f\"{round((train_df.isnull().sum()['FTR'] / len(train_df))*100, 4)}% have no values under FTR column\")"
   ]
  },
  {
   "source": [
    "Since more than 99% of the rows are retained on dropping rows with null FTR values, we can go ahead and drop such rows. "
   ],
   "cell_type": "markdown",
   "metadata": {}
  },
  {
   "source": [
    "But before we do that, "
   ],
   "cell_type": "markdown",
   "metadata": {}
  },
  {
   "cell_type": "code",
   "execution_count": 19,
   "metadata": {},
   "outputs": [
    {
     "output_type": "execute_result",
     "data": {
      "text/plain": [
       "Int64Index([7082, 9363, 11644, 11645, 11646, 12027, 12408], dtype='int64')"
      ]
     },
     "metadata": {},
     "execution_count": 19
    }
   ],
   "source": [
    "train_df.index[train_df[\"FTR\"].isnull()] # get indices of rows with NaN under FTR"
   ]
  },
  {
   "cell_type": "code",
   "execution_count": 20,
   "metadata": {},
   "outputs": [],
   "source": [
    "train_df.drop(axis=1, inplace=True, index = train_df.index[train_df[\"FTR\"].isnull()]) # drop from train_df where FTR and others are null"
   ]
  },
  {
   "cell_type": "code",
   "execution_count": 21,
   "metadata": {},
   "outputs": [
    {
     "output_type": "execute_result",
     "data": {
      "text/plain": [
       "       AC  AF  AR  AS  AST  AY       AwayTeam       Date FTR  HC  HF  HR  HS  \\\n",
       "0       3  12   0  14    4   0      Stuttgart 2009-07-08   H   6  12   0  13   \n",
       "1       1  10   0   7    0   1        FC Koln 2009-08-08   H  16   8   0  24   \n",
       "2       3  20   0  15    3   2       Hannover 2009-08-08   H   5  16   0  10   \n",
       "3      10  28   0   9    3   2  Bayern Munich 2009-08-08   D   3  10   0   9   \n",
       "4       5  28   0  13    7   2     Leverkusen 2009-08-08   D   3  22   0   8   \n",
       "...    ..  ..  ..  ..  ...  ..            ...        ...  ..  ..  ..  ..  ..   \n",
       "12784   7   1   0  17    4   1        Udinese 2017-05-28   H   6  15   0  17   \n",
       "12785   7  16   0  17    4   4         Empoli 2017-05-28   H   0  18   0  10   \n",
       "12786   2  14   0  13    4   0          Genoa 2017-05-28   H   6   8   0  24   \n",
       "12787  10   8   0  22    7   0         Napoli 2017-05-28   A   5   9   0  12   \n",
       "12788  10   6   0  21    7   0       Sassuolo 2017-05-28   H   6  16   0  16   \n",
       "\n",
       "       HST  HTAG  HTHG  HY    HomeTeam      league  \n",
       "0        7     0     0   0   Wolfsburg  bundesliga  \n",
       "1       11     0     0   0    Dortmund  bundesliga  \n",
       "2        4     0     0   3      Hertha  bundesliga  \n",
       "3        1     1     1   0  Hoffenheim  bundesliga  \n",
       "4        4     2     1   1       Mainz  bundesliga  \n",
       "...    ...   ...   ...  ..         ...         ...  \n",
       "12784    6     0     3   2       Inter     serie-a  \n",
       "12785    5     0     0   3     Palermo     serie-a  \n",
       "12786    7     1     1   2        Roma     serie-a  \n",
       "12787    2     2     0   1   Sampdoria     serie-a  \n",
       "12788    9     2     3   2      Torino     serie-a  \n",
       "\n",
       "[12782 rows x 19 columns]"
      ],
      "text/html": "<div>\n<style scoped>\n    .dataframe tbody tr th:only-of-type {\n        vertical-align: middle;\n    }\n\n    .dataframe tbody tr th {\n        vertical-align: top;\n    }\n\n    .dataframe thead th {\n        text-align: right;\n    }\n</style>\n<table border=\"1\" class=\"dataframe\">\n  <thead>\n    <tr style=\"text-align: right;\">\n      <th></th>\n      <th>AC</th>\n      <th>AF</th>\n      <th>AR</th>\n      <th>AS</th>\n      <th>AST</th>\n      <th>AY</th>\n      <th>AwayTeam</th>\n      <th>Date</th>\n      <th>FTR</th>\n      <th>HC</th>\n      <th>HF</th>\n      <th>HR</th>\n      <th>HS</th>\n      <th>HST</th>\n      <th>HTAG</th>\n      <th>HTHG</th>\n      <th>HY</th>\n      <th>HomeTeam</th>\n      <th>league</th>\n    </tr>\n  </thead>\n  <tbody>\n    <tr>\n      <th>0</th>\n      <td>3</td>\n      <td>12</td>\n      <td>0</td>\n      <td>14</td>\n      <td>4</td>\n      <td>0</td>\n      <td>Stuttgart</td>\n      <td>2009-07-08</td>\n      <td>H</td>\n      <td>6</td>\n      <td>12</td>\n      <td>0</td>\n      <td>13</td>\n      <td>7</td>\n      <td>0</td>\n      <td>0</td>\n      <td>0</td>\n      <td>Wolfsburg</td>\n      <td>bundesliga</td>\n    </tr>\n    <tr>\n      <th>1</th>\n      <td>1</td>\n      <td>10</td>\n      <td>0</td>\n      <td>7</td>\n      <td>0</td>\n      <td>1</td>\n      <td>FC Koln</td>\n      <td>2009-08-08</td>\n      <td>H</td>\n      <td>16</td>\n      <td>8</td>\n      <td>0</td>\n      <td>24</td>\n      <td>11</td>\n      <td>0</td>\n      <td>0</td>\n      <td>0</td>\n      <td>Dortmund</td>\n      <td>bundesliga</td>\n    </tr>\n    <tr>\n      <th>2</th>\n      <td>3</td>\n      <td>20</td>\n      <td>0</td>\n      <td>15</td>\n      <td>3</td>\n      <td>2</td>\n      <td>Hannover</td>\n      <td>2009-08-08</td>\n      <td>H</td>\n      <td>5</td>\n      <td>16</td>\n      <td>0</td>\n      <td>10</td>\n      <td>4</td>\n      <td>0</td>\n      <td>0</td>\n      <td>3</td>\n      <td>Hertha</td>\n      <td>bundesliga</td>\n    </tr>\n    <tr>\n      <th>3</th>\n      <td>10</td>\n      <td>28</td>\n      <td>0</td>\n      <td>9</td>\n      <td>3</td>\n      <td>2</td>\n      <td>Bayern Munich</td>\n      <td>2009-08-08</td>\n      <td>D</td>\n      <td>3</td>\n      <td>10</td>\n      <td>0</td>\n      <td>9</td>\n      <td>1</td>\n      <td>1</td>\n      <td>1</td>\n      <td>0</td>\n      <td>Hoffenheim</td>\n      <td>bundesliga</td>\n    </tr>\n    <tr>\n      <th>4</th>\n      <td>5</td>\n      <td>28</td>\n      <td>0</td>\n      <td>13</td>\n      <td>7</td>\n      <td>2</td>\n      <td>Leverkusen</td>\n      <td>2009-08-08</td>\n      <td>D</td>\n      <td>3</td>\n      <td>22</td>\n      <td>0</td>\n      <td>8</td>\n      <td>4</td>\n      <td>2</td>\n      <td>1</td>\n      <td>1</td>\n      <td>Mainz</td>\n      <td>bundesliga</td>\n    </tr>\n    <tr>\n      <th>...</th>\n      <td>...</td>\n      <td>...</td>\n      <td>...</td>\n      <td>...</td>\n      <td>...</td>\n      <td>...</td>\n      <td>...</td>\n      <td>...</td>\n      <td>...</td>\n      <td>...</td>\n      <td>...</td>\n      <td>...</td>\n      <td>...</td>\n      <td>...</td>\n      <td>...</td>\n      <td>...</td>\n      <td>...</td>\n      <td>...</td>\n      <td>...</td>\n    </tr>\n    <tr>\n      <th>12784</th>\n      <td>7</td>\n      <td>1</td>\n      <td>0</td>\n      <td>17</td>\n      <td>4</td>\n      <td>1</td>\n      <td>Udinese</td>\n      <td>2017-05-28</td>\n      <td>H</td>\n      <td>6</td>\n      <td>15</td>\n      <td>0</td>\n      <td>17</td>\n      <td>6</td>\n      <td>0</td>\n      <td>3</td>\n      <td>2</td>\n      <td>Inter</td>\n      <td>serie-a</td>\n    </tr>\n    <tr>\n      <th>12785</th>\n      <td>7</td>\n      <td>16</td>\n      <td>0</td>\n      <td>17</td>\n      <td>4</td>\n      <td>4</td>\n      <td>Empoli</td>\n      <td>2017-05-28</td>\n      <td>H</td>\n      <td>0</td>\n      <td>18</td>\n      <td>0</td>\n      <td>10</td>\n      <td>5</td>\n      <td>0</td>\n      <td>0</td>\n      <td>3</td>\n      <td>Palermo</td>\n      <td>serie-a</td>\n    </tr>\n    <tr>\n      <th>12786</th>\n      <td>2</td>\n      <td>14</td>\n      <td>0</td>\n      <td>13</td>\n      <td>4</td>\n      <td>0</td>\n      <td>Genoa</td>\n      <td>2017-05-28</td>\n      <td>H</td>\n      <td>6</td>\n      <td>8</td>\n      <td>0</td>\n      <td>24</td>\n      <td>7</td>\n      <td>1</td>\n      <td>1</td>\n      <td>2</td>\n      <td>Roma</td>\n      <td>serie-a</td>\n    </tr>\n    <tr>\n      <th>12787</th>\n      <td>10</td>\n      <td>8</td>\n      <td>0</td>\n      <td>22</td>\n      <td>7</td>\n      <td>0</td>\n      <td>Napoli</td>\n      <td>2017-05-28</td>\n      <td>A</td>\n      <td>5</td>\n      <td>9</td>\n      <td>0</td>\n      <td>12</td>\n      <td>2</td>\n      <td>2</td>\n      <td>0</td>\n      <td>1</td>\n      <td>Sampdoria</td>\n      <td>serie-a</td>\n    </tr>\n    <tr>\n      <th>12788</th>\n      <td>10</td>\n      <td>6</td>\n      <td>0</td>\n      <td>21</td>\n      <td>7</td>\n      <td>0</td>\n      <td>Sassuolo</td>\n      <td>2017-05-28</td>\n      <td>H</td>\n      <td>6</td>\n      <td>16</td>\n      <td>0</td>\n      <td>16</td>\n      <td>9</td>\n      <td>2</td>\n      <td>3</td>\n      <td>2</td>\n      <td>Torino</td>\n      <td>serie-a</td>\n    </tr>\n  </tbody>\n</table>\n<p>12782 rows × 19 columns</p>\n</div>"
     },
     "metadata": {},
     "execution_count": 21
    }
   ],
   "source": [
    "train_df"
   ]
  },
  {
   "cell_type": "code",
   "execution_count": 22,
   "metadata": {},
   "outputs": [
    {
     "output_type": "execute_result",
     "data": {
      "text/plain": [
       "AC          2\n",
       "AF          4\n",
       "AR          2\n",
       "AS          2\n",
       "AST         2\n",
       "AY          2\n",
       "AwayTeam    0\n",
       "Date        0\n",
       "FTR         0\n",
       "HC          2\n",
       "HF          4\n",
       "HR          2\n",
       "HS          2\n",
       "HST         2\n",
       "HTAG        3\n",
       "HTHG        3\n",
       "HY          3\n",
       "HomeTeam    0\n",
       "league      0\n",
       "dtype: int64"
      ]
     },
     "metadata": {},
     "execution_count": 22
    }
   ],
   "source": [
    "# next, we check for null values in train_df again.\n",
    "\n",
    "train_df.isnull().sum()"
   ]
  },
  {
   "source": [
    "Let us examine the first column with null values."
   ],
   "cell_type": "markdown",
   "metadata": {}
  },
  {
   "cell_type": "code",
   "execution_count": 23,
   "metadata": {},
   "outputs": [
    {
     "output_type": "execute_result",
     "data": {
      "text/plain": [
       "         AC    AF    AR    AS   AST    AY AwayTeam       Date FTR    HC    HF  \\\n",
       "7408   <NA>  <NA>  <NA>  <NA>  <NA>  <NA>     Lyon 2017-04-16   A  <NA>  <NA>   \n",
       "11298  <NA>  <NA>  <NA>  <NA>  <NA>  <NA>     Roma 2012-09-23   A  <NA>  <NA>   \n",
       "\n",
       "         HR    HS   HST  HTAG  HTHG    HY  HomeTeam   league  \n",
       "7408   <NA>  <NA>  <NA>  <NA>  <NA>  <NA>    Bastia  ligue-1  \n",
       "11298  <NA>  <NA>  <NA>  <NA>  <NA>  <NA>  Cagliari  serie-a  "
      ],
      "text/html": "<div>\n<style scoped>\n    .dataframe tbody tr th:only-of-type {\n        vertical-align: middle;\n    }\n\n    .dataframe tbody tr th {\n        vertical-align: top;\n    }\n\n    .dataframe thead th {\n        text-align: right;\n    }\n</style>\n<table border=\"1\" class=\"dataframe\">\n  <thead>\n    <tr style=\"text-align: right;\">\n      <th></th>\n      <th>AC</th>\n      <th>AF</th>\n      <th>AR</th>\n      <th>AS</th>\n      <th>AST</th>\n      <th>AY</th>\n      <th>AwayTeam</th>\n      <th>Date</th>\n      <th>FTR</th>\n      <th>HC</th>\n      <th>HF</th>\n      <th>HR</th>\n      <th>HS</th>\n      <th>HST</th>\n      <th>HTAG</th>\n      <th>HTHG</th>\n      <th>HY</th>\n      <th>HomeTeam</th>\n      <th>league</th>\n    </tr>\n  </thead>\n  <tbody>\n    <tr>\n      <th>7408</th>\n      <td>&lt;NA&gt;</td>\n      <td>&lt;NA&gt;</td>\n      <td>&lt;NA&gt;</td>\n      <td>&lt;NA&gt;</td>\n      <td>&lt;NA&gt;</td>\n      <td>&lt;NA&gt;</td>\n      <td>Lyon</td>\n      <td>2017-04-16</td>\n      <td>A</td>\n      <td>&lt;NA&gt;</td>\n      <td>&lt;NA&gt;</td>\n      <td>&lt;NA&gt;</td>\n      <td>&lt;NA&gt;</td>\n      <td>&lt;NA&gt;</td>\n      <td>&lt;NA&gt;</td>\n      <td>&lt;NA&gt;</td>\n      <td>&lt;NA&gt;</td>\n      <td>Bastia</td>\n      <td>ligue-1</td>\n    </tr>\n    <tr>\n      <th>11298</th>\n      <td>&lt;NA&gt;</td>\n      <td>&lt;NA&gt;</td>\n      <td>&lt;NA&gt;</td>\n      <td>&lt;NA&gt;</td>\n      <td>&lt;NA&gt;</td>\n      <td>&lt;NA&gt;</td>\n      <td>Roma</td>\n      <td>2012-09-23</td>\n      <td>A</td>\n      <td>&lt;NA&gt;</td>\n      <td>&lt;NA&gt;</td>\n      <td>&lt;NA&gt;</td>\n      <td>&lt;NA&gt;</td>\n      <td>&lt;NA&gt;</td>\n      <td>&lt;NA&gt;</td>\n      <td>&lt;NA&gt;</td>\n      <td>&lt;NA&gt;</td>\n      <td>Cagliari</td>\n      <td>serie-a</td>\n    </tr>\n  </tbody>\n</table>\n</div>"
     },
     "metadata": {},
     "execution_count": 23
    }
   ],
   "source": [
    "train_df[train_df[\"AC\"].isnull()]"
   ]
  },
  {
   "source": [
    "Let's examine the other rows where these null values are. These two rows also can be dropped as they do not contribute very little information towards determining the outcome of the match except telling us that  \n",
    "\n",
    "Lyon won in Bastia vs. Lyon match in 2016-17 Ligue-1 season.  \n",
    "Roma won in Cagliari vs. Roma match in 2012-13 Serie-A season."
   ],
   "cell_type": "markdown",
   "metadata": {}
  },
  {
   "cell_type": "code",
   "execution_count": 24,
   "metadata": {},
   "outputs": [
    {
     "output_type": "stream",
     "name": "stdout",
     "text": [
      "AC indices ::  [7408, 11298]\nAF indices ::  [5620, 5733, 7408, 11298]\nAR indices ::  [7408, 11298]\nAS indices ::  [7408, 11298]\nAST indices ::  [7408, 11298]\nAY indices ::  [7408, 11298]\nAwayTeam indices ::  []\nDate indices ::  []\nFTR indices ::  []\nHC indices ::  [7408, 11298]\nHF indices ::  [5620, 5733, 7408, 11298]\nHR indices ::  [7408, 11298]\nHS indices ::  [7408, 11298]\nHST indices ::  [7408, 11298]\nHTAG indices ::  [7408, 11298, 12426]\nHTHG indices ::  [7408, 11298, 12426]\nHY indices ::  [7408, 11298, 11894]\nHomeTeam indices ::  []\nleague indices ::  []\n"
     ]
    }
   ],
   "source": [
    "# list indices of empty null under each column of train_df\n",
    "\n",
    "for colname in train_df.isnull():\n",
    "    print(colname, \"indices :: \", list(train_df.index[train_df[colname].isnull()]))"
   ]
  },
  {
   "cell_type": "code",
   "execution_count": 25,
   "metadata": {},
   "outputs": [],
   "source": [
    "# clearly 7408, 11298 occur in all relevant columns\n",
    "\n",
    "train_df.drop(axis=1, inplace=True, index = [7408, 11298])  # drop from train_df where FTR is null"
   ]
  },
  {
   "cell_type": "code",
   "execution_count": 26,
   "metadata": {},
   "outputs": [
    {
     "output_type": "execute_result",
     "data": {
      "text/plain": [
       "       AC  AF  AR  AS  AST  AY       AwayTeam       Date FTR  HC  HF  HR  HS  \\\n",
       "0       3  12   0  14    4   0      Stuttgart 2009-07-08   H   6  12   0  13   \n",
       "1       1  10   0   7    0   1        FC Koln 2009-08-08   H  16   8   0  24   \n",
       "2       3  20   0  15    3   2       Hannover 2009-08-08   H   5  16   0  10   \n",
       "3      10  28   0   9    3   2  Bayern Munich 2009-08-08   D   3  10   0   9   \n",
       "4       5  28   0  13    7   2     Leverkusen 2009-08-08   D   3  22   0   8   \n",
       "...    ..  ..  ..  ..  ...  ..            ...        ...  ..  ..  ..  ..  ..   \n",
       "12784   7   1   0  17    4   1        Udinese 2017-05-28   H   6  15   0  17   \n",
       "12785   7  16   0  17    4   4         Empoli 2017-05-28   H   0  18   0  10   \n",
       "12786   2  14   0  13    4   0          Genoa 2017-05-28   H   6   8   0  24   \n",
       "12787  10   8   0  22    7   0         Napoli 2017-05-28   A   5   9   0  12   \n",
       "12788  10   6   0  21    7   0       Sassuolo 2017-05-28   H   6  16   0  16   \n",
       "\n",
       "       HST  HTAG  HTHG  HY    HomeTeam      league  \n",
       "0        7     0     0   0   Wolfsburg  bundesliga  \n",
       "1       11     0     0   0    Dortmund  bundesliga  \n",
       "2        4     0     0   3      Hertha  bundesliga  \n",
       "3        1     1     1   0  Hoffenheim  bundesliga  \n",
       "4        4     2     1   1       Mainz  bundesliga  \n",
       "...    ...   ...   ...  ..         ...         ...  \n",
       "12784    6     0     3   2       Inter     serie-a  \n",
       "12785    5     0     0   3     Palermo     serie-a  \n",
       "12786    7     1     1   2        Roma     serie-a  \n",
       "12787    2     2     0   1   Sampdoria     serie-a  \n",
       "12788    9     2     3   2      Torino     serie-a  \n",
       "\n",
       "[12780 rows x 19 columns]"
      ],
      "text/html": "<div>\n<style scoped>\n    .dataframe tbody tr th:only-of-type {\n        vertical-align: middle;\n    }\n\n    .dataframe tbody tr th {\n        vertical-align: top;\n    }\n\n    .dataframe thead th {\n        text-align: right;\n    }\n</style>\n<table border=\"1\" class=\"dataframe\">\n  <thead>\n    <tr style=\"text-align: right;\">\n      <th></th>\n      <th>AC</th>\n      <th>AF</th>\n      <th>AR</th>\n      <th>AS</th>\n      <th>AST</th>\n      <th>AY</th>\n      <th>AwayTeam</th>\n      <th>Date</th>\n      <th>FTR</th>\n      <th>HC</th>\n      <th>HF</th>\n      <th>HR</th>\n      <th>HS</th>\n      <th>HST</th>\n      <th>HTAG</th>\n      <th>HTHG</th>\n      <th>HY</th>\n      <th>HomeTeam</th>\n      <th>league</th>\n    </tr>\n  </thead>\n  <tbody>\n    <tr>\n      <th>0</th>\n      <td>3</td>\n      <td>12</td>\n      <td>0</td>\n      <td>14</td>\n      <td>4</td>\n      <td>0</td>\n      <td>Stuttgart</td>\n      <td>2009-07-08</td>\n      <td>H</td>\n      <td>6</td>\n      <td>12</td>\n      <td>0</td>\n      <td>13</td>\n      <td>7</td>\n      <td>0</td>\n      <td>0</td>\n      <td>0</td>\n      <td>Wolfsburg</td>\n      <td>bundesliga</td>\n    </tr>\n    <tr>\n      <th>1</th>\n      <td>1</td>\n      <td>10</td>\n      <td>0</td>\n      <td>7</td>\n      <td>0</td>\n      <td>1</td>\n      <td>FC Koln</td>\n      <td>2009-08-08</td>\n      <td>H</td>\n      <td>16</td>\n      <td>8</td>\n      <td>0</td>\n      <td>24</td>\n      <td>11</td>\n      <td>0</td>\n      <td>0</td>\n      <td>0</td>\n      <td>Dortmund</td>\n      <td>bundesliga</td>\n    </tr>\n    <tr>\n      <th>2</th>\n      <td>3</td>\n      <td>20</td>\n      <td>0</td>\n      <td>15</td>\n      <td>3</td>\n      <td>2</td>\n      <td>Hannover</td>\n      <td>2009-08-08</td>\n      <td>H</td>\n      <td>5</td>\n      <td>16</td>\n      <td>0</td>\n      <td>10</td>\n      <td>4</td>\n      <td>0</td>\n      <td>0</td>\n      <td>3</td>\n      <td>Hertha</td>\n      <td>bundesliga</td>\n    </tr>\n    <tr>\n      <th>3</th>\n      <td>10</td>\n      <td>28</td>\n      <td>0</td>\n      <td>9</td>\n      <td>3</td>\n      <td>2</td>\n      <td>Bayern Munich</td>\n      <td>2009-08-08</td>\n      <td>D</td>\n      <td>3</td>\n      <td>10</td>\n      <td>0</td>\n      <td>9</td>\n      <td>1</td>\n      <td>1</td>\n      <td>1</td>\n      <td>0</td>\n      <td>Hoffenheim</td>\n      <td>bundesliga</td>\n    </tr>\n    <tr>\n      <th>4</th>\n      <td>5</td>\n      <td>28</td>\n      <td>0</td>\n      <td>13</td>\n      <td>7</td>\n      <td>2</td>\n      <td>Leverkusen</td>\n      <td>2009-08-08</td>\n      <td>D</td>\n      <td>3</td>\n      <td>22</td>\n      <td>0</td>\n      <td>8</td>\n      <td>4</td>\n      <td>2</td>\n      <td>1</td>\n      <td>1</td>\n      <td>Mainz</td>\n      <td>bundesliga</td>\n    </tr>\n    <tr>\n      <th>...</th>\n      <td>...</td>\n      <td>...</td>\n      <td>...</td>\n      <td>...</td>\n      <td>...</td>\n      <td>...</td>\n      <td>...</td>\n      <td>...</td>\n      <td>...</td>\n      <td>...</td>\n      <td>...</td>\n      <td>...</td>\n      <td>...</td>\n      <td>...</td>\n      <td>...</td>\n      <td>...</td>\n      <td>...</td>\n      <td>...</td>\n      <td>...</td>\n    </tr>\n    <tr>\n      <th>12784</th>\n      <td>7</td>\n      <td>1</td>\n      <td>0</td>\n      <td>17</td>\n      <td>4</td>\n      <td>1</td>\n      <td>Udinese</td>\n      <td>2017-05-28</td>\n      <td>H</td>\n      <td>6</td>\n      <td>15</td>\n      <td>0</td>\n      <td>17</td>\n      <td>6</td>\n      <td>0</td>\n      <td>3</td>\n      <td>2</td>\n      <td>Inter</td>\n      <td>serie-a</td>\n    </tr>\n    <tr>\n      <th>12785</th>\n      <td>7</td>\n      <td>16</td>\n      <td>0</td>\n      <td>17</td>\n      <td>4</td>\n      <td>4</td>\n      <td>Empoli</td>\n      <td>2017-05-28</td>\n      <td>H</td>\n      <td>0</td>\n      <td>18</td>\n      <td>0</td>\n      <td>10</td>\n      <td>5</td>\n      <td>0</td>\n      <td>0</td>\n      <td>3</td>\n      <td>Palermo</td>\n      <td>serie-a</td>\n    </tr>\n    <tr>\n      <th>12786</th>\n      <td>2</td>\n      <td>14</td>\n      <td>0</td>\n      <td>13</td>\n      <td>4</td>\n      <td>0</td>\n      <td>Genoa</td>\n      <td>2017-05-28</td>\n      <td>H</td>\n      <td>6</td>\n      <td>8</td>\n      <td>0</td>\n      <td>24</td>\n      <td>7</td>\n      <td>1</td>\n      <td>1</td>\n      <td>2</td>\n      <td>Roma</td>\n      <td>serie-a</td>\n    </tr>\n    <tr>\n      <th>12787</th>\n      <td>10</td>\n      <td>8</td>\n      <td>0</td>\n      <td>22</td>\n      <td>7</td>\n      <td>0</td>\n      <td>Napoli</td>\n      <td>2017-05-28</td>\n      <td>A</td>\n      <td>5</td>\n      <td>9</td>\n      <td>0</td>\n      <td>12</td>\n      <td>2</td>\n      <td>2</td>\n      <td>0</td>\n      <td>1</td>\n      <td>Sampdoria</td>\n      <td>serie-a</td>\n    </tr>\n    <tr>\n      <th>12788</th>\n      <td>10</td>\n      <td>6</td>\n      <td>0</td>\n      <td>21</td>\n      <td>7</td>\n      <td>0</td>\n      <td>Sassuolo</td>\n      <td>2017-05-28</td>\n      <td>H</td>\n      <td>6</td>\n      <td>16</td>\n      <td>0</td>\n      <td>16</td>\n      <td>9</td>\n      <td>2</td>\n      <td>3</td>\n      <td>2</td>\n      <td>Torino</td>\n      <td>serie-a</td>\n    </tr>\n  </tbody>\n</table>\n<p>12780 rows × 19 columns</p>\n</div>"
     },
     "metadata": {},
     "execution_count": 26
    }
   ],
   "source": [
    "train_df"
   ]
  },
  {
   "cell_type": "code",
   "execution_count": 27,
   "metadata": {},
   "outputs": [
    {
     "output_type": "execute_result",
     "data": {
      "text/plain": [
       "AC          0\n",
       "AF          2\n",
       "AR          0\n",
       "AS          0\n",
       "AST         0\n",
       "AY          0\n",
       "AwayTeam    0\n",
       "Date        0\n",
       "FTR         0\n",
       "HC          0\n",
       "HF          2\n",
       "HR          0\n",
       "HS          0\n",
       "HST         0\n",
       "HTAG        1\n",
       "HTHG        1\n",
       "HY          1\n",
       "HomeTeam    0\n",
       "league      0\n",
       "dtype: int64"
      ]
     },
     "metadata": {},
     "execution_count": 27
    }
   ],
   "source": [
    "# next, we check for null values in `train_df` again.\n",
    "\n",
    "train_df.isnull().sum()"
   ]
  },
  {
   "cell_type": "code",
   "execution_count": 28,
   "metadata": {},
   "outputs": [
    {
     "output_type": "stream",
     "name": "stdout",
     "text": [
      "AC indices ::  []\nAF indices ::  [5620, 5733]\nAR indices ::  []\nAS indices ::  []\nAST indices ::  []\nAY indices ::  []\nAwayTeam indices ::  []\nDate indices ::  []\nFTR indices ::  []\nHC indices ::  []\nHF indices ::  [5620, 5733]\nHR indices ::  []\nHS indices ::  []\nHST indices ::  []\nHTAG indices ::  [12426]\nHTHG indices ::  [12426]\nHY indices ::  [11894]\nHomeTeam indices ::  []\nleague indices ::  []\n"
     ]
    }
   ],
   "source": [
    "# list indices of empty null under each column of train_df after the above changes\n",
    "for colname in train_df.isnull():\n",
    "    print(colname, \"indices :: \", list(train_df.index[train_df[colname].isnull()]))"
   ]
  },
  {
   "cell_type": "code",
   "execution_count": 29,
   "metadata": {},
   "outputs": [
    {
     "output_type": "execute_result",
     "data": {
      "text/plain": [
       "       AC    AF  AR  AS  AST  AY   AwayTeam       Date FTR  HC    HF  HR  HS  \\\n",
       "5620    5  <NA>   0   6    3   3  Marseille 2011-09-18   H   3  <NA>   0  10   \n",
       "5733    1  <NA>   0   9    3   5      Nancy 2011-12-17   A   8  <NA>   0   9   \n",
       "11894   5    16   0  10    1   5   Juventus 2015-02-03   D   1    11   1   8   \n",
       "12426   7    21   0  15    5   2    Pescara 2016-08-28   A   2    12   0  13   \n",
       "\n",
       "       HST  HTAG  HTHG    HY  HomeTeam   league  \n",
       "5620     5     0     2     0      Lyon  ligue-1  \n",
       "5733     1     1     0     2      Caen  ligue-1  \n",
       "11894    3     0     0  <NA>      Roma  serie-a  \n",
       "12426    3  <NA>  <NA>     2  Sassuolo  serie-a  "
      ],
      "text/html": "<div>\n<style scoped>\n    .dataframe tbody tr th:only-of-type {\n        vertical-align: middle;\n    }\n\n    .dataframe tbody tr th {\n        vertical-align: top;\n    }\n\n    .dataframe thead th {\n        text-align: right;\n    }\n</style>\n<table border=\"1\" class=\"dataframe\">\n  <thead>\n    <tr style=\"text-align: right;\">\n      <th></th>\n      <th>AC</th>\n      <th>AF</th>\n      <th>AR</th>\n      <th>AS</th>\n      <th>AST</th>\n      <th>AY</th>\n      <th>AwayTeam</th>\n      <th>Date</th>\n      <th>FTR</th>\n      <th>HC</th>\n      <th>HF</th>\n      <th>HR</th>\n      <th>HS</th>\n      <th>HST</th>\n      <th>HTAG</th>\n      <th>HTHG</th>\n      <th>HY</th>\n      <th>HomeTeam</th>\n      <th>league</th>\n    </tr>\n  </thead>\n  <tbody>\n    <tr>\n      <th>5620</th>\n      <td>5</td>\n      <td>&lt;NA&gt;</td>\n      <td>0</td>\n      <td>6</td>\n      <td>3</td>\n      <td>3</td>\n      <td>Marseille</td>\n      <td>2011-09-18</td>\n      <td>H</td>\n      <td>3</td>\n      <td>&lt;NA&gt;</td>\n      <td>0</td>\n      <td>10</td>\n      <td>5</td>\n      <td>0</td>\n      <td>2</td>\n      <td>0</td>\n      <td>Lyon</td>\n      <td>ligue-1</td>\n    </tr>\n    <tr>\n      <th>5733</th>\n      <td>1</td>\n      <td>&lt;NA&gt;</td>\n      <td>0</td>\n      <td>9</td>\n      <td>3</td>\n      <td>5</td>\n      <td>Nancy</td>\n      <td>2011-12-17</td>\n      <td>A</td>\n      <td>8</td>\n      <td>&lt;NA&gt;</td>\n      <td>0</td>\n      <td>9</td>\n      <td>1</td>\n      <td>1</td>\n      <td>0</td>\n      <td>2</td>\n      <td>Caen</td>\n      <td>ligue-1</td>\n    </tr>\n    <tr>\n      <th>11894</th>\n      <td>5</td>\n      <td>16</td>\n      <td>0</td>\n      <td>10</td>\n      <td>1</td>\n      <td>5</td>\n      <td>Juventus</td>\n      <td>2015-02-03</td>\n      <td>D</td>\n      <td>1</td>\n      <td>11</td>\n      <td>1</td>\n      <td>8</td>\n      <td>3</td>\n      <td>0</td>\n      <td>0</td>\n      <td>&lt;NA&gt;</td>\n      <td>Roma</td>\n      <td>serie-a</td>\n    </tr>\n    <tr>\n      <th>12426</th>\n      <td>7</td>\n      <td>21</td>\n      <td>0</td>\n      <td>15</td>\n      <td>5</td>\n      <td>2</td>\n      <td>Pescara</td>\n      <td>2016-08-28</td>\n      <td>A</td>\n      <td>2</td>\n      <td>12</td>\n      <td>0</td>\n      <td>13</td>\n      <td>3</td>\n      <td>&lt;NA&gt;</td>\n      <td>&lt;NA&gt;</td>\n      <td>2</td>\n      <td>Sassuolo</td>\n      <td>serie-a</td>\n    </tr>\n  </tbody>\n</table>\n</div>"
     },
     "metadata": {},
     "execution_count": 29
    }
   ],
   "source": [
    "train_df[train_df.isnull().any(axis=1)] # we should see the same indices as above"
   ]
  },
  {
   "source": [
    "We will be imputing these null values making use of the current season information (since teams go thru different forms in different seasons), team that is playing (stronger teams have more corners, shots, shots on target) etc."
   ],
   "cell_type": "markdown",
   "metadata": {}
  },
  {
   "cell_type": "code",
   "execution_count": 30,
   "metadata": {},
   "outputs": [
    {
     "output_type": "execute_result",
     "data": {
      "text/plain": [
       "       AC  AF  AR  AS  AST  AY       AwayTeam       Date FTR  HC  HF  HR  HS  \\\n",
       "0       3  12   0  14    4   0      Stuttgart 2009-07-08   H   6  12   0  13   \n",
       "1       1  10   0   7    0   1        FC Koln 2009-08-08   H  16   8   0  24   \n",
       "2       3  20   0  15    3   2       Hannover 2009-08-08   H   5  16   0  10   \n",
       "3      10  28   0   9    3   2  Bayern Munich 2009-08-08   D   3  10   0   9   \n",
       "4       5  28   0  13    7   2     Leverkusen 2009-08-08   D   3  22   0   8   \n",
       "...    ..  ..  ..  ..  ...  ..            ...        ...  ..  ..  ..  ..  ..   \n",
       "12784   7   1   0  17    4   1        Udinese 2017-05-28   H   6  15   0  17   \n",
       "12785   7  16   0  17    4   4         Empoli 2017-05-28   H   0  18   0  10   \n",
       "12786   2  14   0  13    4   0          Genoa 2017-05-28   H   6   8   0  24   \n",
       "12787  10   8   0  22    7   0         Napoli 2017-05-28   A   5   9   0  12   \n",
       "12788  10   6   0  21    7   0       Sassuolo 2017-05-28   H   6  16   0  16   \n",
       "\n",
       "       HST  HTAG  HTHG  HY    HomeTeam      league  \n",
       "0        7     0     0   0   Wolfsburg  bundesliga  \n",
       "1       11     0     0   0    Dortmund  bundesliga  \n",
       "2        4     0     0   3      Hertha  bundesliga  \n",
       "3        1     1     1   0  Hoffenheim  bundesliga  \n",
       "4        4     2     1   1       Mainz  bundesliga  \n",
       "...    ...   ...   ...  ..         ...         ...  \n",
       "12784    6     0     3   2       Inter     serie-a  \n",
       "12785    5     0     0   3     Palermo     serie-a  \n",
       "12786    7     1     1   2        Roma     serie-a  \n",
       "12787    2     2     0   1   Sampdoria     serie-a  \n",
       "12788    9     2     3   2      Torino     serie-a  \n",
       "\n",
       "[12780 rows x 19 columns]"
      ],
      "text/html": "<div>\n<style scoped>\n    .dataframe tbody tr th:only-of-type {\n        vertical-align: middle;\n    }\n\n    .dataframe tbody tr th {\n        vertical-align: top;\n    }\n\n    .dataframe thead th {\n        text-align: right;\n    }\n</style>\n<table border=\"1\" class=\"dataframe\">\n  <thead>\n    <tr style=\"text-align: right;\">\n      <th></th>\n      <th>AC</th>\n      <th>AF</th>\n      <th>AR</th>\n      <th>AS</th>\n      <th>AST</th>\n      <th>AY</th>\n      <th>AwayTeam</th>\n      <th>Date</th>\n      <th>FTR</th>\n      <th>HC</th>\n      <th>HF</th>\n      <th>HR</th>\n      <th>HS</th>\n      <th>HST</th>\n      <th>HTAG</th>\n      <th>HTHG</th>\n      <th>HY</th>\n      <th>HomeTeam</th>\n      <th>league</th>\n    </tr>\n  </thead>\n  <tbody>\n    <tr>\n      <th>0</th>\n      <td>3</td>\n      <td>12</td>\n      <td>0</td>\n      <td>14</td>\n      <td>4</td>\n      <td>0</td>\n      <td>Stuttgart</td>\n      <td>2009-07-08</td>\n      <td>H</td>\n      <td>6</td>\n      <td>12</td>\n      <td>0</td>\n      <td>13</td>\n      <td>7</td>\n      <td>0</td>\n      <td>0</td>\n      <td>0</td>\n      <td>Wolfsburg</td>\n      <td>bundesliga</td>\n    </tr>\n    <tr>\n      <th>1</th>\n      <td>1</td>\n      <td>10</td>\n      <td>0</td>\n      <td>7</td>\n      <td>0</td>\n      <td>1</td>\n      <td>FC Koln</td>\n      <td>2009-08-08</td>\n      <td>H</td>\n      <td>16</td>\n      <td>8</td>\n      <td>0</td>\n      <td>24</td>\n      <td>11</td>\n      <td>0</td>\n      <td>0</td>\n      <td>0</td>\n      <td>Dortmund</td>\n      <td>bundesliga</td>\n    </tr>\n    <tr>\n      <th>2</th>\n      <td>3</td>\n      <td>20</td>\n      <td>0</td>\n      <td>15</td>\n      <td>3</td>\n      <td>2</td>\n      <td>Hannover</td>\n      <td>2009-08-08</td>\n      <td>H</td>\n      <td>5</td>\n      <td>16</td>\n      <td>0</td>\n      <td>10</td>\n      <td>4</td>\n      <td>0</td>\n      <td>0</td>\n      <td>3</td>\n      <td>Hertha</td>\n      <td>bundesliga</td>\n    </tr>\n    <tr>\n      <th>3</th>\n      <td>10</td>\n      <td>28</td>\n      <td>0</td>\n      <td>9</td>\n      <td>3</td>\n      <td>2</td>\n      <td>Bayern Munich</td>\n      <td>2009-08-08</td>\n      <td>D</td>\n      <td>3</td>\n      <td>10</td>\n      <td>0</td>\n      <td>9</td>\n      <td>1</td>\n      <td>1</td>\n      <td>1</td>\n      <td>0</td>\n      <td>Hoffenheim</td>\n      <td>bundesliga</td>\n    </tr>\n    <tr>\n      <th>4</th>\n      <td>5</td>\n      <td>28</td>\n      <td>0</td>\n      <td>13</td>\n      <td>7</td>\n      <td>2</td>\n      <td>Leverkusen</td>\n      <td>2009-08-08</td>\n      <td>D</td>\n      <td>3</td>\n      <td>22</td>\n      <td>0</td>\n      <td>8</td>\n      <td>4</td>\n      <td>2</td>\n      <td>1</td>\n      <td>1</td>\n      <td>Mainz</td>\n      <td>bundesliga</td>\n    </tr>\n    <tr>\n      <th>...</th>\n      <td>...</td>\n      <td>...</td>\n      <td>...</td>\n      <td>...</td>\n      <td>...</td>\n      <td>...</td>\n      <td>...</td>\n      <td>...</td>\n      <td>...</td>\n      <td>...</td>\n      <td>...</td>\n      <td>...</td>\n      <td>...</td>\n      <td>...</td>\n      <td>...</td>\n      <td>...</td>\n      <td>...</td>\n      <td>...</td>\n      <td>...</td>\n    </tr>\n    <tr>\n      <th>12784</th>\n      <td>7</td>\n      <td>1</td>\n      <td>0</td>\n      <td>17</td>\n      <td>4</td>\n      <td>1</td>\n      <td>Udinese</td>\n      <td>2017-05-28</td>\n      <td>H</td>\n      <td>6</td>\n      <td>15</td>\n      <td>0</td>\n      <td>17</td>\n      <td>6</td>\n      <td>0</td>\n      <td>3</td>\n      <td>2</td>\n      <td>Inter</td>\n      <td>serie-a</td>\n    </tr>\n    <tr>\n      <th>12785</th>\n      <td>7</td>\n      <td>16</td>\n      <td>0</td>\n      <td>17</td>\n      <td>4</td>\n      <td>4</td>\n      <td>Empoli</td>\n      <td>2017-05-28</td>\n      <td>H</td>\n      <td>0</td>\n      <td>18</td>\n      <td>0</td>\n      <td>10</td>\n      <td>5</td>\n      <td>0</td>\n      <td>0</td>\n      <td>3</td>\n      <td>Palermo</td>\n      <td>serie-a</td>\n    </tr>\n    <tr>\n      <th>12786</th>\n      <td>2</td>\n      <td>14</td>\n      <td>0</td>\n      <td>13</td>\n      <td>4</td>\n      <td>0</td>\n      <td>Genoa</td>\n      <td>2017-05-28</td>\n      <td>H</td>\n      <td>6</td>\n      <td>8</td>\n      <td>0</td>\n      <td>24</td>\n      <td>7</td>\n      <td>1</td>\n      <td>1</td>\n      <td>2</td>\n      <td>Roma</td>\n      <td>serie-a</td>\n    </tr>\n    <tr>\n      <th>12787</th>\n      <td>10</td>\n      <td>8</td>\n      <td>0</td>\n      <td>22</td>\n      <td>7</td>\n      <td>0</td>\n      <td>Napoli</td>\n      <td>2017-05-28</td>\n      <td>A</td>\n      <td>5</td>\n      <td>9</td>\n      <td>0</td>\n      <td>12</td>\n      <td>2</td>\n      <td>2</td>\n      <td>0</td>\n      <td>1</td>\n      <td>Sampdoria</td>\n      <td>serie-a</td>\n    </tr>\n    <tr>\n      <th>12788</th>\n      <td>10</td>\n      <td>6</td>\n      <td>0</td>\n      <td>21</td>\n      <td>7</td>\n      <td>0</td>\n      <td>Sassuolo</td>\n      <td>2017-05-28</td>\n      <td>H</td>\n      <td>6</td>\n      <td>16</td>\n      <td>0</td>\n      <td>16</td>\n      <td>9</td>\n      <td>2</td>\n      <td>3</td>\n      <td>2</td>\n      <td>Torino</td>\n      <td>serie-a</td>\n    </tr>\n  </tbody>\n</table>\n<p>12780 rows × 19 columns</p>\n</div>"
     },
     "metadata": {},
     "execution_count": 30
    }
   ],
   "source": [
    "train_df"
   ]
  },
  {
   "cell_type": "code",
   "execution_count": 31,
   "metadata": {},
   "outputs": [
    {
     "output_type": "execute_result",
     "data": {
      "text/plain": [
       "Index(['AC', 'AF', 'AR', 'AS', 'AST', 'AY', 'AwayTeam', 'Date', 'FTR', 'HC',\n",
       "       'HF', 'HR', 'HS', 'HST', 'HTAG', 'HTHG', 'HY', 'HomeTeam', 'league'],\n",
       "      dtype='object')"
      ]
     },
     "metadata": {},
     "execution_count": 31
    }
   ],
   "source": [
    "train_df.columns"
   ]
  },
  {
   "cell_type": "code",
   "execution_count": 32,
   "metadata": {},
   "outputs": [],
   "source": [
    "# reorder columns as needed\n",
    "\n",
    "train_df = train_df[['Date', 'league', 'HomeTeam', 'AwayTeam', 'AC', 'AF', 'AR', 'AS', 'AST', 'AY', 'HC', 'HF', 'HR', 'HS', 'HST', 'HTAG', 'HTHG', 'HY', 'FTR']]"
   ]
  },
  {
   "cell_type": "code",
   "execution_count": 33,
   "metadata": {},
   "outputs": [
    {
     "output_type": "execute_result",
     "data": {
      "text/plain": [
       "            Date      league    HomeTeam       AwayTeam  AC  AF  AR  AS  AST  \\\n",
       "0     2009-07-08  bundesliga   Wolfsburg      Stuttgart   3  12   0  14    4   \n",
       "1     2009-08-08  bundesliga    Dortmund        FC Koln   1  10   0   7    0   \n",
       "2     2009-08-08  bundesliga      Hertha       Hannover   3  20   0  15    3   \n",
       "3     2009-08-08  bundesliga  Hoffenheim  Bayern Munich  10  28   0   9    3   \n",
       "4     2009-08-08  bundesliga       Mainz     Leverkusen   5  28   0  13    7   \n",
       "...          ...         ...         ...            ...  ..  ..  ..  ..  ...   \n",
       "12784 2017-05-28     serie-a       Inter        Udinese   7   1   0  17    4   \n",
       "12785 2017-05-28     serie-a     Palermo         Empoli   7  16   0  17    4   \n",
       "12786 2017-05-28     serie-a        Roma          Genoa   2  14   0  13    4   \n",
       "12787 2017-05-28     serie-a   Sampdoria         Napoli  10   8   0  22    7   \n",
       "12788 2017-05-28     serie-a      Torino       Sassuolo  10   6   0  21    7   \n",
       "\n",
       "       AY  HC  HF  HR  HS  HST  HTAG  HTHG  HY FTR  \n",
       "0       0   6  12   0  13    7     0     0   0   H  \n",
       "1       1  16   8   0  24   11     0     0   0   H  \n",
       "2       2   5  16   0  10    4     0     0   3   H  \n",
       "3       2   3  10   0   9    1     1     1   0   D  \n",
       "4       2   3  22   0   8    4     2     1   1   D  \n",
       "...    ..  ..  ..  ..  ..  ...   ...   ...  ..  ..  \n",
       "12784   1   6  15   0  17    6     0     3   2   H  \n",
       "12785   4   0  18   0  10    5     0     0   3   H  \n",
       "12786   0   6   8   0  24    7     1     1   2   H  \n",
       "12787   0   5   9   0  12    2     2     0   1   A  \n",
       "12788   0   6  16   0  16    9     2     3   2   H  \n",
       "\n",
       "[12780 rows x 19 columns]"
      ],
      "text/html": "<div>\n<style scoped>\n    .dataframe tbody tr th:only-of-type {\n        vertical-align: middle;\n    }\n\n    .dataframe tbody tr th {\n        vertical-align: top;\n    }\n\n    .dataframe thead th {\n        text-align: right;\n    }\n</style>\n<table border=\"1\" class=\"dataframe\">\n  <thead>\n    <tr style=\"text-align: right;\">\n      <th></th>\n      <th>Date</th>\n      <th>league</th>\n      <th>HomeTeam</th>\n      <th>AwayTeam</th>\n      <th>AC</th>\n      <th>AF</th>\n      <th>AR</th>\n      <th>AS</th>\n      <th>AST</th>\n      <th>AY</th>\n      <th>HC</th>\n      <th>HF</th>\n      <th>HR</th>\n      <th>HS</th>\n      <th>HST</th>\n      <th>HTAG</th>\n      <th>HTHG</th>\n      <th>HY</th>\n      <th>FTR</th>\n    </tr>\n  </thead>\n  <tbody>\n    <tr>\n      <th>0</th>\n      <td>2009-07-08</td>\n      <td>bundesliga</td>\n      <td>Wolfsburg</td>\n      <td>Stuttgart</td>\n      <td>3</td>\n      <td>12</td>\n      <td>0</td>\n      <td>14</td>\n      <td>4</td>\n      <td>0</td>\n      <td>6</td>\n      <td>12</td>\n      <td>0</td>\n      <td>13</td>\n      <td>7</td>\n      <td>0</td>\n      <td>0</td>\n      <td>0</td>\n      <td>H</td>\n    </tr>\n    <tr>\n      <th>1</th>\n      <td>2009-08-08</td>\n      <td>bundesliga</td>\n      <td>Dortmund</td>\n      <td>FC Koln</td>\n      <td>1</td>\n      <td>10</td>\n      <td>0</td>\n      <td>7</td>\n      <td>0</td>\n      <td>1</td>\n      <td>16</td>\n      <td>8</td>\n      <td>0</td>\n      <td>24</td>\n      <td>11</td>\n      <td>0</td>\n      <td>0</td>\n      <td>0</td>\n      <td>H</td>\n    </tr>\n    <tr>\n      <th>2</th>\n      <td>2009-08-08</td>\n      <td>bundesliga</td>\n      <td>Hertha</td>\n      <td>Hannover</td>\n      <td>3</td>\n      <td>20</td>\n      <td>0</td>\n      <td>15</td>\n      <td>3</td>\n      <td>2</td>\n      <td>5</td>\n      <td>16</td>\n      <td>0</td>\n      <td>10</td>\n      <td>4</td>\n      <td>0</td>\n      <td>0</td>\n      <td>3</td>\n      <td>H</td>\n    </tr>\n    <tr>\n      <th>3</th>\n      <td>2009-08-08</td>\n      <td>bundesliga</td>\n      <td>Hoffenheim</td>\n      <td>Bayern Munich</td>\n      <td>10</td>\n      <td>28</td>\n      <td>0</td>\n      <td>9</td>\n      <td>3</td>\n      <td>2</td>\n      <td>3</td>\n      <td>10</td>\n      <td>0</td>\n      <td>9</td>\n      <td>1</td>\n      <td>1</td>\n      <td>1</td>\n      <td>0</td>\n      <td>D</td>\n    </tr>\n    <tr>\n      <th>4</th>\n      <td>2009-08-08</td>\n      <td>bundesliga</td>\n      <td>Mainz</td>\n      <td>Leverkusen</td>\n      <td>5</td>\n      <td>28</td>\n      <td>0</td>\n      <td>13</td>\n      <td>7</td>\n      <td>2</td>\n      <td>3</td>\n      <td>22</td>\n      <td>0</td>\n      <td>8</td>\n      <td>4</td>\n      <td>2</td>\n      <td>1</td>\n      <td>1</td>\n      <td>D</td>\n    </tr>\n    <tr>\n      <th>...</th>\n      <td>...</td>\n      <td>...</td>\n      <td>...</td>\n      <td>...</td>\n      <td>...</td>\n      <td>...</td>\n      <td>...</td>\n      <td>...</td>\n      <td>...</td>\n      <td>...</td>\n      <td>...</td>\n      <td>...</td>\n      <td>...</td>\n      <td>...</td>\n      <td>...</td>\n      <td>...</td>\n      <td>...</td>\n      <td>...</td>\n      <td>...</td>\n    </tr>\n    <tr>\n      <th>12784</th>\n      <td>2017-05-28</td>\n      <td>serie-a</td>\n      <td>Inter</td>\n      <td>Udinese</td>\n      <td>7</td>\n      <td>1</td>\n      <td>0</td>\n      <td>17</td>\n      <td>4</td>\n      <td>1</td>\n      <td>6</td>\n      <td>15</td>\n      <td>0</td>\n      <td>17</td>\n      <td>6</td>\n      <td>0</td>\n      <td>3</td>\n      <td>2</td>\n      <td>H</td>\n    </tr>\n    <tr>\n      <th>12785</th>\n      <td>2017-05-28</td>\n      <td>serie-a</td>\n      <td>Palermo</td>\n      <td>Empoli</td>\n      <td>7</td>\n      <td>16</td>\n      <td>0</td>\n      <td>17</td>\n      <td>4</td>\n      <td>4</td>\n      <td>0</td>\n      <td>18</td>\n      <td>0</td>\n      <td>10</td>\n      <td>5</td>\n      <td>0</td>\n      <td>0</td>\n      <td>3</td>\n      <td>H</td>\n    </tr>\n    <tr>\n      <th>12786</th>\n      <td>2017-05-28</td>\n      <td>serie-a</td>\n      <td>Roma</td>\n      <td>Genoa</td>\n      <td>2</td>\n      <td>14</td>\n      <td>0</td>\n      <td>13</td>\n      <td>4</td>\n      <td>0</td>\n      <td>6</td>\n      <td>8</td>\n      <td>0</td>\n      <td>24</td>\n      <td>7</td>\n      <td>1</td>\n      <td>1</td>\n      <td>2</td>\n      <td>H</td>\n    </tr>\n    <tr>\n      <th>12787</th>\n      <td>2017-05-28</td>\n      <td>serie-a</td>\n      <td>Sampdoria</td>\n      <td>Napoli</td>\n      <td>10</td>\n      <td>8</td>\n      <td>0</td>\n      <td>22</td>\n      <td>7</td>\n      <td>0</td>\n      <td>5</td>\n      <td>9</td>\n      <td>0</td>\n      <td>12</td>\n      <td>2</td>\n      <td>2</td>\n      <td>0</td>\n      <td>1</td>\n      <td>A</td>\n    </tr>\n    <tr>\n      <th>12788</th>\n      <td>2017-05-28</td>\n      <td>serie-a</td>\n      <td>Torino</td>\n      <td>Sassuolo</td>\n      <td>10</td>\n      <td>6</td>\n      <td>0</td>\n      <td>21</td>\n      <td>7</td>\n      <td>0</td>\n      <td>6</td>\n      <td>16</td>\n      <td>0</td>\n      <td>16</td>\n      <td>9</td>\n      <td>2</td>\n      <td>3</td>\n      <td>2</td>\n      <td>H</td>\n    </tr>\n  </tbody>\n</table>\n<p>12780 rows × 19 columns</p>\n</div>"
     },
     "metadata": {},
     "execution_count": 33
    }
   ],
   "source": [
    "train_df"
   ]
  },
  {
   "source": [
    "Next, let's look at the test_df"
   ],
   "cell_type": "markdown",
   "metadata": {}
  },
  {
   "cell_type": "code",
   "execution_count": 34,
   "metadata": {},
   "outputs": [
    {
     "output_type": "execute_result",
     "data": {
      "text/plain": [
       "       AC  AF  AR  AS  AST  AY       AwayTeam       Date  HC  HF  HR  HS  HST  \\\n",
       "index                                                                           \n",
       "0       5  17   0  19    4   2     Leverkusen 2017-08-18   4  13   0  13    8   \n",
       "1       7  16   0  13    1   3       Augsburg 2017-08-19   3  18   0  11    5   \n",
       "2       1  12   0   9    2   1      Stuttgart 2017-08-19   5  18   0  10    3   \n",
       "3       4  15   0  11    2   3  Werder Bremen 2017-08-19   6  17   0  14    3   \n",
       "4       1  14   0   6    2   5       Hannover 2017-08-19  13  18   0  14    6   \n",
       "...    ..  ..  ..  ..  ...  ..            ...        ...  ..  ..  ..  ..  ...   \n",
       "375     1   5   1   9    3   1     Fiorentina 2018-05-20   6  10   0  18   11   \n",
       "376     9   9   0   9    4   0        Crotone 2018-05-20   6   3   0  19    9   \n",
       "377     9   8   0  15    6   1           Roma 2018-05-20   5  14   0  16    3   \n",
       "378     3  11   0   9    3   4      Sampdoria 2018-05-20   5  10   0  16    6   \n",
       "379     2  11   0   8    5   2        Bologna 2018-05-20  10   9   0  20    5   \n",
       "\n",
       "       HTAG  HTHG  HY       HomeTeam Referee      league  \n",
       "index                                                     \n",
       "0         0     2   1  Bayern Munich     NaN  bundesliga  \n",
       "1         0     1   4        Hamburg     NaN  bundesliga  \n",
       "2         0     0   2         Hertha     NaN  bundesliga  \n",
       "3         0     0   1     Hoffenheim     NaN  bundesliga  \n",
       "4         0     0   3          Mainz     NaN  bundesliga  \n",
       "...     ...   ...  ..            ...     ...         ...  \n",
       "375       1     2   2          Milan     NaN     serie-a  \n",
       "376       0     2   0         Napoli     NaN     serie-a  \n",
       "377       1     0   1       Sassuolo     NaN     serie-a  \n",
       "378       0     1   1           Spal     NaN     serie-a  \n",
       "379       0     1   0        Udinese     NaN     serie-a  \n",
       "\n",
       "[1826 rows x 19 columns]"
      ],
      "text/html": "<div>\n<style scoped>\n    .dataframe tbody tr th:only-of-type {\n        vertical-align: middle;\n    }\n\n    .dataframe tbody tr th {\n        vertical-align: top;\n    }\n\n    .dataframe thead th {\n        text-align: right;\n    }\n</style>\n<table border=\"1\" class=\"dataframe\">\n  <thead>\n    <tr style=\"text-align: right;\">\n      <th></th>\n      <th>AC</th>\n      <th>AF</th>\n      <th>AR</th>\n      <th>AS</th>\n      <th>AST</th>\n      <th>AY</th>\n      <th>AwayTeam</th>\n      <th>Date</th>\n      <th>HC</th>\n      <th>HF</th>\n      <th>HR</th>\n      <th>HS</th>\n      <th>HST</th>\n      <th>HTAG</th>\n      <th>HTHG</th>\n      <th>HY</th>\n      <th>HomeTeam</th>\n      <th>Referee</th>\n      <th>league</th>\n    </tr>\n    <tr>\n      <th>index</th>\n      <th></th>\n      <th></th>\n      <th></th>\n      <th></th>\n      <th></th>\n      <th></th>\n      <th></th>\n      <th></th>\n      <th></th>\n      <th></th>\n      <th></th>\n      <th></th>\n      <th></th>\n      <th></th>\n      <th></th>\n      <th></th>\n      <th></th>\n      <th></th>\n      <th></th>\n    </tr>\n  </thead>\n  <tbody>\n    <tr>\n      <th>0</th>\n      <td>5</td>\n      <td>17</td>\n      <td>0</td>\n      <td>19</td>\n      <td>4</td>\n      <td>2</td>\n      <td>Leverkusen</td>\n      <td>2017-08-18</td>\n      <td>4</td>\n      <td>13</td>\n      <td>0</td>\n      <td>13</td>\n      <td>8</td>\n      <td>0</td>\n      <td>2</td>\n      <td>1</td>\n      <td>Bayern Munich</td>\n      <td>NaN</td>\n      <td>bundesliga</td>\n    </tr>\n    <tr>\n      <th>1</th>\n      <td>7</td>\n      <td>16</td>\n      <td>0</td>\n      <td>13</td>\n      <td>1</td>\n      <td>3</td>\n      <td>Augsburg</td>\n      <td>2017-08-19</td>\n      <td>3</td>\n      <td>18</td>\n      <td>0</td>\n      <td>11</td>\n      <td>5</td>\n      <td>0</td>\n      <td>1</td>\n      <td>4</td>\n      <td>Hamburg</td>\n      <td>NaN</td>\n      <td>bundesliga</td>\n    </tr>\n    <tr>\n      <th>2</th>\n      <td>1</td>\n      <td>12</td>\n      <td>0</td>\n      <td>9</td>\n      <td>2</td>\n      <td>1</td>\n      <td>Stuttgart</td>\n      <td>2017-08-19</td>\n      <td>5</td>\n      <td>18</td>\n      <td>0</td>\n      <td>10</td>\n      <td>3</td>\n      <td>0</td>\n      <td>0</td>\n      <td>2</td>\n      <td>Hertha</td>\n      <td>NaN</td>\n      <td>bundesliga</td>\n    </tr>\n    <tr>\n      <th>3</th>\n      <td>4</td>\n      <td>15</td>\n      <td>0</td>\n      <td>11</td>\n      <td>2</td>\n      <td>3</td>\n      <td>Werder Bremen</td>\n      <td>2017-08-19</td>\n      <td>6</td>\n      <td>17</td>\n      <td>0</td>\n      <td>14</td>\n      <td>3</td>\n      <td>0</td>\n      <td>0</td>\n      <td>1</td>\n      <td>Hoffenheim</td>\n      <td>NaN</td>\n      <td>bundesliga</td>\n    </tr>\n    <tr>\n      <th>4</th>\n      <td>1</td>\n      <td>14</td>\n      <td>0</td>\n      <td>6</td>\n      <td>2</td>\n      <td>5</td>\n      <td>Hannover</td>\n      <td>2017-08-19</td>\n      <td>13</td>\n      <td>18</td>\n      <td>0</td>\n      <td>14</td>\n      <td>6</td>\n      <td>0</td>\n      <td>0</td>\n      <td>3</td>\n      <td>Mainz</td>\n      <td>NaN</td>\n      <td>bundesliga</td>\n    </tr>\n    <tr>\n      <th>...</th>\n      <td>...</td>\n      <td>...</td>\n      <td>...</td>\n      <td>...</td>\n      <td>...</td>\n      <td>...</td>\n      <td>...</td>\n      <td>...</td>\n      <td>...</td>\n      <td>...</td>\n      <td>...</td>\n      <td>...</td>\n      <td>...</td>\n      <td>...</td>\n      <td>...</td>\n      <td>...</td>\n      <td>...</td>\n      <td>...</td>\n      <td>...</td>\n    </tr>\n    <tr>\n      <th>375</th>\n      <td>1</td>\n      <td>5</td>\n      <td>1</td>\n      <td>9</td>\n      <td>3</td>\n      <td>1</td>\n      <td>Fiorentina</td>\n      <td>2018-05-20</td>\n      <td>6</td>\n      <td>10</td>\n      <td>0</td>\n      <td>18</td>\n      <td>11</td>\n      <td>1</td>\n      <td>2</td>\n      <td>2</td>\n      <td>Milan</td>\n      <td>NaN</td>\n      <td>serie-a</td>\n    </tr>\n    <tr>\n      <th>376</th>\n      <td>9</td>\n      <td>9</td>\n      <td>0</td>\n      <td>9</td>\n      <td>4</td>\n      <td>0</td>\n      <td>Crotone</td>\n      <td>2018-05-20</td>\n      <td>6</td>\n      <td>3</td>\n      <td>0</td>\n      <td>19</td>\n      <td>9</td>\n      <td>0</td>\n      <td>2</td>\n      <td>0</td>\n      <td>Napoli</td>\n      <td>NaN</td>\n      <td>serie-a</td>\n    </tr>\n    <tr>\n      <th>377</th>\n      <td>9</td>\n      <td>8</td>\n      <td>0</td>\n      <td>15</td>\n      <td>6</td>\n      <td>1</td>\n      <td>Roma</td>\n      <td>2018-05-20</td>\n      <td>5</td>\n      <td>14</td>\n      <td>0</td>\n      <td>16</td>\n      <td>3</td>\n      <td>1</td>\n      <td>0</td>\n      <td>1</td>\n      <td>Sassuolo</td>\n      <td>NaN</td>\n      <td>serie-a</td>\n    </tr>\n    <tr>\n      <th>378</th>\n      <td>3</td>\n      <td>11</td>\n      <td>0</td>\n      <td>9</td>\n      <td>3</td>\n      <td>4</td>\n      <td>Sampdoria</td>\n      <td>2018-05-20</td>\n      <td>5</td>\n      <td>10</td>\n      <td>0</td>\n      <td>16</td>\n      <td>6</td>\n      <td>0</td>\n      <td>1</td>\n      <td>1</td>\n      <td>Spal</td>\n      <td>NaN</td>\n      <td>serie-a</td>\n    </tr>\n    <tr>\n      <th>379</th>\n      <td>2</td>\n      <td>11</td>\n      <td>0</td>\n      <td>8</td>\n      <td>5</td>\n      <td>2</td>\n      <td>Bologna</td>\n      <td>2018-05-20</td>\n      <td>10</td>\n      <td>9</td>\n      <td>0</td>\n      <td>20</td>\n      <td>5</td>\n      <td>0</td>\n      <td>1</td>\n      <td>0</td>\n      <td>Udinese</td>\n      <td>NaN</td>\n      <td>serie-a</td>\n    </tr>\n  </tbody>\n</table>\n<p>1826 rows × 19 columns</p>\n</div>"
     },
     "metadata": {},
     "execution_count": 34
    }
   ],
   "source": [
    "test_df"
   ]
  },
  {
   "source": [
    "test_df.columns"
   ],
   "cell_type": "code",
   "metadata": {},
   "execution_count": 35,
   "outputs": [
    {
     "output_type": "execute_result",
     "data": {
      "text/plain": [
       "Index(['AC', 'AF', 'AR', 'AS', 'AST', 'AY', 'AwayTeam', 'Date', 'HC', 'HF',\n",
       "       'HR', 'HS', 'HST', 'HTAG', 'HTHG', 'HY', 'HomeTeam', 'Referee',\n",
       "       'league'],\n",
       "      dtype='object')"
      ]
     },
     "metadata": {},
     "execution_count": 35
    }
   ]
  },
  {
   "cell_type": "code",
   "execution_count": 36,
   "metadata": {},
   "outputs": [],
   "source": [
    "# reorder columns as needed\n",
    "\n",
    "test_df = test_df[['Date', 'league', 'HomeTeam', 'AwayTeam', 'Referee', 'AC', 'AF', 'AR', 'AS', 'AST', 'AY', 'HC', 'HF', 'HR', 'HS', 'HST', 'HTAG', 'HTHG', 'HY']]"
   ]
  },
  {
   "cell_type": "code",
   "execution_count": 37,
   "metadata": {},
   "outputs": [
    {
     "output_type": "stream",
     "name": "stdout",
     "text": [
      "<class 'pandas.core.frame.DataFrame'>\nInt64Index: 1826 entries, 0 to 379\nData columns (total 19 columns):\n #   Column    Non-Null Count  Dtype         \n---  ------    --------------  -----         \n 0   Date      1826 non-null   datetime64[ns]\n 1   league    1826 non-null   object        \n 2   HomeTeam  1826 non-null   object        \n 3   AwayTeam  1826 non-null   object        \n 4   Referee   380 non-null    object        \n 5   AC        1826 non-null   int64         \n 6   AF        1826 non-null   int64         \n 7   AR        1826 non-null   int64         \n 8   AS        1826 non-null   int64         \n 9   AST       1826 non-null   int64         \n 10  AY        1826 non-null   int64         \n 11  HC        1826 non-null   int64         \n 12  HF        1826 non-null   int64         \n 13  HR        1826 non-null   int64         \n 14  HS        1826 non-null   int64         \n 15  HST       1826 non-null   int64         \n 16  HTAG      1826 non-null   int64         \n 17  HTHG      1826 non-null   int64         \n 18  HY        1826 non-null   int64         \ndtypes: datetime64[ns](1), int64(14), object(4)\nmemory usage: 285.3+ KB\n"
     ]
    }
   ],
   "source": [
    "test_df.info()"
   ]
  },
  {
   "source": [
    "\n",
    "\n",
    "Almost no column in test_df except the \"Referee\" has null values. We can even disregard this column since he/she has no influence on the game."
   ],
   "cell_type": "markdown",
   "metadata": {}
  },
  {
   "cell_type": "code",
   "execution_count": 38,
   "metadata": {},
   "outputs": [
    {
     "output_type": "execute_result",
     "data": {
      "text/plain": [
       "            Date      league       HomeTeam       AwayTeam Referee  AC  AF  \\\n",
       "index                                                                        \n",
       "0     2017-08-18  bundesliga  Bayern Munich     Leverkusen     NaN   5  17   \n",
       "1     2017-08-19  bundesliga        Hamburg       Augsburg     NaN   7  16   \n",
       "2     2017-08-19  bundesliga         Hertha      Stuttgart     NaN   1  12   \n",
       "3     2017-08-19  bundesliga     Hoffenheim  Werder Bremen     NaN   4  15   \n",
       "4     2017-08-19  bundesliga          Mainz       Hannover     NaN   1  14   \n",
       "...          ...         ...            ...            ...     ...  ..  ..   \n",
       "375   2018-05-20     serie-a          Milan     Fiorentina     NaN   1   5   \n",
       "376   2018-05-20     serie-a         Napoli        Crotone     NaN   9   9   \n",
       "377   2018-05-20     serie-a       Sassuolo           Roma     NaN   9   8   \n",
       "378   2018-05-20     serie-a           Spal      Sampdoria     NaN   3  11   \n",
       "379   2018-05-20     serie-a        Udinese        Bologna     NaN   2  11   \n",
       "\n",
       "       AR  AS  AST  AY  HC  HF  HR  HS  HST  HTAG  HTHG  HY  \n",
       "index                                                        \n",
       "0       0  19    4   2   4  13   0  13    8     0     2   1  \n",
       "1       0  13    1   3   3  18   0  11    5     0     1   4  \n",
       "2       0   9    2   1   5  18   0  10    3     0     0   2  \n",
       "3       0  11    2   3   6  17   0  14    3     0     0   1  \n",
       "4       0   6    2   5  13  18   0  14    6     0     0   3  \n",
       "...    ..  ..  ...  ..  ..  ..  ..  ..  ...   ...   ...  ..  \n",
       "375     1   9    3   1   6  10   0  18   11     1     2   2  \n",
       "376     0   9    4   0   6   3   0  19    9     0     2   0  \n",
       "377     0  15    6   1   5  14   0  16    3     1     0   1  \n",
       "378     0   9    3   4   5  10   0  16    6     0     1   1  \n",
       "379     0   8    5   2  10   9   0  20    5     0     1   0  \n",
       "\n",
       "[1826 rows x 19 columns]"
      ],
      "text/html": "<div>\n<style scoped>\n    .dataframe tbody tr th:only-of-type {\n        vertical-align: middle;\n    }\n\n    .dataframe tbody tr th {\n        vertical-align: top;\n    }\n\n    .dataframe thead th {\n        text-align: right;\n    }\n</style>\n<table border=\"1\" class=\"dataframe\">\n  <thead>\n    <tr style=\"text-align: right;\">\n      <th></th>\n      <th>Date</th>\n      <th>league</th>\n      <th>HomeTeam</th>\n      <th>AwayTeam</th>\n      <th>Referee</th>\n      <th>AC</th>\n      <th>AF</th>\n      <th>AR</th>\n      <th>AS</th>\n      <th>AST</th>\n      <th>AY</th>\n      <th>HC</th>\n      <th>HF</th>\n      <th>HR</th>\n      <th>HS</th>\n      <th>HST</th>\n      <th>HTAG</th>\n      <th>HTHG</th>\n      <th>HY</th>\n    </tr>\n    <tr>\n      <th>index</th>\n      <th></th>\n      <th></th>\n      <th></th>\n      <th></th>\n      <th></th>\n      <th></th>\n      <th></th>\n      <th></th>\n      <th></th>\n      <th></th>\n      <th></th>\n      <th></th>\n      <th></th>\n      <th></th>\n      <th></th>\n      <th></th>\n      <th></th>\n      <th></th>\n      <th></th>\n    </tr>\n  </thead>\n  <tbody>\n    <tr>\n      <th>0</th>\n      <td>2017-08-18</td>\n      <td>bundesliga</td>\n      <td>Bayern Munich</td>\n      <td>Leverkusen</td>\n      <td>NaN</td>\n      <td>5</td>\n      <td>17</td>\n      <td>0</td>\n      <td>19</td>\n      <td>4</td>\n      <td>2</td>\n      <td>4</td>\n      <td>13</td>\n      <td>0</td>\n      <td>13</td>\n      <td>8</td>\n      <td>0</td>\n      <td>2</td>\n      <td>1</td>\n    </tr>\n    <tr>\n      <th>1</th>\n      <td>2017-08-19</td>\n      <td>bundesliga</td>\n      <td>Hamburg</td>\n      <td>Augsburg</td>\n      <td>NaN</td>\n      <td>7</td>\n      <td>16</td>\n      <td>0</td>\n      <td>13</td>\n      <td>1</td>\n      <td>3</td>\n      <td>3</td>\n      <td>18</td>\n      <td>0</td>\n      <td>11</td>\n      <td>5</td>\n      <td>0</td>\n      <td>1</td>\n      <td>4</td>\n    </tr>\n    <tr>\n      <th>2</th>\n      <td>2017-08-19</td>\n      <td>bundesliga</td>\n      <td>Hertha</td>\n      <td>Stuttgart</td>\n      <td>NaN</td>\n      <td>1</td>\n      <td>12</td>\n      <td>0</td>\n      <td>9</td>\n      <td>2</td>\n      <td>1</td>\n      <td>5</td>\n      <td>18</td>\n      <td>0</td>\n      <td>10</td>\n      <td>3</td>\n      <td>0</td>\n      <td>0</td>\n      <td>2</td>\n    </tr>\n    <tr>\n      <th>3</th>\n      <td>2017-08-19</td>\n      <td>bundesliga</td>\n      <td>Hoffenheim</td>\n      <td>Werder Bremen</td>\n      <td>NaN</td>\n      <td>4</td>\n      <td>15</td>\n      <td>0</td>\n      <td>11</td>\n      <td>2</td>\n      <td>3</td>\n      <td>6</td>\n      <td>17</td>\n      <td>0</td>\n      <td>14</td>\n      <td>3</td>\n      <td>0</td>\n      <td>0</td>\n      <td>1</td>\n    </tr>\n    <tr>\n      <th>4</th>\n      <td>2017-08-19</td>\n      <td>bundesliga</td>\n      <td>Mainz</td>\n      <td>Hannover</td>\n      <td>NaN</td>\n      <td>1</td>\n      <td>14</td>\n      <td>0</td>\n      <td>6</td>\n      <td>2</td>\n      <td>5</td>\n      <td>13</td>\n      <td>18</td>\n      <td>0</td>\n      <td>14</td>\n      <td>6</td>\n      <td>0</td>\n      <td>0</td>\n      <td>3</td>\n    </tr>\n    <tr>\n      <th>...</th>\n      <td>...</td>\n      <td>...</td>\n      <td>...</td>\n      <td>...</td>\n      <td>...</td>\n      <td>...</td>\n      <td>...</td>\n      <td>...</td>\n      <td>...</td>\n      <td>...</td>\n      <td>...</td>\n      <td>...</td>\n      <td>...</td>\n      <td>...</td>\n      <td>...</td>\n      <td>...</td>\n      <td>...</td>\n      <td>...</td>\n      <td>...</td>\n    </tr>\n    <tr>\n      <th>375</th>\n      <td>2018-05-20</td>\n      <td>serie-a</td>\n      <td>Milan</td>\n      <td>Fiorentina</td>\n      <td>NaN</td>\n      <td>1</td>\n      <td>5</td>\n      <td>1</td>\n      <td>9</td>\n      <td>3</td>\n      <td>1</td>\n      <td>6</td>\n      <td>10</td>\n      <td>0</td>\n      <td>18</td>\n      <td>11</td>\n      <td>1</td>\n      <td>2</td>\n      <td>2</td>\n    </tr>\n    <tr>\n      <th>376</th>\n      <td>2018-05-20</td>\n      <td>serie-a</td>\n      <td>Napoli</td>\n      <td>Crotone</td>\n      <td>NaN</td>\n      <td>9</td>\n      <td>9</td>\n      <td>0</td>\n      <td>9</td>\n      <td>4</td>\n      <td>0</td>\n      <td>6</td>\n      <td>3</td>\n      <td>0</td>\n      <td>19</td>\n      <td>9</td>\n      <td>0</td>\n      <td>2</td>\n      <td>0</td>\n    </tr>\n    <tr>\n      <th>377</th>\n      <td>2018-05-20</td>\n      <td>serie-a</td>\n      <td>Sassuolo</td>\n      <td>Roma</td>\n      <td>NaN</td>\n      <td>9</td>\n      <td>8</td>\n      <td>0</td>\n      <td>15</td>\n      <td>6</td>\n      <td>1</td>\n      <td>5</td>\n      <td>14</td>\n      <td>0</td>\n      <td>16</td>\n      <td>3</td>\n      <td>1</td>\n      <td>0</td>\n      <td>1</td>\n    </tr>\n    <tr>\n      <th>378</th>\n      <td>2018-05-20</td>\n      <td>serie-a</td>\n      <td>Spal</td>\n      <td>Sampdoria</td>\n      <td>NaN</td>\n      <td>3</td>\n      <td>11</td>\n      <td>0</td>\n      <td>9</td>\n      <td>3</td>\n      <td>4</td>\n      <td>5</td>\n      <td>10</td>\n      <td>0</td>\n      <td>16</td>\n      <td>6</td>\n      <td>0</td>\n      <td>1</td>\n      <td>1</td>\n    </tr>\n    <tr>\n      <th>379</th>\n      <td>2018-05-20</td>\n      <td>serie-a</td>\n      <td>Udinese</td>\n      <td>Bologna</td>\n      <td>NaN</td>\n      <td>2</td>\n      <td>11</td>\n      <td>0</td>\n      <td>8</td>\n      <td>5</td>\n      <td>2</td>\n      <td>10</td>\n      <td>9</td>\n      <td>0</td>\n      <td>20</td>\n      <td>5</td>\n      <td>0</td>\n      <td>1</td>\n      <td>0</td>\n    </tr>\n  </tbody>\n</table>\n<p>1826 rows × 19 columns</p>\n</div>"
     },
     "metadata": {},
     "execution_count": 38
    }
   ],
   "source": [
    "test_df"
   ]
  },
  {
   "cell_type": "code",
   "execution_count": 39,
   "metadata": {},
   "outputs": [],
   "source": [
    "test_df = test_df.drop(['Referee'], axis=1, inplace=False) # drop Referee column"
   ]
  },
  {
   "source": [
    "Let us delete any duplicated rows in both the dataframes, if any exist."
   ],
   "cell_type": "markdown",
   "metadata": {}
  },
  {
   "cell_type": "code",
   "execution_count": 40,
   "metadata": {},
   "outputs": [
    {
     "output_type": "execute_result",
     "data": {
      "text/plain": [
       "array([False])"
      ]
     },
     "metadata": {},
     "execution_count": 40
    }
   ],
   "source": [
    "np.unique(train_df.duplicated(keep=False)) # check for duplicate rows in train_df"
   ]
  },
  {
   "cell_type": "code",
   "execution_count": 41,
   "metadata": {},
   "outputs": [
    {
     "output_type": "execute_result",
     "data": {
      "text/plain": [
       "array([False])"
      ]
     },
     "metadata": {},
     "execution_count": 41
    }
   ],
   "source": [
    "np.unique(test_df.duplicated(keep=False)) # check for duplicate rows in test_df"
   ]
  },
  {
   "source": [
    "Thus, there are no duplicate rows in train_df and test_df. "
   ],
   "cell_type": "markdown",
   "metadata": {}
  },
  {
   "source": [
    "Next, let's verify the number of null values in the two dataframes."
   ],
   "cell_type": "markdown",
   "metadata": {}
  },
  {
   "cell_type": "code",
   "execution_count": 42,
   "metadata": {},
   "outputs": [
    {
     "output_type": "execute_result",
     "data": {
      "text/plain": [
       "7"
      ]
     },
     "metadata": {},
     "execution_count": 42
    }
   ],
   "source": [
    "train_df.isnull().sum().sum()"
   ]
  },
  {
   "cell_type": "code",
   "execution_count": 45,
   "metadata": {},
   "outputs": [
    {
     "output_type": "execute_result",
     "data": {
      "text/plain": [
       "Date        0\n",
       "league      0\n",
       "HomeTeam    0\n",
       "AwayTeam    0\n",
       "AC          0\n",
       "AF          2\n",
       "AR          0\n",
       "AS          0\n",
       "AST         0\n",
       "AY          0\n",
       "HC          0\n",
       "HF          2\n",
       "HR          0\n",
       "HS          0\n",
       "HST         0\n",
       "HTAG        1\n",
       "HTHG        1\n",
       "HY          1\n",
       "FTR         0\n",
       "dtype: int64"
      ]
     },
     "metadata": {},
     "execution_count": 45
    }
   ],
   "source": [
    "train_df.isnull().sum() # list out columns that have null values"
   ]
  },
  {
   "source": [
    "We will be imputing these values now."
   ],
   "cell_type": "markdown",
   "metadata": {}
  },
  {
   "cell_type": "code",
   "execution_count": 43,
   "metadata": {},
   "outputs": [
    {
     "output_type": "execute_result",
     "data": {
      "text/plain": [
       "0"
      ]
     },
     "metadata": {},
     "execution_count": 43
    }
   ],
   "source": [
    "test_df.isnull().sum().sum()"
   ]
  },
  {
   "cell_type": "code",
   "execution_count": null,
   "metadata": {},
   "outputs": [],
   "source": []
  }
 ]
}